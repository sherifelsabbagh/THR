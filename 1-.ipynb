{
 "cells": [
  {
   "cell_type": "markdown",
   "id": "fea4f591-cc96-456e-9896-3c90b97bd5ef",
   "metadata": {},
   "source": [
    "This project is an implementation of the paper **\"Classification of thyroid hormone receptor agonists and antagonists using statistical learning approaches\".** A QSAR classification model is built for differentiating between Thyroid receptor (TR) agonists and antagonists. The dataset is collected from the literature. "
   ]
  },
  {
   "cell_type": "code",
   "execution_count": 1,
   "id": "ca9ac42c-d5fe-46ff-a4a7-3a6cdac16f05",
   "metadata": {},
   "outputs": [],
   "source": [
    "import pandas as pd \n",
    "import seaborn as sns\n",
    "from rdkit import Chem\n",
    "from rdkit.Chem import PandasTools\n",
    "from rdkit.Chem import Descriptors\n",
    "import matplotlib.pyplot as plt\n",
    "from rdkit.Chem import MACCSkeys\n",
    "from rdkit.Chem import AllChem\n",
    "import numpy as np\n",
    "from rdkit.Chem import Draw"
   ]
  },
  {
   "cell_type": "code",
   "execution_count": 2,
   "id": "2332873b-6b40-4cc8-932a-fb17b6af7d03",
   "metadata": {},
   "outputs": [],
   "source": [
    "df = pd.read_csv(\"dataset.csv\")"
   ]
  },
  {
   "cell_type": "code",
   "execution_count": 3,
   "id": "4e088131-6228-4a7f-ba49-60a22a45f191",
   "metadata": {},
   "outputs": [
    {
     "data": {
      "text/html": [
       "<div>\n",
       "<style scoped>\n",
       "    .dataframe tbody tr th:only-of-type {\n",
       "        vertical-align: middle;\n",
       "    }\n",
       "\n",
       "    .dataframe tbody tr th {\n",
       "        vertical-align: top;\n",
       "    }\n",
       "\n",
       "    .dataframe thead th {\n",
       "        text-align: right;\n",
       "    }\n",
       "</style>\n",
       "<table border=\"1\" class=\"dataframe\">\n",
       "  <thead>\n",
       "    <tr style=\"text-align: right;\">\n",
       "      <th></th>\n",
       "      <th>smiles</th>\n",
       "      <th>label</th>\n",
       "    </tr>\n",
       "  </thead>\n",
       "  <tbody>\n",
       "    <tr>\n",
       "      <th>0</th>\n",
       "      <td>OC1=CC=C([C@@H](CCCCCCCCCCC(N(C)CCCC)=O)C2=C(C...</td>\n",
       "      <td>-</td>\n",
       "    </tr>\n",
       "    <tr>\n",
       "      <th>1</th>\n",
       "      <td>OC1=C(C(C)C)C=C(CC2=C(C)C=C(OCC(O)=O)C=C2C)C=C...</td>\n",
       "      <td>-</td>\n",
       "    </tr>\n",
       "    <tr>\n",
       "      <th>2</th>\n",
       "      <td>OC1=CC=C(N(C)C2=C(C)C=C(C[C@H](S3)C(NC3=O)=O)C...</td>\n",
       "      <td>-</td>\n",
       "    </tr>\n",
       "    <tr>\n",
       "      <th>3</th>\n",
       "      <td>OC1=CC=C(N(CC2CC2)C3=C(C)C=C(C[C@H](S4)C(NC4=O...</td>\n",
       "      <td>-</td>\n",
       "    </tr>\n",
       "    <tr>\n",
       "      <th>4</th>\n",
       "      <td>OC1=CC=C(N(CCCCCC)C2=C(C)C=C(C[C@H](S3)C(NC3=O...</td>\n",
       "      <td>-</td>\n",
       "    </tr>\n",
       "  </tbody>\n",
       "</table>\n",
       "</div>"
      ],
      "text/plain": [
       "                                              smiles label\n",
       "0  OC1=CC=C([C@@H](CCCCCCCCCCC(N(C)CCCC)=O)C2=C(C...     -\n",
       "1  OC1=C(C(C)C)C=C(CC2=C(C)C=C(OCC(O)=O)C=C2C)C=C...     -\n",
       "2  OC1=CC=C(N(C)C2=C(C)C=C(C[C@H](S3)C(NC3=O)=O)C...     -\n",
       "3  OC1=CC=C(N(CC2CC2)C3=C(C)C=C(C[C@H](S4)C(NC4=O...     -\n",
       "4  OC1=CC=C(N(CCCCCC)C2=C(C)C=C(C[C@H](S3)C(NC3=O...     -"
      ]
     },
     "execution_count": 3,
     "metadata": {},
     "output_type": "execute_result"
    }
   ],
   "source": [
    "df.head()"
   ]
  },
  {
   "cell_type": "code",
   "execution_count": 4,
   "id": "9344aff6-225b-408c-b538-bd7a19e7a589",
   "metadata": {},
   "outputs": [
    {
     "data": {
      "text/plain": [
       "(259, 2)"
      ]
     },
     "execution_count": 4,
     "metadata": {},
     "output_type": "execute_result"
    }
   ],
   "source": [
    "df.shape"
   ]
  },
  {
   "cell_type": "markdown",
   "id": "8acc86b2-88c5-4ca9-8ebc-9700c77f2ef3",
   "metadata": {},
   "source": [
    "+ The dataset is comprised of 259 molecules."
   ]
  },
  {
   "cell_type": "code",
   "execution_count": 5,
   "id": "afd7900b-40b5-46ca-a86b-9c4b7b702fdc",
   "metadata": {},
   "outputs": [
    {
     "data": {
      "text/plain": [
       "0      -\n",
       "1      -\n",
       "2      -\n",
       "3      -\n",
       "4      -\n",
       "      ..\n",
       "254    +\n",
       "255    +\n",
       "256    +\n",
       "257    +\n",
       "258    +\n",
       "Name: label, Length: 259, dtype: object"
      ]
     },
     "execution_count": 5,
     "metadata": {},
     "output_type": "execute_result"
    }
   ],
   "source": [
    "df.label"
   ]
  },
  {
   "cell_type": "markdown",
   "id": "8aaabe32-11ec-48e9-8c2f-cb30cac5e698",
   "metadata": {},
   "source": [
    "+ The label is designated as (+) and (-) indicating an **agonist** and **antagonist** respectively. We will change them to (1) and (0)"
   ]
  },
  {
   "cell_type": "code",
   "execution_count": 6,
   "id": "bbdd54e7-3aa8-4c04-9393-b3a453ebf8a2",
   "metadata": {},
   "outputs": [],
   "source": [
    "df[\"label\"].replace(to_replace=\"-\",value=\"0\",inplace=True)"
   ]
  },
  {
   "cell_type": "code",
   "execution_count": 7,
   "id": "9678d768-86e4-481e-98a5-ab9090b70927",
   "metadata": {},
   "outputs": [],
   "source": [
    "df[\"label\"].replace(to_replace=\"+\",value=\"1\",inplace=True)"
   ]
  },
  {
   "cell_type": "code",
   "execution_count": 8,
   "id": "2e6cbae4-8319-43f8-8ef2-bc5c1669473b",
   "metadata": {},
   "outputs": [
    {
     "data": {
      "text/html": [
       "<div>\n",
       "<style scoped>\n",
       "    .dataframe tbody tr th:only-of-type {\n",
       "        vertical-align: middle;\n",
       "    }\n",
       "\n",
       "    .dataframe tbody tr th {\n",
       "        vertical-align: top;\n",
       "    }\n",
       "\n",
       "    .dataframe thead th {\n",
       "        text-align: right;\n",
       "    }\n",
       "</style>\n",
       "<table border=\"1\" class=\"dataframe\">\n",
       "  <thead>\n",
       "    <tr style=\"text-align: right;\">\n",
       "      <th></th>\n",
       "      <th>smiles</th>\n",
       "      <th>label</th>\n",
       "    </tr>\n",
       "  </thead>\n",
       "  <tbody>\n",
       "    <tr>\n",
       "      <th>0</th>\n",
       "      <td>OC1=CC=C([C@@H](CCCCCCCCCCC(N(C)CCCC)=O)C2=C(C...</td>\n",
       "      <td>0</td>\n",
       "    </tr>\n",
       "    <tr>\n",
       "      <th>1</th>\n",
       "      <td>OC1=C(C(C)C)C=C(CC2=C(C)C=C(OCC(O)=O)C=C2C)C=C...</td>\n",
       "      <td>0</td>\n",
       "    </tr>\n",
       "    <tr>\n",
       "      <th>2</th>\n",
       "      <td>OC1=CC=C(N(C)C2=C(C)C=C(C[C@H](S3)C(NC3=O)=O)C...</td>\n",
       "      <td>0</td>\n",
       "    </tr>\n",
       "    <tr>\n",
       "      <th>3</th>\n",
       "      <td>OC1=CC=C(N(CC2CC2)C3=C(C)C=C(C[C@H](S4)C(NC4=O...</td>\n",
       "      <td>0</td>\n",
       "    </tr>\n",
       "    <tr>\n",
       "      <th>4</th>\n",
       "      <td>OC1=CC=C(N(CCCCCC)C2=C(C)C=C(C[C@H](S3)C(NC3=O...</td>\n",
       "      <td>0</td>\n",
       "    </tr>\n",
       "  </tbody>\n",
       "</table>\n",
       "</div>"
      ],
      "text/plain": [
       "                                              smiles label\n",
       "0  OC1=CC=C([C@@H](CCCCCCCCCCC(N(C)CCCC)=O)C2=C(C...     0\n",
       "1  OC1=C(C(C)C)C=C(CC2=C(C)C=C(OCC(O)=O)C=C2C)C=C...     0\n",
       "2  OC1=CC=C(N(C)C2=C(C)C=C(C[C@H](S3)C(NC3=O)=O)C...     0\n",
       "3  OC1=CC=C(N(CC2CC2)C3=C(C)C=C(C[C@H](S4)C(NC4=O...     0\n",
       "4  OC1=CC=C(N(CCCCCC)C2=C(C)C=C(C[C@H](S3)C(NC3=O...     0"
      ]
     },
     "execution_count": 8,
     "metadata": {},
     "output_type": "execute_result"
    }
   ],
   "source": [
    "df.head()"
   ]
  },
  {
   "cell_type": "code",
   "execution_count": 9,
   "id": "6dfd51d5-69be-441e-860e-7be8e2b209df",
   "metadata": {},
   "outputs": [
    {
     "name": "stdout",
     "output_type": "stream",
     "text": [
      "<class 'pandas.core.frame.DataFrame'>\n",
      "RangeIndex: 259 entries, 0 to 258\n",
      "Data columns (total 2 columns):\n",
      " #   Column  Non-Null Count  Dtype \n",
      "---  ------  --------------  ----- \n",
      " 0   smiles  259 non-null    object\n",
      " 1   label   258 non-null    object\n",
      "dtypes: object(2)\n",
      "memory usage: 4.2+ KB\n"
     ]
    }
   ],
   "source": [
    "df.info()"
   ]
  },
  {
   "cell_type": "markdown",
   "id": "9df7f3de-e558-4b0e-bd36-ec5f8c3c6ec0",
   "metadata": {},
   "source": [
    "+ The label column has one missing value. After checking, it should be filled with (1)"
   ]
  },
  {
   "cell_type": "code",
   "execution_count": 10,
   "id": "6e46e387-51d6-46f2-bb14-3318dcbc9138",
   "metadata": {},
   "outputs": [],
   "source": [
    "df.fillna(value=\"1\",inplace=True)"
   ]
  },
  {
   "cell_type": "code",
   "execution_count": 11,
   "id": "7b79676e-8f84-403c-bfe3-c2b4301ba974",
   "metadata": {},
   "outputs": [
    {
     "name": "stdout",
     "output_type": "stream",
     "text": [
      "<class 'pandas.core.frame.DataFrame'>\n",
      "RangeIndex: 259 entries, 0 to 258\n",
      "Data columns (total 2 columns):\n",
      " #   Column  Non-Null Count  Dtype \n",
      "---  ------  --------------  ----- \n",
      " 0   smiles  259 non-null    object\n",
      " 1   label   259 non-null    object\n",
      "dtypes: object(2)\n",
      "memory usage: 4.2+ KB\n"
     ]
    }
   ],
   "source": [
    "df.info()"
   ]
  },
  {
   "cell_type": "code",
   "execution_count": 12,
   "id": "973c54e3-5d23-4ca3-8386-d5e19c902fa2",
   "metadata": {},
   "outputs": [
    {
     "data": {
      "text/plain": [
       "<AxesSubplot:xlabel='label', ylabel='count'>"
      ]
     },
     "execution_count": 12,
     "metadata": {},
     "output_type": "execute_result"
    },
    {
     "data": {
      "image/png": "[encoded data removed]",
      "text/plain": [
       "<Figure size 432x288 with 1 Axes>"
      ]
     },
     "metadata": {
      "needs_background": "light"
     },
     "output_type": "display_data"
    }
   ],
   "source": [
    "sns.countplot(x=df[\"label\"])"
   ]
  },
  {
   "cell_type": "code",
   "execution_count": 13,
   "id": "14b5c95c-5ea2-4e37-9f82-98a4a87d0a23",
   "metadata": {},
   "outputs": [
    {
     "data": {
      "text/plain": [
       "1    198\n",
       "0     61\n",
       "Name: label, dtype: int64"
      ]
     },
     "execution_count": 13,
     "metadata": {},
     "output_type": "execute_result"
    }
   ],
   "source": [
    "df[\"label\"].value_counts()"
   ]
  },
  {
   "cell_type": "markdown",
   "id": "9367fbd9-818b-4459-a764-fe4b336863c5",
   "metadata": {},
   "source": [
    "+ The dataset contains more agonists than antagonists."
   ]
  },
  {
   "cell_type": "markdown",
   "id": "2193622f-911a-4b5d-ae0a-4912a2a956c2",
   "metadata": {},
   "source": [
    "### Chemical Space analysis"
   ]
  },
  {
   "cell_type": "code",
   "execution_count": 14,
   "id": "8e93311a-e97d-40e8-bf44-69afdc9dbe74",
   "metadata": {},
   "outputs": [
    {
     "data": {
      "text/html": [
       "<div>\n",
       "<style scoped>\n",
       "    .dataframe tbody tr th:only-of-type {\n",
       "        vertical-align: middle;\n",
       "    }\n",
       "\n",
       "    .dataframe tbody tr th {\n",
       "        vertical-align: top;\n",
       "    }\n",
       "\n",
       "    .dataframe thead th {\n",
       "        text-align: right;\n",
       "    }\n",
       "</style>\n",
       "<table border=\"1\" class=\"dataframe\">\n",
       "  <thead>\n",
       "    <tr style=\"text-align: right;\">\n",
       "      <th></th>\n",
       "      <th>smiles</th>\n",
       "      <th>label</th>\n",
       "    </tr>\n",
       "  </thead>\n",
       "  <tbody>\n",
       "    <tr>\n",
       "      <th>0</th>\n",
       "      <td>OC1=CC=C([C@@H](CCCCCCCCCCC(N(C)CCCC)=O)C2=C(C...</td>\n",
       "      <td>0</td>\n",
       "    </tr>\n",
       "    <tr>\n",
       "      <th>1</th>\n",
       "      <td>OC1=C(C(C)C)C=C(CC2=C(C)C=C(OCC(O)=O)C=C2C)C=C...</td>\n",
       "      <td>0</td>\n",
       "    </tr>\n",
       "    <tr>\n",
       "      <th>2</th>\n",
       "      <td>OC1=CC=C(N(C)C2=C(C)C=C(C[C@H](S3)C(NC3=O)=O)C...</td>\n",
       "      <td>0</td>\n",
       "    </tr>\n",
       "    <tr>\n",
       "      <th>3</th>\n",
       "      <td>OC1=CC=C(N(CC2CC2)C3=C(C)C=C(C[C@H](S4)C(NC4=O...</td>\n",
       "      <td>0</td>\n",
       "    </tr>\n",
       "    <tr>\n",
       "      <th>4</th>\n",
       "      <td>OC1=CC=C(N(CCCCCC)C2=C(C)C=C(C[C@H](S3)C(NC3=O...</td>\n",
       "      <td>0</td>\n",
       "    </tr>\n",
       "  </tbody>\n",
       "</table>\n",
       "</div>"
      ],
      "text/plain": [
       "                                              smiles label\n",
       "0  OC1=CC=C([C@@H](CCCCCCCCCCC(N(C)CCCC)=O)C2=C(C...     0\n",
       "1  OC1=C(C(C)C)C=C(CC2=C(C)C=C(OCC(O)=O)C=C2C)C=C...     0\n",
       "2  OC1=CC=C(N(C)C2=C(C)C=C(C[C@H](S3)C(NC3=O)=O)C...     0\n",
       "3  OC1=CC=C(N(CC2CC2)C3=C(C)C=C(C[C@H](S4)C(NC4=O...     0\n",
       "4  OC1=CC=C(N(CCCCCC)C2=C(C)C=C(C[C@H](S3)C(NC3=O...     0"
      ]
     },
     "execution_count": 14,
     "metadata": {},
     "output_type": "execute_result"
    }
   ],
   "source": [
    "df.head()"
   ]
  },
  {
   "cell_type": "code",
   "execution_count": 15,
   "id": "77774ec9-720d-4787-924c-6c40eb41b393",
   "metadata": {},
   "outputs": [
    {
     "name": "stderr",
     "output_type": "stream",
     "text": [
      "RDKit ERROR: [13:58:40] SMILES Parse Error: syntax error while parsing: ClC[14]=C(C(Cl)=CC(CC(O)=O)=C@14)OC[4]=CC=C(NC(C[S=I]H(C)CC)=O)C(Br)=C@5\n",
      "[13:58:40] SMILES Parse Error: syntax error while parsing: ClC[14]=C(C(Cl)=CC(CC(O)=O)=C@14)OC[4]=CC=C(NC(C[S=I]H(C)CC)=O)C(Br)=C@5\n",
      "RDKit ERROR: [13:58:40] SMILES Parse Error: Failed parsing SMILES 'ClC[14]=C(C(Cl)=CC(CC(O)=O)=C@14)OC[4]=CC=C(NC(C[S=I]H(C)CC)=O)C(Br)=C@5' for input: 'ClC[14]=C(C(Cl)=CC(CC(O)=O)=C@14)OC[4]=CC=C(NC(C[S=I]H(C)CC)=O)C(Br)=C@5'\n",
      "[13:58:40] SMILES Parse Error: Failed parsing SMILES 'ClC[14]=C(C(Cl)=CC(CC(O)=O)=C@14)OC[4]=CC=C(NC(C[S=I]H(C)CC)=O)C(Br)=C@5' for input: 'ClC[14]=C(C(Cl)=CC(CC(O)=O)=C@14)OC[4]=CC=C(NC(C[S=I]H(C)CC)=O)C(Br)=C@5'\n"
     ]
    }
   ],
   "source": [
    "PandasTools.AddMoleculeColumnToFrame(df,\"smiles\")"
   ]
  },
  {
   "cell_type": "code",
   "execution_count": 16,
   "id": "9a74e789-ae96-4d94-8b1e-e86267e28154",
   "metadata": {},
   "outputs": [
    {
     "data": {
      "text/html": [
       "<div>\n",
       "<style scoped>\n",
       "    .dataframe tbody tr th:only-of-type {\n",
       "        vertical-align: middle;\n",
       "    }\n",
       "\n",
       "    .dataframe tbody tr th {\n",
       "        vertical-align: top;\n",
       "    }\n",
       "\n",
       "    .dataframe thead th {\n",
       "        text-align: right;\n",
       "    }\n",
       "</style>\n",
       "<table border=\"1\" class=\"dataframe\">\n",
       "  <thead>\n",
       "    <tr style=\"text-align: right;\">\n",
       "      <th></th>\n",
       "      <th>smiles</th>\n",
       "      <th>label</th>\n",
       "      <th>ROMol</th>\n",
       "    </tr>\n",
       "  </thead>\n",
       "  <tbody>\n",
       "    <tr>\n",
       "      <th>0</th>\n",
       "      <td>OC1=CC=C([C@@H](CCCCCCCCCCC(N(C)CCCC)=O)C2=C(C...</td>\n",
       "      <td>0</td>\n",
       "      <td><img data-content=\"rdkit/molecule\" src=\"data:image/png;base64,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\" alt=\"Mol\"/></td>\n",
       "    </tr>\n",
       "    <tr>\n",
       "      <th>1</th>\n",
       "      <td>OC1=C(C(C)C)C=C(CC2=C(C)C=C(OCC(O)=O)C=C2C)C=C...</td>\n",
       "      <td>0</td>\n",
       "      <td><img data-content=\"rdkit/molecule\" src=\"data:image/png;base64,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\" alt=\"Mol\"/></td>\n",
       "    </tr>\n",
       "    <tr>\n",
       "      <th>2</th>\n",
       "      <td>OC1=CC=C(N(C)C2=C(C)C=C(C[C@H](S3)C(NC3=O)=O)C...</td>\n",
       "      <td>0</td>\n",
       "      <td><img data-content=\"rdkit/molecule\" src=\"data:image/png;base64,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\" alt=\"Mol\"/></td>\n",
       "    </tr>\n",
       "    <tr>\n",
       "      <th>3</th>\n",
       "      <td>OC1=CC=C(N(CC2CC2)C3=C(C)C=C(C[C@H](S4)C(NC4=O...</td>\n",
       "      <td>0</td>\n",
       "      <td><img data-content=\"rdkit/molecule\" src=\"data:image/png;base64,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\" alt=\"Mol\"/></td>\n",
       "    </tr>\n",
       "    <tr>\n",
       "      <th>4</th>\n",
       "      <td>OC1=CC=C(N(CCCCCC)C2=C(C)C=C(C[C@H](S3)C(NC3=O...</td>\n",
       "      <td>0</td>\n",
       "      <td><img data-content=\"rdkit/molecule\" src=\"data:image/png;base64,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\" alt=\"Mol\"/></td>\n",
       "    </tr>\n",
       "  </tbody>\n",
       "</table>\n",
       "</div>"
      ],
      "text/plain": [
       "                                              smiles label  \\\n",
       "0  OC1=CC=C([C@@H](CCCCCCCCCCC(N(C)CCCC)=O)C2=C(C...     0   \n",
       "1  OC1=C(C(C)C)C=C(CC2=C(C)C=C(OCC(O)=O)C=C2C)C=C...     0   \n",
       "2  OC1=CC=C(N(C)C2=C(C)C=C(C[C@H](S3)C(NC3=O)=O)C...     0   \n",
       "3  OC1=CC=C(N(CC2CC2)C3=C(C)C=C(C[C@H](S4)C(NC4=O...     0   \n",
       "4  OC1=CC=C(N(CCCCCC)C2=C(C)C=C(C[C@H](S3)C(NC3=O...     0   \n",
       "\n",
       "                                               ROMol  \n",
       "0  <img data-content=\"rdkit/molecule\" src=\"data:i...  \n",
       "1  <img data-content=\"rdkit/molecule\" src=\"data:i...  \n",
       "2  <img data-content=\"rdkit/molecule\" src=\"data:i...  \n",
       "3  <img data-content=\"rdkit/molecule\" src=\"data:i...  \n",
       "4  <img data-content=\"rdkit/molecule\" src=\"data:i...  "
      ]
     },
     "execution_count": 16,
     "metadata": {},
     "output_type": "execute_result"
    }
   ],
   "source": [
    "df.head()"
   ]
  },
  {
   "cell_type": "code",
   "execution_count": 17,
   "id": "a7a86844-f2b9-4ff0-ab69-690a70857c93",
   "metadata": {},
   "outputs": [
    {
     "name": "stdout",
     "output_type": "stream",
     "text": [
      "<class 'pandas.core.frame.DataFrame'>\n",
      "RangeIndex: 259 entries, 0 to 258\n",
      "Data columns (total 3 columns):\n",
      " #   Column  Non-Null Count  Dtype \n",
      "---  ------  --------------  ----- \n",
      " 0   smiles  259 non-null    object\n",
      " 1   label   259 non-null    object\n",
      " 2   ROMol   258 non-null    object\n",
      "dtypes: object(3)\n",
      "memory usage: 6.2+ KB\n"
     ]
    }
   ],
   "source": [
    "df.info()"
   ]
  },
  {
   "cell_type": "code",
   "execution_count": 18,
   "id": "ae964d45-4f4b-495b-86b0-31cfe06e8374",
   "metadata": {},
   "outputs": [],
   "source": [
    "df.dropna(axis=0,inplace=True)"
   ]
  },
  {
   "cell_type": "code",
   "execution_count": 19,
   "id": "7122f2ef-b6dc-4a1a-974d-47f69ce7305a",
   "metadata": {},
   "outputs": [
    {
     "name": "stdout",
     "output_type": "stream",
     "text": [
      "<class 'pandas.core.frame.DataFrame'>\n",
      "Int64Index: 258 entries, 0 to 258\n",
      "Data columns (total 3 columns):\n",
      " #   Column  Non-Null Count  Dtype \n",
      "---  ------  --------------  ----- \n",
      " 0   smiles  258 non-null    object\n",
      " 1   label   258 non-null    object\n",
      " 2   ROMol   258 non-null    object\n",
      "dtypes: object(3)\n",
      "memory usage: 8.1+ KB\n"
     ]
    }
   ],
   "source": [
    "df.info()"
   ]
  },
  {
   "cell_type": "code",
   "execution_count": 20,
   "id": "383b4b50-a8a4-4354-ac44-e4c7b4b42394",
   "metadata": {},
   "outputs": [
    {
     "data": {
      "text/html": [
       "<div>\n",
       "<style scoped>\n",
       "    .dataframe tbody tr th:only-of-type {\n",
       "        vertical-align: middle;\n",
       "    }\n",
       "\n",
       "    .dataframe tbody tr th {\n",
       "        vertical-align: top;\n",
       "    }\n",
       "\n",
       "    .dataframe thead th {\n",
       "        text-align: right;\n",
       "    }\n",
       "</style>\n",
       "<table border=\"1\" class=\"dataframe\">\n",
       "  <thead>\n",
       "    <tr style=\"text-align: right;\">\n",
       "      <th></th>\n",
       "      <th>smiles</th>\n",
       "      <th>label</th>\n",
       "      <th>ROMol</th>\n",
       "    </tr>\n",
       "  </thead>\n",
       "  <tbody>\n",
       "    <tr>\n",
       "      <th>0</th>\n",
       "      <td>OC1=CC=C([C@@H](CCCCCCCCCCC(N(C)CCCC)=O)C2=C(C...</td>\n",
       "      <td>0</td>\n",
       "      <td>&lt;img data-content=\"rdkit/molecule\" src=\"data:image/png;base64,iVBORw0KGgoAAAANSUhEUgAAAMgAAADICAIAAAAiOjnJAAAABmJLR0QA/wD/AP+gvaeTAAAVP0lEQVR4nO3de1BTR/sH8CdAgEBEhAh4ZUClokhtlargteAFxVdHjdR6Ka0MVKooVg1Kf5LXqTUOjuVtrTW+dpBqdaptbdFaFWuxoqUWFRFUUDRWLiKICkEgIdnfH9ue8qKEANlc4Pn8lTFnTzbh655z9uzu4RFCACFDszJ1BVDnhMFCTGCwEBMYLMQEBgsxgcFCTGCwEBMYLMQEBgsxgcFCTGCwEBMYLMQEBgsxgcFCTGCwEBMYLMQEBgsxgcFCTGCwEBMYLMQEBgsxgcFCTGCwEBMYLMQEBgsxgcFCTGCwEBMYLMQEBgsxgcFCTGCwEBMYLMQEBgsxgcFCTGCwEBMYLMQEBgsxgcFCTGCwEBMYLMQEBgsxgcFCTGCwEBMYLMQEBgsxYWPqCuhtzx4oL4f6eli7FpycTF0b1AoLabEUCigrg4QEWLIEPvusbWWvXYONG+GDD6CwEHbvBq0WAODzz1lUE3EspMUqLgYvLwAAb28oKYFffoFt2+Dzz6F//9bLJifDf/8LGg3ExICjI9DnM+bns61wl2chLZafH5w7B42NcOQIjBoFa9fC8eMwbBjs3g06HuRZUwMKBdjagpUV8PlgYwMAIJPBRx/Bw4dGq3vXZCHBcnaG2FjYtg2srODSJXB2htBQqK6G6Ojfo6Lu3LnTfPvaWvjPf2DQIIiMBI0Gqquhqgp4PACA+HjYsAHc3Iz/JboWYlmqqoiLCwEgzs7k3XdrR4/ubm8vEAhkMlljYyMhpLa29s6uXaRnTwJAAMi4caSoiGzZQrZuJY8ekbQ0otUSQsj335v4i3R2lhYsQkhJCfnXvwgAsbbeNH/+7Nmz6f+QMWPG7Nixo1evXoF9+hBbWzJ6NElLM3Vduy4LDBZ18OCF6dMBwNHRMTo62t3d3cHBgSZs1KhRpadPm7p+XZ3FBouQioqKBQsW0DB5eno6Ojr6+/sfOnRISw92yKR4RMdVlSU4fvx4dHR0cXGxQCCora3l0TN0ZGoWHywAuH379qBBgzw8PMrKykxdF/QXC+lu0KmxsREAnPA+jznpDMGqrq4GDJaZ6TzB6t69u6krgv7ReYKFLZZZ6QzBevr0KWCwzExnCBa2WGYIg4WY6AzBKikpAQyWmbHsYBUXF69cuTIlJWXy5MmvvfaaqauD/mEhI0ifV1r6fx9/nPTppw0NDdbW1gEBARMnTjR1ndA/LLDFqqiA+HgYONAhO1utVovF4ry8vM2bN5u6Wuh/WEiLdeIEXL4MEybApUsQHw91dWBltaJfv1nXrg0ZMsTUlUMvYAkt1tmzUFgI69fD0aNgbQ319RAWBtnZwi+/xFSZLUtosbKyIDwceDwIC4O7dyEvDzBPZs8SWixPTygsBAAoKABvb0yVRbCE8ViNjSCTAY8HAgGsXm3q2iC9WMKh0MYGrl6FrCzYv9/UVUH6soRDIQCUlkJx8V8zTpElsJBgVVcDAK4FYkEwWIgJyzi47H/pJScvryndutmbuiZITxZwVUgI4fP5Go1GrVbb4GmWhbCAQ6FSqdRoNI6OjpgqC2IBwcJxfJbI3IN17dq1ZcuWubq6KpXK3bt3m7o6SG8mneCvy5UrV2bNmkWnzNva2tLahoWFFRcXm7pqqHXmGKy8vLzFixdbWVkBgKOjY2xsbFlZmVwud3V1BQAnJ6fk5GSNRmPqaiJdzCtY+fn5ixcvtra2BgA7O7uoqKjS0lJCyJMnT/r06RMcHDx9+nTadI0bN66goMDU9UUtMpdgFRYWvvHGG7SVEggEq1atKisr497NyMhwdnYGAGdn59jY2N69e9PNuIX8kLkxi2A9e/Zs+/bt9FwqKirqhWdRZWVlc+bMoc1VYGBgeHg4fT1mzJjr168bv85IN7MIVl5eHgC4u7vfv39f95YHDhzo2bMnAAiFwmXLlvXr1w8ANm/erFarjVNVpCez6G6gc+S9vLy+/vpr3X0KCxYsKCgoiIqKUiqVN2/ezM3NdXFxSUhIuHfvnrEqiwAArly58uWXX+rawtTJJoSQn376CQCCg4MBwNHRUZ8i33//fVFRESGEXio+fPiQcR3RX/Ly8sRiMY/HEwgEJSUlLW1mFjdJaN+6vb096N3DPmvWLPqipqZG/1KoI/Ly8v79739/++23hBAHB4eYmBj6J3shSw0WVVdXp1Kp7Ozs7OzsWFUOAdy4cWPLli0HDhzQaDS2trYRERFSqbRXr146iphRsGj3epuChUuusXb37l2ZTPbFF1/QSC1dujQxMZF29+hmRsGigxfaESw8DjJy8uTJGTNmaDQaOzu7d999d/369X369NGzrBkFi94WxGCZierqaqlUam9vP2fOHKlU6u3t3abilh0sXMuPncePH2dlZfXt27eVboUWmFGwRowYMWnSpAEDBuhTRKVS2draYovFTgfPX03fQXr69Olff/1VIBDk5uYuWrRo7Nixurd/+PBhfHy8r69vXV0dBoudjl4YGbFrrbmjR4+OGDGCVoOeuQcEBOTm5ra0fWlpaWxsLO2VsLKySk1NnTBhAo/HGzZsWHV1tTFr3hUcP34cAKZNm9a+4qYJVnp6OrcAn5ubm0wmS0tL8/T0BAA+ny+RSOrr65tuX1FRIZFI6PO9eDxeSEhIeHg47bvq1q0bAHh6ep44ccIk36WzOnjwIADMnz+/fcWNHaxz585NmDCBRqpnz54ymezZs2f0rdraWolEQkfO+Pn5/f777/Tf8/PzuUjNnDnznXfeEQgEtNESi8XHjh3jMioWiysrK438jToruVwOAJGRke0rbrxgnTt3btKkSTQBIpFIJpPV1tY+v9n58+cHDx5MD46xsbFKpVKr1QYEBIwfPz4iIoKLVFhYWE5ODi2i0WjkcrmjoyMAuLu7Hz582GhfqhNLSkoCgNWrV7evuJGCVV9fT7trRSLR1q1blUqljo3r6uokEgkdRzpgwIAjR468//77XKMVFhZ2+fLl50sVFRW9/vrrNLhhYWE67o8ifWzcuBEApFJp+4obr8VKSUn56KOPampq9Nz+4sWLfn5+AECbIh6PN2fOnKtXr+oootVq5XI5PetydnaWy+WGqHgXtWrVKgDYvn17+4qbxbCZljQ0NEybNs3a2nrQoEFXrlzRs5RCoZg6dSpturgTNdRWU6ZMAYA9e/a0r7hZB4sQsmnTJgD44IMP2lowJSUlNjaWRZU6Pe6afcmSJe0e9m0WPe860OFW9OjWJhEREREREYavUKd28uRJqVSalZUFAB4eHiEhIb6+vu3blbkHC+8GGkdmZubGjRt/+eUXABCJRGvWrFmxYgW9YGofcw8W3rRhLTMzMzEx8cyZMwAgEonee++91atXd/wHx2B1XVqtNjQ09NSpUwDg6uq6Zs2a5cuXC4VCg+zcMoKFY0RZ2Lt3b3l5uZOTU1xcXFxcnGF/ZMsIFrZYLBw9evTq1av79u1btGiRwXdu+mEzuuHJOzv0P62HhweLnTNvsRoaGvbs2ePs7Hzr1q1169a19UIDWyx22P62hu1ba0qlUqWmptKx0rT2AwYMOHPmjP57+OOPP+hgh4aGBnb17LKmTl3g4+NfUHCbxc6ZBItGihtk7Ofnl5SUNHLkSADg8XiLFy+uqqrSvYfc3Fw63dba2vqbb75pawWePn26bdu2zMxMHcMGkYcHASClpUx2buBg0UgNHDiQRmro0KGpqakajebZs2fTp0+Pjo6mo/N69ep15MiRF+4hJydn9uzZdGKFUCiMj49/9OgRIeTBgwf0hW5KpTI5Odnd3R0A3NzcbGxsnh82qNupU6dycnJOnTqlfxEL5eBAAIjOgSbtZ7BgaTSaQ4cODRo0iEZqyJAhqamp3OJVdHAPj8dbuHAhN6pdLBZXVFRwe6CrrtFjn4ODA13Ij3s3Oztb9w1RpVIpk8lEIhHd+dixY+fNm8cNG7x48WKrX4EbMUa/RbPqtaqsrOzs2bOZmZlarVb/UqaiVhMAYm1NGFXWYMHasGED/YsOHjyYzsVu+q5arZbJZLS56t27d0xMDO2Ic3NzS01NvX79+gsX8nshpVK5c+fOpv9SW1ubnJzMXd0EBgampaXRt7hhg1ZWVnSNmhfuMyMjY/z48bS4SCSaOXMmvcjw8PCgSxXoxo2cFolE1tbWQUFBN2/ebP0n+5tGo8nIyLh9+zY3mNYIKisJAOnRg9X+DROsEydO9OvXz9XVdd++fTqW2MvLy+OGEYeGhnJNFz3w2dvbx8bG6ogUtXfv3iVLltDXDQ0NcrmcW0Rg9OjRXKQ4dXV1iYmJfD4fALy9vX/++eem754/fz4sLIwWd3V1TUxMfPLkCSGkqKiIrn4DOocNVlRUrFu3jhsxFhQU5ObmRlvcbdu2tbraoFarTUtLe+WVVwDAy8vL29u7TRc3hJBbt25VVlaWl5e3qRQh5OOPSX4+OX2aZGe3taheDBOs/fv3A0B4ePjDhw/r6up0bNnY2JiUlERHGE+dOnXv3r1CoVAoFLa0kN8LqVQqQkhdXR39iwLAqFGjdE+myMnJefXVV+mfPyoqqrq6+sKFC1ykunXrJpFIaKQ4dNggvZ59ftjgo0ePEhMTud7qkJCQ7OxsQsjjx4+joqLof5Xhw4e/cLAr3fl3333n7+9Pi/ft29fLy4u2rMuXL9dnOKRCoYiKirKxsZk4cWKPHj3aOqpx9myybRu5fJmkpLSpnL4ME6ydO3fSkxJ6wt7q9oWFhcHBwZcuXaL9n0KhsB0fumPHjt69e/v7+x86dEif0xqVSiWVSunSI3RFU/pCKpU2i1RTJSUl3JJJoaGh9+7dq66ulslk3B5CQkKeP4E7ceJE//794e9JR826S9LT07l5b/369UtOTq6vr1epVNzZgqen58mTJ1uqkkKhiIyMpG0wn8/nrr71XKtcpSK3b5P33ycbN5LvvjPvYMlkMgB48803AWDMmDH6F7x//z4962rHhyoUiuvXr7f1TJkejsPDw4VCoUQiabXjg9q7d6+LiwsAODo6crdpQ0NDdYxQbTrpaNiwYTR86enpAQEBXCuVnJzcrIG/du2ajklHf/75Z9OZlWKxuLCwkBBy6NAhfdYqV6lIaioZOJD4+JC4OFJTQ0JCyObNJCCA/PGHPj9DGxgmWAkJCQCwZMkSeoDTv2B+fj493zdINfTU2NjY0NDw+PHjNpV68ODBvHnzfHx8unXrFhQUlJGRoU+pjIwM2vliY2NDJ07S/0iffPJJS50garU6OTmZHuU9PDxoN155eblEImkaqWarkT948GDu3Ll0/8+vVa5Wqw8ceOjtTQAIABk6lNCx7MePk4kTCQCxsSEbNpC2dMu0wjDBWrFiBQDQEZtisVj/gr/99hs9QzJINYygqqqq1RV4m3n27JlEIrGzsxs+fHizqZQ6FBQUcBc3fn5+XKQWLlyo45IzLS2t2VrltBvIx8dn8OA3eTzi60tSU0nTi4raWhIXR6ytCQAJCblx4cKFNn27lhgmWLStosFaunSp/gVPnjwJAJMnTzZINcxZcXHxnTt3XjiVsiXcpKPAwMBmUyl1qKioWLhwIU3k0KFDuTOwl1566fDhypYe6PHbb8TPTzNsWBC9uNF/MlVLDBOs2bNnA8Bbb70FAHFxcfoXPHz4MADMnTvXINXolBQKRVlZWV5eXptKyeXy7t2706XL3d3d5XJ5qyuW19erEhISuH6ZzMzMDtTaQMtx0/vkWq0WcIErQ/P09PTw8Bg6dGibStnb2z99+vTll1+mr2nHhO4idnb8Dz/8MDs7e+TIkQqFgnTsCamGGTZDg+Xt7R0SEsLd1dG/IAbL4OgPS69k2zQ01N/f/8KFCxkZGa2uJ6WbAVqsyspK2mswZcqU9PR07gCvw7Fjx+jdQwwWI+1eLxgA+Hz+5MmTO1iBDgWrqqpKKpUOHDiwvLxcIBDMmDGj1WdVnj59etSoUTNnzkxISCgqKrpy5QpgsBhwUqv9evZ04PPBVD9vO8/NHj+u/vBD2tICQHBwcGBgIH3dUv9vswWMIiMj6T2W+fPnt/XMFLVu2TICQCIiCJ+v+vvWqjG1PVg1NUQmIz16EIC3x44NCQnJysqi73D9v927d2/a/3v16tWgoCAaKTc3t8jISO6GRp8+fVIY3VPo4hYu/CtYACQ62vif33KwDh8mCgUhhCQlkbt3iURCEhPJDz8QH5+/um8nT1Y915nWrP+X3nC4deuWjY2Nq6vr22+/zZ0S6t9ViNpj5kwCQN56iwCQtWuN//ktB2vHDnLjBiGEvPceiYkhNAGRkWTLFhIURP538Ekzz/f/bt26ddy4cRgp45kwgQCQRYsIANm0yfifzyMtdVd89hkUFYFIBGfOwMCBsGsXAMD69bBmDbi6tnrqVllZuXLlygMHDgCAu7t7eXk5jdS6detiYmI6sigA0ktuLpw6BUoluLrC2LHwyitG/nydV4VRUbBhAwweDO7ukJMD1dVQWqpPqgBAJBJ99dVXP/74o4uLi0AgcHJySkxMvH379po1azBVxnDuHPTvD2IxZGfD8OEmqECLbdnly4ROXkhPJ2o1+eILkpREmgxC1xO9jfjpp5+2v1VF7cCdsEul7firdVzLPe9c4xkSAgDwzjvtC25dXR0A0AG7yHisrKChAezsoKoKTNGPxXwmNN4NNI0VK2D9enB2Bj8/MMW5B/Ng4U0b0/D1he3bTfj5zBcFwWB1TUYKFi5w1dVgi4WYaLmD1BC0Wi2fzyeEqNVqOtEZdRFsWyz6JByhUIip6mrYBquiogL+fmYJ6lJYBUulUu3evXv8+PEuLi6PHj2Kjo6mjwJAXYXB+/IbGhp27dpFJ5gDQP/+/enED3xWZZdiyGA9v+oaXVVB97Rx1CkZJli6V10jzz2rsh2rPyLLYoBgnT17louUr6/vwYMHW1qUoqioiHvIqlgsbseqTshSGCBY+fn5VlZWXl5ecrm81aXGNBrNjh076IItIpHohx9+6HgFkBkyzKHw7NmzrUaqKYVCMWXKFB6P1xXWkO2a2Pa860AIOX/+fAen2yKzZbJgoc7N3J+lgywUBgsxgcFCTGCwEBMYLMQEBgsxgcFCTGCwEBMYLMQEBgsxgcFCTGCwEBMYLMQEBgsxgcFCTGCwEBMYLMQEBgsxgcFCTGCwEBMYLMQEBgsxgcFCTGCwEBMYLMQEBgsxgcFCTGCwEBMYLMQEBgsxgcFCTGCwEBMYLMQEBgsxgcFCTGCwEBMYLMQEBgsxgcFCTGCwEBMYLMQEBgsxgcFCTGCwEBP/D3+F8BeztBvqAAACsXpUWHRyZGtpdFBLTCByZGtpdCAyMDIxLjA5LjQAAHicrdJfSFNRGADw7557d93c1E033dp0t6396R8WuDCTdm9EmbJeRINIvEjELYLMKGJCWWSS0R+hPwYK+VDUQirLKLHtTKMSCoV8KCMJ7aFIUCN6CKTuvpmWUE8duHy/+53znfOdy52Mdo6COtJgfixTn+Xq08BoQVEjyzC86E+A40VMsMxvmJ0RCtTIMBwPsgpC/l9MHpCSjGwyz7D/rmNYbXI9mW99Nv6qX3iDuYIFB899hPkdF979b1smJ9T3P3pmWD0wAkMUQliZ5RTCaUDDc4RPgRQtaHWgS4VUPegNYEiDtHRIz4AMIxhNgikTTFmQZQazBSzZYMzxE40VrDaF2BaBzS7bHQpx5Aq5eZDnBKcgOBf7icMlu9wKcS8BziN7vArx+sDnB99S8DKy2yqbCc94PZx6K5vd4XJbcwhRO5z7FT5et8VLGrfRxMvhYi4ez1+BzvxE4ucirbGEN82MUPKDRRcMdtFdulvoiu9N9G6vH93YGqTrlcfo8+9exeRwCJ198UXU8mwQvXtHbTC9sA4tHjCIE54x9IyjRhwNn0a3FF8R+098Re8zPREfvGlHHw9OiC/3s9jbqma9dKbwDuaLOpzS2g4D5m/qA9LOy32Y73Jtka4NWTCfUb1Gqml72JvwkYEyqbDFF0z4gyMkPY/qxITLm2qkreYAejiUJ3XV78XaU+WNNNBZiesrZgroDaYPLW8YiJ2cXI2O3s6nobci1k5rGqgoH0SXRcO0qj2CPmv2UKGEor89ddKqwBS6ruhCzDhFpITt7lr6eZ0GPTQSoY9SS3FN27FOelQexrPCla/p+J56NBzqpiurA9jnaOl7eu++jI5Mj9FLm6+iN47z8e1futGt/T3U2NyDzv4JAkbKfuM52rgAAAOielRYdE1PTCByZGtpdCAyMDIxLjA5LjQAAHicfVbLbiQ3DLz7K/QDI4gPkeIhh7W9WQTBjoHEyT/knv9HipKtnsUKmZ4meoQSVc1HcZ5Kfv54/f2ff8v+8OvTUyntf74RUf6W1trT95IP5fnrt9/u5eX9y/PnysvbX/f3P4tyUcEeXD9iv7y/ff9cofJWblGtCesoN6li3glbapufay+Xl3IblU3dpNy4WjSlfkDKQtKgaFxuVCnY2wmpibQ6VJS83Frt1O14ek9kr324h6RPEWPWA9ISqZU1pI30aT2I44D0RHKNEBuaPtXD9eRzJJLgqRPCD5+jIQ4nn5HIViWie597WBjx+hmJ13zBcsgIPGJPqJGNE5KAZERRu0yebuaDT8hMktQu0igS2UbY8BMyk6TVxzCd8QQJaUefmSSrxE48Eski3OyEzCR5lcHeOSPbOp7phMwkjepMLD6z6eZ89JlJihpuw6ZPChc9VQiNckeoqhCiNJ12bqynsqPMEnHt3sIpvcLlsGPVZ5bSawxe5dSYu5yoMi2vLmaRGbeu/eyUFxIN0rtkajuzncqJM02kAIwmAeRgVOupRNELbwjUCG2NspEteuvH0/vqEDJTzdoYMuD+hLTVIUhoIPo029OP7+6rQ7qjOrKG83Q7pZ7H8ukKmSEUayPsOGWJY/HEooOzgKdOwM+C01LFBDXsw3rpEAdCak9IWqd3qIgHyrq1MdopnsILqWFoepQ13qfTESl5Oq0caUnhEzufrosn2oPQdaPKaqoD8kPvRIKhDgLnKbcnpC2kMjfUMk25i6Ms+1Jbt9Z7JhElTed4juXTHO+sswJARI7HzyQ51oPwjJfrRO0ot9o+oMG5Dv8IvssRSmuEqDRFbSQVlOiRgPLiiphDROYTWqSfFPfr/fWH2bem4fPb/fWahnnxNfIUt1xzTfO+hlde/ZpQhNuuMUS4EfJfv/2yPTgWvYxrrBDuuGYH5f04IWgaepgENM2mCMWnafYZUHaaZhNF1dI0mysl2TSbLiXfNP6gvDTNpkvJN81mTLFW+FEvKQ1vzjxDiu8V1uQMw5szZI7zLN6cWWf8eFOGAmga3pQ5KcPwpgwV0rmyKaO5NA1vypyUYeRRPahMbXhQCUojm7IkZRi5iiEp58qmLFkO6XlzluQMI5uzJGcY2ZwlOQOyKUtShpFNWZIyjD62EqXRTVnpY2VTzr9/uetamPX7GNNsiMfyz9+ffyTx/PQf52f27p3s0uYAAAHVelRYdFNNSUxFUyByZGtpdCAyMDIxLjA5LjQAAHicPVJJyt4wDL1Klwk4wpKsiVAoZNNV/wOUrnKNHr7P+qAhC+dFwxv8PM/z63jO5/j+dT7/n9/Pj59/jpff9z2+zvd4dsn5Ml58nBt9ugU/X36+/T14EVsOoZRSHzfjxOUA2ESigVCPMclt2a5g0koZ16QpYmr2wdh0XEwmU6zbLHhcQrpmoq2ownEAwhW6NpK1xqXkZRMtSSEsaw/R8NBxB2lK2O6ZhuO4nViCe5GoCo97UWR6dxVPNCmZ6pQNzCyvce+N68Mu3CPHPak0i7eGWs4OCEetsr2NyUUFnPfJrKXmFF+YBSoFo3JXraiAjmuRrNKe5lYsu8zIMqJajLqA+uWUS1dPMzYH9yuJ4fYu4oKuRrAn2iavuTZU5FPhKZxCELahoDmL2zzjVr2hwmzDn2xWSUsnKAPytNQmleqaG9pxW0Me09viVC1tOey+DImnorE1IwZcCm7i2cZYCEKcHV5rwT1ZIKc0GYN6zpwTMSrmbEKKgAI3wOAIx6fFAkEM36Q/i1Y5DA/C0FaqFCZQmqQd/F6NCwvJ2zvtzXtgyV4Ndh/zl8iMwZ1HtffhE7cXeScqz7//AN6lqSdYMMdSAAAAAElFTkSuQmCC\" alt=\"Mol\"/&gt;</td>\n",
       "    </tr>\n",
       "    <tr>\n",
       "      <th>1</th>\n",
       "      <td>OC1=C(C(C)C)C=C(CC2=C(C)C=C(OCC(O)=O)C=C2C)C=C...</td>\n",
       "      <td>0</td>\n",
       "      <td>&lt;img data-content=\"rdkit/molecule\" src=\"data:image/png;base64,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\" alt=\"Mol\"/&gt;</td>\n",
       "    </tr>\n",
       "    <tr>\n",
       "      <th>2</th>\n",
       "      <td>OC1=CC=C(N(C)C2=C(C)C=C(C[C@H](S3)C(NC3=O)=O)C...</td>\n",
       "      <td>0</td>\n",
       "      <td>&lt;img data-content=\"rdkit/molecule\" src=\"data:image/png;base64,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\" alt=\"Mol\"/&gt;</td>\n",
       "    </tr>\n",
       "    <tr>\n",
       "      <th>3</th>\n",
       "      <td>OC1=CC=C(N(CC2CC2)C3=C(C)C=C(C[C@H](S4)C(NC4=O...</td>\n",
       "      <td>0</td>\n",
       "      <td>&lt;img data-content=\"rdkit/molecule\" src=\"data:image/png;base64,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\" alt=\"Mol\"/&gt;</td>\n",
       "    </tr>\n",
       "    <tr>\n",
       "      <th>4</th>\n",
       "      <td>OC1=CC=C(N(CCCCCC)C2=C(C)C=C(C[C@H](S3)C(NC3=O...</td>\n",
       "      <td>0</td>\n",
       "      <td>&lt;img data-content=\"rdkit/molecule\" src=\"data:image/png;base64,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\" alt=\"Mol\"/&gt;</td>\n",
       "    </tr>\n",
       "  </tbody>\n",
       "</table>\n",
       "</div>"
      ],
      "text/plain": [
       "                                              smiles label  \\\n",
       "0  OC1=CC=C([C@@H](CCCCCCCCCCC(N(C)CCCC)=O)C2=C(C...     0   \n",
       "1  OC1=C(C(C)C)C=C(CC2=C(C)C=C(OCC(O)=O)C=C2C)C=C...     0   \n",
       "2  OC1=CC=C(N(C)C2=C(C)C=C(C[C@H](S3)C(NC3=O)=O)C...     0   \n",
       "3  OC1=CC=C(N(CC2CC2)C3=C(C)C=C(C[C@H](S4)C(NC4=O...     0   \n",
       "4  OC1=CC=C(N(CCCCCC)C2=C(C)C=C(C[C@H](S3)C(NC3=O...     0   \n",
       "\n",
       "                                               ROMol  \n",
       "0  <img data-content=\"rdkit/molecule\" src=\"data:i...  \n",
       "1  <img data-content=\"rdkit/molecule\" src=\"data:i...  \n",
       "2  <img data-content=\"rdkit/molecule\" src=\"data:i...  \n",
       "3  <img data-content=\"rdkit/molecule\" src=\"data:i...  \n",
       "4  <img data-content=\"rdkit/molecule\" src=\"data:i...  "
      ]
     },
     "execution_count": 20,
     "metadata": {},
     "output_type": "execute_result"
    }
   ],
   "source": [
    "df.head()"
   ]
  },
  {
   "cell_type": "markdown",
   "id": "16277fa2-0598-47d2-8269-1d4acb06c479",
   "metadata": {},
   "source": [
    "+ We will calculate some descriptors to analyze chemical space of agonists and antagonists."
   ]
  },
  {
   "cell_type": "code",
   "execution_count": 21,
   "id": "bb1a2b1a-52eb-4d57-a514-16d1ebd5514d",
   "metadata": {},
   "outputs": [],
   "source": [
    "df[\"Molwt\"] = df[\"ROMol\"].apply(Descriptors.MolWt)\n",
    "df[\"LogP\"] = df[\"ROMol\"].apply(Descriptors.MolLogP)\n",
    "df[\"HBA\"] = df[\"ROMol\"].apply(Descriptors.NumHAcceptors)\n",
    "df[\"HBD\"] = df[\"ROMol\"].apply(Descriptors.NumHDonors)"
   ]
  },
  {
   "cell_type": "code",
   "execution_count": 22,
   "id": "8fc70879-6eb4-4edb-9d67-71e6903f67dd",
   "metadata": {},
   "outputs": [
    {
     "data": {
      "text/html": [
       "<div>\n",
       "<style scoped>\n",
       "    .dataframe tbody tr th:only-of-type {\n",
       "        vertical-align: middle;\n",
       "    }\n",
       "\n",
       "    .dataframe tbody tr th {\n",
       "        vertical-align: top;\n",
       "    }\n",
       "\n",
       "    .dataframe thead th {\n",
       "        text-align: right;\n",
       "    }\n",
       "</style>\n",
       "<table border=\"1\" class=\"dataframe\">\n",
       "  <thead>\n",
       "    <tr style=\"text-align: right;\">\n",
       "      <th></th>\n",
       "      <th>smiles</th>\n",
       "      <th>label</th>\n",
       "      <th>ROMol</th>\n",
       "      <th>Molwt</th>\n",
       "      <th>LogP</th>\n",
       "      <th>HBA</th>\n",
       "      <th>HBD</th>\n",
       "    </tr>\n",
       "  </thead>\n",
       "  <tbody>\n",
       "    <tr>\n",
       "      <th>0</th>\n",
       "      <td>OC1=CC=C([C@@H](CCCCCCCCCCC(N(C)CCCC)=O)C2=C(C...</td>\n",
       "      <td>0</td>\n",
       "      <td>&lt;img data-content=\"rdkit/molecule\" src=\"data:image/png;base64,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\" alt=\"Mol\"/&gt;</td>\n",
       "      <td>581.838</td>\n",
       "      <td>8.88724</td>\n",
       "      <td>4</td>\n",
       "      <td>2</td>\n",
       "    </tr>\n",
       "    <tr>\n",
       "      <th>1</th>\n",
       "      <td>OC1=C(C(C)C)C=C(CC2=C(C)C=C(OCC(O)=O)C=C2C)C=C...</td>\n",
       "      <td>0</td>\n",
       "      <td>&lt;img data-content=\"rdkit/molecule\" src=\"data:image/png;base64,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\" alt=\"Mol\"/&gt;</td>\n",
       "      <td>473.525</td>\n",
       "      <td>5.49464</td>\n",
       "      <td>5</td>\n",
       "      <td>2</td>\n",
       "    </tr>\n",
       "    <tr>\n",
       "      <th>2</th>\n",
       "      <td>OC1=CC=C(N(C)C2=C(C)C=C(C[C@H](S3)C(NC3=O)=O)C...</td>\n",
       "      <td>0</td>\n",
       "      <td>&lt;img data-content=\"rdkit/molecule\" src=\"data:image/png;base64,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\" alt=\"Mol\"/&gt;</td>\n",
       "      <td>398.528</td>\n",
       "      <td>4.79444</td>\n",
       "      <td>5</td>\n",
       "      <td>2</td>\n",
       "    </tr>\n",
       "    <tr>\n",
       "      <th>3</th>\n",
       "      <td>OC1=CC=C(N(CC2CC2)C3=C(C)C=C(C[C@H](S4)C(NC4=O...</td>\n",
       "      <td>0</td>\n",
       "      <td>&lt;img data-content=\"rdkit/molecule\" src=\"data:image/png;base64,iVBORw0KGgoAAAANSUhEUgAAAMgAAADICAIAAAAiOjnJAAAABmJLR0QA/wD/AP+gvaeTAAAXJElEQVR4nO2dfViT19nA7xAgEDF8KFotBXmR+oGf08uPuRVGQWsvhnVekYqo07ZR16m008X6zoLd9hq30UurqwtdndC92xptq3Ti6ooyeEGqfHiJYOVDgjVS+UoIJJCE5Lx/HM1SPvPxHAjr/bv8A5PnuXOT/DjnPE/ucw6PEAIIwjUeo50A8p8JioUwAcVCmIBiIUxAsRAmoFgIE1AshAkoFsIEFAthAoqFMAHFQpiAYiFMQLEQJqBYCBNQLIQJKBbCBBQLYQKKhTABxUKYgGIhTECxECagWAgTUCyECSgWwgQUC2ECioUwAcVCmIBiIUxAsRAmoFgIE1AshAkoFsIEFAthAoqFMAHFQpiAYiFMQLEQJqBYCBNQLIQJKBbCBBQLYQKKhTABxUKYgGIhTECxECagWAgTUCyECSgWwgQUC2ECioUwAcVCmIBiIUxAsRAmoFgIE1AshAkoFsIEFAthAoqFMAHFQpiAYiFMQLEco66urru7u6OjY7QTcXdQLAeoqamJiooKCgr6xS9+Mdq5uDs8Qsho5zA2IITEx8fn5eXxeDxvb+/a2tqnnnpqtJNyX7DFspfMzMy8vLwnnnhi7dq1BoPh17/+9Whn5NZgi2UXTU1NUVFRarX6zJkz8+fPnz17No/Hu337dkRExGin5q4QxA7Wrl0LAAkJCfS/P/7xjwFgy5Yto5qUW4NiDc+ZM2cAQCQSffXVV/QRpVLp7e3N5/Orq6tHNze3BcUaBo1G8+STTwKAXC63fXzHjh0AkJSUNFqJuTko1jBs27YNAKKjoy0Wi+3jKpXK19eXx+NVVFSMVm7uDIo1FFeuXOHxeAKBYMAuLzU1FQDWrFkz8om5PyjWoOj1+unTpwPA4cOHBzygubl5/PjxAFBSUjLCubk/KNag7N27FwDmzZtnNBoHO2b//v0AsGrVqpFMbEyAYg3MjRs3vLy8+Hz+9evXhzhMrVYHBAQAQH5+/ojlNibAO+8D0Nvbm5KSYjKZEhMTNRpNWVnZ7du3Gxsb1Wp1b2+v7ZEBAQF79uwBAPz2sA94530AjEZjUlLSuXPnBnxWIBAIhcLAwEDhY4qLi41G4/Hjx3/605+OcKpuC4o1MEVFRceOHevp6dHpdB0dHV1dXXq9vqurq6Ojw2Kx9D8+LCzs3r17KSkpR48eDQoKGvmE3Q0Uy2F6enr0er1Go9HpdDqdjtpWUFAgl8sNBsOTTz757rvvJiYmjnaao80oj/H+g6ipqYmJiaHvakJCwv3790c7o9EExeISi8Uil8vpza2AgAC5XN7nfv23BxSLe1QqFa2GAIBnnnnmzp07o53RKIBisUKhUAQHBwOAr6+vTCbr7e0d7YxGFBSLIe3t7RKJhDZdCxYsKC0tHe2MRg4Ua1CuX7/+0UcfuT4Gv3jxYlhYGAB4enpKpdLu7m5O0nNzUKxBSUlJAYDs7GzXQ3V2du7evdvDwwMAzp0753pA9we/0hmUrq4uAPDz83M9lJ+f37FjxwoLC+FxbaDrMd0cFGtQOjs7AYDeO+CEqKgoABAIBDwej6uYbovnaCfgvnDYYjEKyIicnBydThcfHz9x4kSng2CLNSice8B5E8iIQ4cOJScnNzY2uhIExRqUb22LxUmeKNag0AYGxXIOHGMNCn1/Oey5jMaJK1ZsnjFjBlcBGYFiMcRoNBqNRk9PT4FAwFXM9vY5RUVZISFcxWMCIUSn0wHAuHHjXIkzZsWyWCAjA7q6wMcH9u4FLy9uw3PeXAFAZycAgJuP3fV6vdlsFgqFnp4uuTFmx1hnzkB4OBw6BPPnQ3Y25+FZjIe6ugAA3HyIxdUvPtbEMpvh+nUAgMpKWLIEAGD5cqis5Px1OB+5A4rlvnR2wrp1sGIFFBZCZCRUVwMA3LoFTz/N+Uux6Ap1OgAA14YuzOFKrLEzxqqpgTVr4MsvITgYAGDDBjh0CIqKwGSCtDTOX41FV0jHWG7eYnHVVI8RsS5dghdfBLUa5s2Dc+dApYLERPj4YxAKGb2gWq0GAB8fH64C3rkD69bBD38IJhNXIZnAVVPNqivs6YH33wcAaG4GhQIkEjCZQKWCv//d4VB35XJ4/nlQq2HdOiguhn/8A2Jj4bPP4ORJztMGAJPJlJ2dnZqaGhoamp+fn5mZyUkxwvnz8Pvfw6pVzrwDI4m7j7FMpkdDar0e7tyB6mo4ehQ6O6GmxoEgBoNh69atc3ft0sybB1Ip/OUvcOAA/OQnYDLB7t2QmsptzmazOTs7e9asWVu2bFGpVN3d3Xq9fvv27atXr1Yqla7Hj42F06ddD8MWdxcLAK5ehYMH4e23AQDmzYPmZlAqobcXVq+Gw4fh2jUwm4c6/cGDB9HR0adPn/YQCP7vzTdh3z547jl45x3w8YGsLDh2DPh8rlIlhHz66aeLFi3asmVLfX39zJkzs7KympqaaN36Z599FhUVdeTIEfPQGQ/Cv/4FKSlgscDzz8PVq6DRQF0dNxeyt27d+uSTTz788MOenh4OwgEAh5fDjAoItVqyZw8hhDQ0kLfeIjt3kvZ2Eh9Pdu4kAI/+BQSQF14g77xDbt/uO9GgvLw8NDQUAJ566qmysrIbN27siYkh48aRkBAy5CodTvDPf/7zO9/5Dn03wsLC5HK5yWSiT2k0Gtu69YULF5aVldkf+epVEhf36Jddv57cvUuUShIcTGJjiacnkUqJ01XKDQ0NEomEz+fT++MRERF5eXlOxvomBw4cAIDXXnvNxTisxNLpiExGCCEqFZHJCF1h6q9/JZmZRKEg27eT6dP/bdj3vnd78uTJYrFYLpcrlcqSkhI6ao6JiWlpaTlz5gx9+06npJAHDzhMsrCw8Pvf/z6VJiQk5OjRoz09PdZnW1tbJ0+eLJFItFptbm4urVv38vKSSqW2hw1IZSURiwmPRwDI+PFEKiV37hB6UnU12bWLeHgQADJzJiksdCznhoaGrVu30tviAoFg/fr1s2bNAgAej7djxw6NRuPwu/CYtra2tLQ0oVAYFhYWGBh49uxZp0OREah5/9vfiK8vOX58gKeUSvL++yQ5maxc+Y5tIzpjxozQ0ND169cbDAaZTEZLxZOTk/V6PVdZFRUVxcbG0pcLDg6WyWT95zicPXvWy8sLAEJDQ3Nzc3U6nVQq5fP5ADB9+vTLly8PGLmqqmrHjv+m3vj5kQMHSHv7AIcVF5OoKAJAeDwikZCOjuFzfvjwoVQqpX9yXl5emzZtqq+vJ4QYjUaZTEa/05wyZYoTQnR0dKSnp/v7+9M3ZOrUqfQHsVjc1NTkaDQKW7Ha2sjkyQSA/PGPwxxZX18vl8vFYnFgYCD9rfbt25eQkAAAfD5fRls/LigpKaFhAWDChAlpaWlarXawg2/evLl06VLru9zc3FxcXDx79mzaQkgkkg4bI6zdEwAsX54rkZChPxSDgaSlEW9vAkBWrz6Rk5Mz2JEtLS1SqdTX1xcAPDw8xGJxTU2N9dlLly7dvXu3trbWiQn+Op3u6NGjkydPpifGxcV98cUXdD63SCQCF+ZzsxVryxYCQKKjif2JmUym4uJiupsIXS3o0qVLXOWj1WqpKP7+/ocOHRpCKStms1kul9PBbGBgoFwu79NCfPTRR0ql8qWXXqLdk7e396uvvqpSqexM6dYtsmlTLf1ck5KSvv76a9tnafdEP2Mej5eQkHDjxg3bA1paWoKDg+mcWJPJZL8QBoNBLpdPmTKFvvR3v/vdPqO0Bw8e2M7n/vLLL+38jSgMxbp8mfB4xNeX1NY6fG58fDwAHD58uNaJkweHrl8VHx/f1tbm0IkNDQ2rVq2i7/Jzzz2nVCorKyuXLVtGH6FKeXp6vvTSS0ql0tGsBlzxobOzUyaT0eUCaVsy4HVDa2vrxo0b6TFLliy5efPmsBP8jUZjVlZWeHi49awhGkuFQjFp0iQA8PX1TUtLG2LVzD4wHLxHRBAAcuSIM6evW7cOABQKBbdZ0R0lTp065dzpWVlZEyZMAAA/Pz/68dPGTCQS/ehHP3JxjQalUrl69Wr6YdM9xujPK1euHHbxXOu1BZ0T29PTYyuEdYK/2WxWKBR0xV4AmDNnjkKhGLabU6vVEomEziyaP3/+0GtnWmEl1v79B6Ojjy1ebH585e4YdHX19957j9usrL7m5eXt37+/oKDA0QgPHz7ctGkTAJw4cYIQYrFYPDw8eDweV0szKBSKoKCgJ554YsDuaQj6X1vQGyVUiAULFrz99tvz5s2jSs2aNSsrK8tsNtufWH5+fmRkJHV39+7dXV1dQx/PRKxr167x+XxPT8+KilvORXjttdcAICMjg9vEaHd28eLFN954AwB+9atfORfnypUr9FOh96mFQiGHSZ44cYI2VE6cW1xcTGcvWq8tLl68OG3aNACgYy96o865PwO9Xm91NyIi4vPPPx/iYO7vvPf29m7fvt1sNu/du3fBgijngtB3gfONTK3fV7j4VWtMTAy9CcJiRhdtY5zbV2z58uVlZWVpaWleXl6ZmZnLly+Pj4+vrKwMDw/XarWpqam1tbXWS1dHob1qcXHx3Llz6+vr4+PjS0pKBjvYqeoGjQY6OkCrrezquq/RaLXajo4OjUaj1Wq7u7uDgoIqKioiIyPffPNNZ4IDwGOxtFqt0xEGpI9Yrn9xwaa65tGXKvn5+SkpKbGxsdmOlMgKBIL09HSxWPzyyy9v3ryZz+f7+flNmjSpoaEhKSnJy+Ua7iVLlpSXl2dkZBQUFFjvxfRnOLHy86G9HVauhKwsOHIEtFqwaUU+WLjwtxUVfc7w8fHh8XgnT56k912cg96sY91iuadYdC6Dn5+fWq1WqVTUM0eJiooqKiqy/pfbPOklglQqHeqYoQL88pfw9NMQEQEvvwzLlsFXXz16XCQCf38QiWbMnr1q0iSRSBQYGCgSiUQiUXl5+fnz55OTk5999llXUqdicd5iWXsudxaLK/tpZ90nJhcJ2sWQYtXWwsGDAACLF8PSpaBUgkgEj++MA8DGnp4farUdHR1arVatVmu1Wjovu6amxmAwuDJxivUYi6vv8NmUxnPcrAKbPIdmSLGsBW4GA9y//6gr1GpBraY/5C5btq6goM9JISEh169fl0gkWVlZTqfFoiu0WCzd3d0eHh5CoZCrOkkWpfFWn1QqFXBkA4s8h2ZIsZ55Bn7zGwgPB6USli+H8+f7PD/By2vixIn+/v4BAQH+/v60NxSLxS+++GJ2dvbChQtTna3FY9EV0lsvfn5+PB7PnbtCa+vCVXAWk2+HZUixXnkFlEpoa4M//AE0Gvj4YxCJICCADrBAJIr28WkZ6LwPPvhg3bp1e/funTFjhvVuskOw6AptPyd3FsvaunCb5AivcjPcfaxp02DRIuDzYcIEWLsWnn0WFi2C6dNh0iQYfKLB2rVrDx48aDabP/74lwZDnRNpsegKbccZ7i+Wm1+6DgurWTrp6ekREeq5c9+rq1szc+ZVPl/k0Ok+Pj58Pr+7u9tkMrl+64Vi+4e7YcMGjUbj4vIEMEbEGvmRO7CreefxeCkp/yMQRPb0VN+9u54Qe6vF79+/f+TIEfpF6a5du/ps4+YKtp9TZmamQqGwvSC3n+bm5rq6uv4xuYLzS1e37ApdCe3hN316jqdnsFb72YMHB4c+2GAwfPjhhytXrgwLC9u/f79SqQwPD09JSXHlLqstjY2NGRkZAQEBNTU1VVVVzgVpb29PT0+PjIzcuXMnfWQEWiyuLl1Hel0uJ76MdIjOzsKyMu/SUl5b2/8OeIBeX3nv3p709Ec3VH18fFJSUq5cuWIt5+js7Ny8ebPTm9Lcu3fvlVdeof0prev19vZOS0szGAz2B+lTvJuYmKjX69Vq9Zw5cwDgrbfeci63AaHVXUajsbS0NDc3t6WlxcWAdOPFxMRETtKzk5FY5725+URpKdy6NcNi+XcNTW+vtrU1q6YmrrQUSkuhuHjRwoULT5w4oVar+0dobGykPzikV3Nzs7VInFb03rx5UyqV0h4wMjLyypUrwwYZsHi3q6tLJpPRKurAwEBaSmBPPeqw6PV6qr6LcS5cuGDV/c9//jMAJCcnu5ydA4zQBgJff/22waBqbPzJ/ftvaDSfKpXbysv9qFIVFf6NjTt1Oru2A0lNTbWnTK+1tTUtLY12IlQp28raoqIi27r1wYToX7x7+fJlvV7/u9/9jm6SAwAxMTHbtm2zzrm4cOGCnW/IYHR3d7/++usCgSAhIcH++mZbCgsLafE7n8+vqqoihJw8eRIAtm/f7mJuDjFyO1OYTA/v3k0hxGI2d1ZUjC8therqRS0tcrN5mJIxKxaLZdeuXa2trfS/A7ZtWq1WJpNZ+6y4uLjy8vL+h9G6dW9vbwCYOnXqJ5980ueAnJyckMdr7y1duvTSpUtGo1Eul1tnsCxbtsxakGRbpiwWix8+fGjvmzIQOTk5dDw0YcKE06dP23/i1atX4+LiaBoTJ06UyWR6vZ7+FQUHB4eHh4/kPmQjuuVJW9sH9fVJnZ0F7e1nu7td+iVra2unTJliO0nGtnuiSg1bRFtZWdlnEo71qYKCAnhcvNvb26tQKKwFUnPnzu1fM03nXNA2ks65cGWnQpVK9cILL9CXi46OHlaImzdvisVievz48eOlUmlHR0dJSQmdOgCPR+5CoTAjI2Nk9iEbSbHMhFhMppbGRg7a5DVr1ljrS1UqlUwmo+W8ALBixQp7Bk+Pcuo3Ccf6VF5eHlXq6cfrb82ePXvoInHbORcxMTG2k7ScwJ6N6aqqqsRiMa0N9PPzk0qlarW6srKyz4NKpdK2THkE9iEbya6w+f79A/fu7erurnI9WlNTk/WNtirlUJG4LQ0NDStXrqRB6CQci8WSk5OzYMEC+mB4eLj9Fb1WIYRCoYs7FfbZmK7PRJ3CwkJ6ISIUCvft29fS0lJdXb1p0yb64Lhx46RSabvNfFnrPmReXl4Xfvtb52f428GY3/0rNzd30qRJUVFRrk/pOX36NJ0bM27cOOvsqGnTpv3pT38yOTgnpK2tzekVH/rTZxKOddK22WxevHixRCJRqVS202W9vb0lEsmAk5jpnIv/Cg3tHDeOREQQjlZ86M+YF+vUqVOff/45V1sv00k4AoEgJCSk/2oOjpKbm0uXNrFzxYchGGyCf29v771793bv3k0rF7y8vCQSybDToHVffEHmzHk0w3/HDuLCig+DMebFYkF9fX1VVRUnO1ZahZg6deqAl7EO0WcSTn19fZ8bdXV1dfbGMhqJTEYEAgJApkwhri0B0h8UayQoKioaerKU/RgMhrS0NHqjRCgUUqU2btzo5IVCbS2JiSEAJDaW5OWRvXvJ66+Ta9fI2bOEBjx1inxz1r+doFhjklu3bv3gBz/42c9+FhcXV1FR4VIss5mcOEHq6siGDcRiIb29JCmJHD9O6P2/9HTy+GsPhxgji9si3yQqKury5cvcxPLwgFdfhdZWmDIFeDzg88HXFwiBkydh8mQoKICtW52IimIhAAAQFARNTUAIWCxgMACPBzt3wsKFcOiQc/FQLAQAADw8YMcO+PnPwWKBfftAqXy06c+0aUOUCg8Bj3wLNr5GRp4xteUJMnZAsRAmoFgIE1AshAkoFsIEFAthAoqFMAHFQpiAYiFMQLEQJqBYCBNQLIQJKBbCBBQLYQKKhTABxUKYgGIhTECxECagWAgTUCyECSgWwgQUC2ECioUwAcVCmIBiIUxAsRAmoFgIE1AshAkoFsIEFAthAoqFMAHFQpiAYiFMQLEQJqBYCBNQLIQJKBbCBBQLYQKKhTABxUKYgGIhTECxECagWAgTUCyECSgWwgQUC2ECioUwAcVCmIBiIUxAsRAmoFgIE1AshAkoFsIEFAthAoqFMAHFQpiAYiFMQLEQJqBYCBNQLIQJKBbChP8HzP5A+6CHIqoAAAJIelRYdHJka2l0UEtMIHJka2l0IDIwMjEuMDkuNAAAeJx7v2/tPQYg4GVAAHkgVgLiBkYOhgwgzczIyOagAWKwsDmABZgZkRgQGXYGMM3MxpAApJmYIDRQHoUPpOEmQWmwOCMzhoFwDQomIJqRRYBBAcRgY4BZCNbAxAgT4IDQTDAah4k4rYK5lZEZRnMzMCowMmUwMTEnMLNkMLGwKrCyMbCxM7BzMHBwMrByKXBxZzBx8zBw8ybw8mUw8fEzCPCzMAkIMggIMQgJKwiLKIiIajAJiWkw8YkniEtkMElIMrBIJUhJZzBJyzDIyDLIyDFIMyZwsjNIcCWICDKIsLAxSkuxMDMxc7BzsnHz8olLcLEKCggJi4jXMQIdBI+g568uOogfUDgA5nStdLBZf3M/iO23v9bB/LIEWHzvXx2H2qsnweIyEw0d5l1dsBfEFp9/0F6/3doexL569JT93aN8DiD2ea6ldmHrnMDs/NZp+7c6uoPZPy/u2reYsQfM3rfS3G5rj6UtiP2qt2v/OqtosDk66Y37924SA6t5OlvqgKahrh2I7aIvf+Cf4iqwG4xbSg7M4GEEu+3RokUH7DxmgcX/xZ4/YPf2PpidEr/0gNf8qWC9BacvHxAo0wGbv2b/2wPGE8TAam5c5TvoWqIDZkubNRzoezcPrCbt9pz9FT85wObPfX7Hdu/vnWA1swPX24c/EwCLsxU3O2y4LA1Wf+7yaofTFv77QGy3umsOSQ4/wPby3//nkMy8HCz+7fgNB+sbf8HqxQDTiZ0YMf7ZZwAAAuF6VFh0TU9MIHJka2l0IDIwMjEuMDkuNAAAeJx9VctuGzEMvPsr9AO7EB+iqEMPsZ0GRREbaNL+Q+/9f3SodbQbVOhuRNjycDR8iDmleH5cv//+k8bD19Mppfyfv9Za+iU559Nrig/p/Pzy7ZYu70/nj53L/eft/S0JJVH44P2MfXq/v37sULonW0tpjUtaeC1EleG15v7srpwuqazcnCinhdaas1meAAVAWZupZwpG8eqNJ0AFkMEDzhqMpZqzT4BlA1ZV57Tg9+pFZoyWbgk8xGbBU4ULkvAvroIQOFcyBjNLdq4TnAOXV2EWdcSUlbzN+BpwCIBqaVoBJBLxMgEidZeIQJAdl6Sr1MJ5lkWifjbVJqXnRIvMgbwdjhC0GABeDPQzpDyQlJsR4paiVtoMGaVB6ZRQk4iDrCGkGbI8kF7Zel8It8jqBGoBldU5F2vhlMmkTZVGgZYSMQnSBFb4iEzD9/SWFoOAjDL1xtSm0zaitrGSoSEjKm5wmdWTMxoJpEaOJgHAqli1GTLKtNRVORo+SlvcSWbHM+OqLb42rpw7NFh1ln8EAqiu/YoVtCqjU8usoVi3mjIX1X6BSZGIqdSydRRuD9oDPlq4tSmp9fsh1pCp4GTTPG0UjkJpcNZ+MSy7tSnQ+/gISgSE2Dmz2PTwqJL1sUCRenV1m8UTgy7VGDQVPnGp2KjNMi+0UWKA5IbAmgvZrO7Pt+un4biNy/P9dt3HZby8D0XFkn30aax9wMVb9jFGWLYPK8Kq+0wiLN9HD2G1fcJQrOMgCW+iw7zQMDS0YTBQN0Mehb7YGQopBMLQEEmhMszQSSEUNzLu79eXLztbfewPzeSPnSGbQjcMH68WheGhHFeIu9mziu/da5zFXXlBux8aX8PwUM6hHIaHcvQx0o8mPbSrhuEhmUMyDA/JHJJh5Nho286QLJHs8BobPdd5L5+E4FC0+2iw0CFd0W3H3orvH//G8fn0F8pzgNF2Fkw5AAABf3pUWHRTTUlMRVMgcmRraXQgMjAyMS4wOS40AAB4nCVRS2rlQBC7yixt8Gu6/lWYQKA3WSWLLIdZ+Ro5/Kg6YB5+sqRSqdZDz/F5rMV4zoef5zm+zudYxzoX/vfrCWz9Xe/vH//4ex1vX+fnYvw+9OfneNGYNMsvHmLqft2NJKtfc6S5uF73HBQlloCmmszJ103DiD0AhbAJbSSV2ollprRMmEXzEsgoa3tTWBkQIpFGQHJN0HVIGIx5RChE+DIjTVg3Nrnqgt7C21tGeZMQO6OtbXAlUVNizl7Eh1kVN8eIgpsjXk5tzZPFrUntTFhDU7Nl0c4hTRJ2qtwkRKKLRqVgw1sHzYiCymc6gnVFSIuyMF+ts6KPnrYzsuv8rZbZ1BoiRQJAjMHB3jpBkGbJSJ4WzZrkuyXrm0g2C5+khQ7hZN4La2lDMZQLWyG6ZRL49ytHcfDe2QNV15Y65T5nQ+F7AHn3iGYKR8M5Xzp2j5iIq/pvVEL94JAXznedP/8Bsw6CpJE3RKYAAAAASUVORK5CYII=\" alt=\"Mol\"/&gt;</td>\n",
       "      <td>438.593</td>\n",
       "      <td>5.57464</td>\n",
       "      <td>5</td>\n",
       "      <td>2</td>\n",
       "    </tr>\n",
       "    <tr>\n",
       "      <th>4</th>\n",
       "      <td>OC1=CC=C(N(CCCCCC)C2=C(C)C=C(C[C@H](S3)C(NC3=O...</td>\n",
       "      <td>0</td>\n",
       "      <td>&lt;img data-content=\"rdkit/molecule\" src=\"data:image/png;base64,iVBORw0KGgoAAAANSUhEUgAAAMgAAADICAIAAAAiOjnJAAAABmJLR0QA/wD/AP+gvaeTAAAVrElEQVR4nO2de1BTV/7Av4HwCG+kigTqi2phUdERLVuFtuJWrexa23W7fYB1aPGxmu74KDtVYbU+cGep6LRat60zLO3Prm13HatSR4RaX6CAtkVxjQJGHgrhnYRHSL6/P47eshAjSe4hPL6fcTKY3Hvyzc0n33Puved7rwQRgSDExsHeARCDExKL4AKJRXCBxCK4QGIRXCCxCC6QWAQXSCyCCyQWwQUSi+ACiUVwgcQiuEBiEVwgsQgukFgEF0gsggskFsEFEovgAolFcIHEIrhAYhFcILEILpBYBBdILIILJBbBBRKL4AKJRXCBxCK4QGIRXCCxCC6QWAQXSCyCCyQWwQUSi+ACiUVwgcQiuEBiEVwgsQgukFgEF0gsggskFsEFEovgAolFcIHEIrgw5MQyGo0NDQ32jmLwM+TE+uyzz5544ondu3cbDAZ7xzKYGXJinTp1qr6+/s9//nNERMSZM2fsHc7gBYceR44cGTt2LPv4sbGx5eXl9o5oEDIUxUJEnU6Xmprq4eEBAG5ubikpKa2trfYOalAxRMViVFRUxMXFSSQSAAgKCsrIyLB3RIOHIS0W4/vvvw8PD2c943PPPffTTz/ZO6LBAImFiGgwGDIyMoYPHw4AUqk0MTGxtrbW3kENbEisX6irq1u5cqWjoyMADB8+/J///Ke9IxrADLnDDWYYNmzYRx99VFxcPHfu3Nra2lOnTqlUKnsHNVCRIKK9Y+iPREVFnT179ssvv3zllVfsHcuAhDKWaeRyOQCwHUbCCkgs0xiNRgBwcKDtYyW04UzDRgiUsayGxDINiWUjJJZpWFdIYlkNiWUalrFojGU1tOFMQ12hjZBYpiGxbITEMg0dbrAR2nCmoYxlIySWaUgsGyGxTENdoY3QhjMNZSwbIbFMQ5M+bITEMk1UVNSoUaPWrl2bl5dn71gGJDQfyzQNDQ1hYWHV1dUODg4JCQnbtm1jE5eJXkIZyzS+vr5KpTIlJcXJyemTTz6ZMGHCzp07Ozo67B3XwMFOU6IHDEqlMjY2lm2rCRMmHDt2zN4RDQxIrF5x8uTJX/3qV0yv2NjYW7du2Tui/g6J1Vs6OjrS09O9vLwAwNnZWaFQNDc32zuo/guJZRlVVVWJiYnswKlcLs/IyDAajfYOqj9CYlnDhQsXpk+fznrGqKio4uJie0fU76C9QmuIjIzMz8/PyMgYOXLkuXPncnNz9Xq9vYPqX9BxLJtoamoKDAzUarUNDQ0+Pj72DqcfQRnLJry9vaVSKdBZxR6QWLaCdLraFCSWrdAEG5PQ5rAVylgmIbFshcQyCYllKySWSUgsW6Exlkloc9gKZSyTkFi2QmKZhMSyFRLLJCSWrdAYyyS0OWyFMpZJSCxbIbFMQmLZBFn1MEgsW5k9e7abm9uyZcvUarW9Y+lHkFg2IZFIkpKS2tra/vGPf4SFhX366adsLE/Q1GQRKCkpmTt3LtueU6dOPXPmjL0jsj8klmgcOXJkzJgxTK/Y2Njbt2/bOyJ7QmKJCd1fU4DEEp87d+7ExcWx1BUcHHzo0CF7R2QHSCxe5ObmTp48mekVExMz1ErESCyO6PX6PXv2+Pr6AoCTk9PatWuHTvE0lX+Z5ujRo62trbGxsTKZzMam6uvrN2/e/NFHH3l7e2dlZc2YMUOUCPs79ja7nzJy5EgAqK6uFqvBzMxMAJg+fbpYDXJi1qxZvr6+tnfcdIDUNCj2uZrx48eL2yAnGhsbGxoa0OZ+jMQyjeiTYXCA3JxHrF9Uf/+c9kL0jCV6g5wgsfgiugcDZT6gWHH2989pLzh1hUMnY0nFCGYQIroHjo5jnnkmNTg4SKwGOUFi8UV0sfT6oNOnk/r/QUPqCvnCYYwFANDvh1g0eOcMhzEWAEC/H2KRWHfuwIEDkJPDqXkOhxsABoJYQ7srVKvhL3+B2bOhrAz27ePxDkNWrKGdsX74Af7wBxgzBhISgM9NlKgrtLGdASVWZSW8+SZotSCTgUYDANDZyem7Ej1jlZTArVuQng4FBWI1yYWhd7jh2jWYPx9UKvD0hLQ0SEgAALh0CZYs4fFu4oqFCLt3Q0AAhIbCuXMQESFKq1wYYmOsvDx45hlQqSAyElJSID8fDhyAqVPhr3+F554T960qKiri4+OlUqmHh8dLL71UXl4uSrNz58Lx49DSIkpjAAAlJSULFiz429/+9vbbb9fU1IjS5uXLlxsbGwEgNzfX1rZsnHbTF/znPyiTIQC++CLqdJiaihIJJieL/j4ajWbjxo1sZp+rq6urqysAuLm5bd68WafTWddmYyOuW4f//jeuXIn//S++9BKmpWF8PF6+bH2carV61apV7DLg7u7uAODj47Nr166Ojg6r26yurk5ISGCJytHREQBiY2Nv3LhhdYO8xKqo+OUPlQq1WkTE8nKL2/m/jz82+PkhAK5ahe3tuGIFAqCjI+7dK2K0RqPx0KFDo0aNAgCJRLJ48eKysrLKysq4uDjWGwYFBWVkZFjUZmcnfvwxjhiBAPjEE7hiBSLixo24aNH9T7B8OarVlsXZ0dGxf/9+dktOBweHuLi4vLy8xYsXsxxh3V3v2tvbhZtPOTk5rVq1aseOHd7e3uy/CoWiqanJ0jaRn1hLl/7yx+rV+N57iIiJiRa0YDQak5KSAGDF5MmG1FRsbcXf/x4B0MUFv/pKxFDz8/Offvpp9t1EREQI5abt7e1NTU35+flPPfUUe/XZZ5/98ccfe9PmqVMYHo4ACICRkXjhwv2fVmcnqtWYkoIuLgiAvr6Yno56fa/iPHnyZFhYGIskJiamayRW3/XuyJEj48aNYyvOmTPn6tWr7Hm1Wq1QKFjqCggI2L9/v8Fg6GWbDF5iLVmCubmYm4sLF+Lq1fj++1hYiImJmJeHFy/iI3O2Xq9PSEgAAKlU+sknn9Sr1caZMxEA/fzw/HmxgmR1WiwnBQYGdtt8qampfn5+6enper0+IyNjxIgRQp6oqal5WJs3btxITPyRKTVuHH79tenFrl3D55+/b97kyZibm28mzuvXry9YsEBIS13ryXQ63axZszIyMiy9611hYWF0dDRrMzQ09Pjx4yaXmTlzpvCTO2/JlucoVnY2ZmffF0ujwTfewLfewjlzEACdnHDaNFQoMCMDe86ubmlpmT9/PgB4eHgcP368rKwsJCQkMyoKx4zBkhJRwtNqtSkpKWw45ebmlpSU1PNrYDEAwIwZM/Lz8xsaGpKSkpydnQFg2LBh6enpnZ2dXZdnC7i4uISETPXyMqSk4COLVU+exNBQnDXrJss0paWl3Raoq6tTKBRsOOXr65uamtrW1tZ1gQ8//FDIYcXFxdXV1Y+86x27Mx7LRuyX0+2DdKXbICEuLq6XdQB91BXq9XjiBIaFoUKBoaEokdz/sbJ/06a9vGjRop07d54+fVqj0bBb5Y4cObKoqKioqCggIAAApk6d2iJGaYPJ4dTDFj5y5Mjo0aOFJVUq1fXr1+fNm8e+yylTppw+fRoROzs79+3bJwx93nrrrXv3NL2Mp60N09I+Y2NwmUyWkpKi1WrxwXDqscceY2k7MTHRZJo0GAxCNmWL1dbWFhQUCJ379OnT8/Ly2MLdhlMKhaKxsbE3QbLfIdubcXd3T0lJ6eZ3T3iJ9eCz4JYtmJ6O7Gdz+vT9Jxsa8LvvcPNmfOEFnDDhf27IJpVKQ0ND/f39lUpldnY22wqzZ8+2bgjZjbKysogHB5EiIyOFLW4Gk9v066+/ZpdpkEgkMTExoaGhwiDsslX7e113FAIDA999911hODVnzpyffvrJ/Or19fVCYmPZlHXfrNaIdd+ZmZnCcCo2NvbmzZuWBqlUKoUdhfHjxx89etTMwnwPN6jVOGwYAqD5669UVlYeOnRIoVDMnDnTxcUFAEaPHv3aa6+xfueNN95ob28XJZ4PP/zQz8/PitGoSqUSqubHjx//7bffsl+/u7u7p6cnAIwaNcrS3caeXLx4MTIyEgBYouo2nHokXS96M2XKlB9++KGpqWnt2rVOTk5s4MWez8nJsSXIrKysJ598kr1LYWHhwxbjK9by5QiAc+ZYsIpWqz148CAADB8+3MHBQaFQWLo/YgaWZq5du2bd6idOnBCS0969e9kzzKpHdg29xGAwLFy4EADmzp1r3XGpr776Sui+lyxZgojXr19npm7YsMHMcKr3dHR0/P3vf4+PjzezDEexfv4ZpVKUSvHnny1bUavVAoCLi4t13YoZ2BYvLy+3+iIwer0+PT197NixarUaEa9cuQIA4eHhIga5ZcsWANi0aZPVLQgXvVm/fj17hg0ALl26JFKMj4bjKZ1Vq6CzExQKmDjRshXd3Ny8vb3b29sff/xxcUMSToS9+uqrEonk8OHDlrYglUrfeecdpVLp5+cHfEokhDbz8/N/85vfbNy40dIWZDJZUlJScXGxsC6POM3D6yT0N9+0nj4tGzECkpOtWV0ulzc1NVVXV7PvTyyE7Wvjhmb76sDnC2P2SySSmpqa7Oxsqy8ewdIzo+/F4pKxdDrdunVh0dGrdu7UeXtb04JcLgeAqqoqcQMTS6yeDdoeW7c2HRwcRGy876saubzTjh07ysvLNJoL8fGu1rXAjl1VV1eLGtcv21esDc3jCxN8ErHxwZCxVCrVBx98IJFI0tPTrd4olLFEDBIG3BirsbGxqqqqurpaeJRIJLdv39bpdPHx8VFRUVa3zCljDVmx+r4r7LVY58/D2bNQVQXV1cLj6wEBx0tLuy7l7u6u1Wo9PT137NhhS1icMtaA6ApFDxL6XcYqLYW9e0EqhYgIKCqCHq5M8fcvdXb29/cPCgpij0VFRQcPHly2bBkzw2ooYw3qrnDLFti7F9zcYMUKmD0b1qyBoCDw9xcet7m7bwPQarUVFRX37t2rqKhoa2szGAzffPPNunXr/P39rQ6LxliDuis0GsHNDQAgLAz8/GDhQqiogHv3oLAQ7t2DioqsESP+kJWlYQUzD5g4cWJxcfGCBQu+//57dsVzKxDEQkQe1xLqz13h4NgrNCuWgwO0toJMBiUlEBwMMTHdXvd/5hmNRiOTyeRyeUBAAHv84x//+OabbxYWFi5cuDArK4ud+7QUmUzm4+PT2NhYX18v4jHSAZGxBJ8Gb1e4YQO89x7IZBAdDZMmwaxZIJdDQIDwOEEubwgI8PHx6bZeVlbW008/nZOTs3Tp0s8//9y6zxMQEMD2OnmIlZmZ2draykZylnL16tUvvvhi+/btwLkrDA8PT01NFeYcW8qFCxfCwsLYvCM7XPZN/NOPiIh46dIlDw+P+PjJt2//1YrVDQYDu/r+iRMnRIyKdc29nN3Wk9ra2hUrVrBpT4cPH0ZEViYVHR0tYpBr1qwBgLS0NKtbqKioYLO7kpKS2DPBwcEAYMUcLKvhOLvh4sWTly97FhRATY0FFTUtLS379+8PCQkBgPj4eJVKJUowbNq4s7Ozp6dnRETEhQsXLFrd5HzOoqKiiIgIuVzu6uram0mVvSQtLW3MmDFhYWFWXBNbo9Fs2rSJnV6UyWRbt25FxJycHB8fHycnp23btok4B8k8fOdj1dV9UVAgKShwqK9/SFFBF0pLS9esWeP94ORicHDwwYMH2UtWl/UholqtXrlyJUszXl5ew4YNY53Cwyb79qRreQybz9m1Ck/YQQkJCfnuu++sjlPAaDSy7s/Z2XndunW9nDrLplwLJ55jY2PLyspu3ry5aNEi9gyLdtq0aWfPnrU9yEfCvWC1qmprQQEUFbm2tDx0FmlLy5nz51cLUwaeffbZw4cPd/1tvfvuu5bmGDSVZu7du6fRaFJSUtg8VR8fn9TUVDPTU0tKSl544QUW1ZNPPilMHO02bTw7O7ureVZPJBRgNRRd6x3MZ5qLFy92q2BraWnpNqNamE4NfXLXu76ohFapVhcUwOXL3jrd/8zdNhrb6+sPlZT8uqAACgulM2aMXrx4sfl56Eaj8dixYz0rT3rSM810ffXGjRusZIMZ07P4qb29ffny5cJXu2fPHr1e/7AqPERk1Ve213l2paioSDgtNm3atHPnzvVcpmsFm1wu379/P5vtzg4isroadtQGEbVabXJyMusoPTw8KnfvRpG67570hVhGY+fNmy9eueLX3JxbV/d5Y+NRvb62qmrrjz/KCwqgoACuXBlRWZms0919ZFP/+te/IiIizP98u6YZ89PGzdd5zps3TxhOdavCy8rKMtmg7XWePelZKdT11c2bNwOAm5tbcnKyRqPJyckJDw9ncT711FMm0zxz8ZVf/xoBMDgY+dz1ro+u3WAw6NralHfurG9qOqnVFpSWvs6Uunp1cm3tZwZDbycK63Q6oVrr22+/PXDgQNdXe1bhPbIKw0ydp1KpLCkpsagKj9G1znP69OlWdOLdMFN9pdVq//SnP6lUqq4lNI8//rjJisL/+eA5OThx4v36u3nzxCrYFOjTi4LU1WWWlyfodFc0mjyl8rfNzaesbqqtrW38+PHCwYjm5ub09HR2RM1MFd7DYPaw4W1gYCD7VqyuwsMHQ2k2tZr1R3fvPjofm6dnpRB7ng2n2KiRadfbGf16Pe7Zg76+92uIN2xAoxGvXMHr1xER795Fts9UWfno0vUe9PXVZvT6mps3X9Lr62xs5+7duzt27GB/37p1Szi+P3/+fKvHzufPnxeqDidPnhwUdP+a7IsWLbLuCFBzc/P69etZbOyCML0ZHZrn1KlTEx8UEcTExGzfvp0Np1jxoDW3K6urQ4UCHR0xORnfeQczM3HvXnz/fdy1C9nAdNOmX67x0mv6VKz6+q/q6r5QKl/o7BTzfpBpaWleXl5sr83GpoxGIxv5+vv7Ozg4mBlO9R6lUsl2FH73u9/Z2BSDVQqxHQVW1RgZGWlrh3v5MlZW4urV9//7+uu4axfu24dZWfjaa1aI1ac3wjQa29rblc7OYxwdPcVr0xgREZGWlhYVFcVGV7bT1NR069atpqam6Oho4SCIjRw7diwkJIQdAReFmpqatLS0SZMmyWSyl19+WYQW1WrYvh0++AAAID4epk6Fxx6DcePg009h61YIDLSoscFwh1WDwSDW1z/UWboUEhKgpQVOnoRRoyAmBiZNguRkWLZsKIpFiEZ7O2RlgasrPP88lJXB8OHg5QUlJTB2LLhaVhdDYhFcGCAXtyUGGiQWwQUSi+ACiUVwgcQiuEBiEVwgsQgukFgEF0gsggskFsEFEovgAolFcIHEIrhAYhFcILEILpBYBBdILIILJBbBBRKL4AKJRXCBxCK4QGIRXCCxCC6QWAQXSCyCCyQWwQUSi+ACiUVwgcQiuEBiEVwgsQgukFgEF0gsggskFsEFEovgAolFcIHEIrhAYhFcILEILpBYBBdILIILJBbBBRKL4AKJRXCBxCK48P85pry0K2/pggAAAlJ6VFh0cmRraXRQS0wgcmRraXQgMjAyMS4wOS40AAB4nHu/b+09BiDgZUAARSBWBuIGRg6GDCDNzMjI5qABYrCwOYAFmBmRGBAZdgYwzczGkACkmZiIoxmZESZDabg4mgVwjQomIJqRRYBBAcRgY4A5AKyBiREmwAGhmWA0DhNxWgXkwxRAaW4GRgVGpgwmJuYEZpYMJhZWBVY2BjZ2BnYOBg5OBk4uBi5uBlYeBR7eDCZePgZe/gR+gQwmAUEGIUEWJiFhBiERBhFRBVExBTFxDSYRCQ0mAckESakMJilpBhaZBBnZDCZZOQY5eQY5BQZZxgQpngQxYQYRZjZGWRkWoOt5+QUkpXhYhYVERMXEpzEC3QOPL5sp1x1qovUPgHlK6xzk7/3dD2IKFbY4BDbpgcXX/DV1OKH9ByzOV23msHbjh30gtrbucftdGyfZgdjv1U/Yn179xB7E/l7daRd0SMkBxOZM77VjSGwEs/Xzm/abT58JZmeXNO7nm34SzF43T/iAy9mHYPaVpY12AS9egs2viW/dL149E2z+jpSW/Upxz8DmzxQUO/BZ7jFYze8+sQOSx3+A3XbtQ+aBc9+0wW5enjXvwCGR72Dx5bGnDqxSVgKL7zFYfOCQ4gOwXjbxSwe0Gj7tBbFtfF8d+PJhC1i9BgfvQXfOE2C2x7a6A0ey+cH2soa27/95XgdsTltptV1B5S+wmkXmR+1VV+qCxUvftTjEvugGu3ljwjoHrurvYLvmCd5w+C/XChZ/e5DBMcPlH1jcP+CGg4z7Q7D5YgC+VaU1PIrzkwAAAv96VFh0TU9MIHJka2l0IDIwMjEuMDkuNAAAeJx9VkmO2zAQvPsV/ICE3kkecpgtgyAYG0gm+UPu+T9STXkkDUBEMgmZLraK3dUFX0peP56///lb9kueL5dS6D+f3nv5rUR0eSv5UB5fXr9dy9P7w+PHytPt1/X9Z1Et6tiD+zP24f329rHC5VZirRrNvCyCp969F1ppXMdWKU/FVzMOp7Lw2puq8QSoANrK2hrpiChRySZAA1DWZhrURsRK1GIC9A3oLMFlodUqMc2AUa6FV/egyJ+lBfZMcBUBgQut3PFQW1jXCa4BhzDRXAwM3JSZJri+4WpwrTg7mVKfpQabn/KkxJ24AVk7Dj3LNvMHkjUcFZLeo02RWRikWSlw7lJXwrmozpC60XQVvDzz6DjZlKfd327c68gkeMY0pt+Raooc8TiRtRky7jzNGpD5elPvPoPWOxRpR0JTGoDWWcU5S7ToGu75fmyKFl2nicoqLbZ2J8dzRlVCKmZap/KzLLGqaFfJqA6xyywBMgrlK/oy0Jl5LK3VZxkQgTwR1cMVSgCUudm0/JKlWioIcJfRHAYd0EyjOPWtLG1tbAbRLalrqW0K9YQqGq23kU0IRnRKNe5l9SptJAC9yX3WxVI3VRnaLkZWoSqdZrVtbWdUIdSMyRDD9Ph98xA3pjY6S8Vn2U+zG66UpRzJhyvF1JWyTjA6Fx6Sl8DPM2/Q7KcG6Ve1GCF7BM+0p3oP2RsN6Xvv07y/XJ8/ee7mwo+36/PhwnnL4bWwm6KHo1qOwzfz9sMdGSMOD2SMelgdY7TD0RijH8bFOc4GxWPikxHxmHZyMJx8A+/0OPlh4p0h/IPHtJOET9hY2XkipfkVzX5qex7TzpaTblo0lPP19cvxxr6ty7ljt5WduIyM4nNkNYljkj0O2kzGtDNPnx+7duYymFe0xKk5LCfZmUsyxyQ7c2gdJYKQT5K2nPSsXS5DmSeNck66U1a5rxxaGGKgQyuaYkgCByQVkaf6JMCz3PL7xx8GPF/+AXKWlE9eNM+wAAABi3pUWHRTTUlMRVMgcmRraXQgMjAyMS4wOS40AAB4nC1SS4rlMAy8yiwTcIT+sgkNDd7Mqnsxy2FWuUYffsp+L4SYVEpSVSlzruvreOR5nuP7fI55zHOej+DGywl0/p2fn7//6Z95fHyfX1PxfB6Zv36OS8k4I1sRR5q0+xJiEauWpGPkeCODtTnVGAUOk1ZKFRB247GR7KHelMJNwBFCv9ImVD19bCCSq4HaM0TbrdRxZruYvFg4N+SW0jBzFK/OTmK9NwgtzWp3kLtkbEY383YnlWH4phgkvzjDdl9Q0G5xQiXW8GSGl7tDells0siUfJFGX4pj4Fyjw+Fl2TWN2jbDVPquCgx9B+YCPq/AamlckLlt84ACCHJ277oL3WK8MUTWtxVgmHgZZWDC8pI9B9xdTiM4dLOM8e2+kkxtGUTaiMAAFSBZkJCLwczVqQtiWEikVt91kYElQ4RI9xXvFcSQuHVZ1VvEqNGXISxMrb8MRelrDYy/YUfhWGhuXYjC9oadKzdJzKOdP/8BaziI8xq2THIAAAAASUVORK5CYII=\" alt=\"Mol\"/&gt;</td>\n",
       "      <td>468.663</td>\n",
       "      <td>6.74494</td>\n",
       "      <td>5</td>\n",
       "      <td>2</td>\n",
       "    </tr>\n",
       "  </tbody>\n",
       "</table>\n",
       "</div>"
      ],
      "text/plain": [
       "                                              smiles label  \\\n",
       "0  OC1=CC=C([C@@H](CCCCCCCCCCC(N(C)CCCC)=O)C2=C(C...     0   \n",
       "1  OC1=C(C(C)C)C=C(CC2=C(C)C=C(OCC(O)=O)C=C2C)C=C...     0   \n",
       "2  OC1=CC=C(N(C)C2=C(C)C=C(C[C@H](S3)C(NC3=O)=O)C...     0   \n",
       "3  OC1=CC=C(N(CC2CC2)C3=C(C)C=C(C[C@H](S4)C(NC4=O...     0   \n",
       "4  OC1=CC=C(N(CCCCCC)C2=C(C)C=C(C[C@H](S3)C(NC3=O...     0   \n",
       "\n",
       "                                               ROMol    Molwt     LogP  HBA  \\\n",
       "0  <img data-content=\"rdkit/molecule\" src=\"data:i...  581.838  8.88724    4   \n",
       "1  <img data-content=\"rdkit/molecule\" src=\"data:i...  473.525  5.49464    5   \n",
       "2  <img data-content=\"rdkit/molecule\" src=\"data:i...  398.528  4.79444    5   \n",
       "3  <img data-content=\"rdkit/molecule\" src=\"data:i...  438.593  5.57464    5   \n",
       "4  <img data-content=\"rdkit/molecule\" src=\"data:i...  468.663  6.74494    5   \n",
       "\n",
       "   HBD  \n",
       "0    2  \n",
       "1    2  \n",
       "2    2  \n",
       "3    2  \n",
       "4    2  "
      ]
     },
     "execution_count": 22,
     "metadata": {},
     "output_type": "execute_result"
    }
   ],
   "source": [
    "df.head()"
   ]
  },
  {
   "cell_type": "code",
   "execution_count": 23,
   "id": "ee842f75-cb94-4bd8-bb3d-28b7d0855027",
   "metadata": {},
   "outputs": [
    {
     "data": {
      "text/plain": [
       "<AxesSubplot:xlabel='label', ylabel='Molwt'>"
      ]
     },
     "execution_count": 23,
     "metadata": {},
     "output_type": "execute_result"
    },
    {
     "data": {
      "image/png": "[encoded data removed]",
      "text/plain": [
       "<Figure size 432x288 with 1 Axes>"
      ]
     },
     "metadata": {
      "needs_background": "light"
     },
     "output_type": "display_data"
    }
   ],
   "source": [
    "sns.boxplot(x=df[\"label\"],y=df[\"Molwt\"])"
   ]
  },
  {
   "cell_type": "markdown",
   "id": "d7e6e4b4-cef3-4c78-ad7b-675a577d330b",
   "metadata": {},
   "source": [
    "+ Both Agonists and antagonists almost share similar Molwt."
   ]
  },
  {
   "cell_type": "code",
   "execution_count": 24,
   "id": "b4a06e3b-0868-42b5-ac7d-920f0d56812a",
   "metadata": {},
   "outputs": [
    {
     "data": {
      "text/plain": [
       "<AxesSubplot:xlabel='label', ylabel='LogP'>"
      ]
     },
     "execution_count": 24,
     "metadata": {},
     "output_type": "execute_result"
    },
    {
     "data": {
      "image/png": "[encoded data removed]",
      "text/plain": [
       "<Figure size 432x288 with 1 Axes>"
      ]
     },
     "metadata": {
      "needs_background": "light"
     },
     "output_type": "display_data"
    }
   ],
   "source": [
    "sns.boxplot(x=df[\"label\"],y=df[\"LogP\"])"
   ]
  },
  {
   "cell_type": "code",
   "execution_count": 25,
   "id": "c7342c0d-5ad2-4ab1-a414-4a7935a323bc",
   "metadata": {},
   "outputs": [
    {
     "data": {
      "text/plain": [
       "<AxesSubplot:xlabel='label', ylabel='HBA'>"
      ]
     },
     "execution_count": 25,
     "metadata": {},
     "output_type": "execute_result"
    },
    {
     "data": {
      "image/png": "[encoded data removed]",
      "text/plain": [
       "<Figure size 432x288 with 1 Axes>"
      ]
     },
     "metadata": {
      "needs_background": "light"
     },
     "output_type": "display_data"
    }
   ],
   "source": [
    "sns.boxplot(x=df[\"label\"],y=df[\"HBA\"])"
   ]
  },
  {
   "cell_type": "code",
   "execution_count": 26,
   "id": "d9f24825-c188-41bc-8f9c-8129c33a906f",
   "metadata": {},
   "outputs": [
    {
     "data": {
      "text/plain": [
       "<AxesSubplot:xlabel='label', ylabel='HBD'>"
      ]
     },
     "execution_count": 26,
     "metadata": {},
     "output_type": "execute_result"
    },
    {
     "data": {
      "image/png": "[encoded data removed]",
      "text/plain": [
       "<Figure size 432x288 with 1 Axes>"
      ]
     },
     "metadata": {
      "needs_background": "light"
     },
     "output_type": "display_data"
    }
   ],
   "source": [
    "sns.boxplot(x=df[\"label\"],y=df[\"HBD\"])"
   ]
  },
  {
   "cell_type": "markdown",
   "id": "4037d1e1-a1c1-4dae-b8ba-4a33c072898a",
   "metadata": {},
   "source": [
    "+ Agonists tend to have more Hb doners."
   ]
  },
  {
   "cell_type": "code",
   "execution_count": 27,
   "id": "ec218900-53d0-4b60-80b1-cd6d11ada65c",
   "metadata": {},
   "outputs": [
    {
     "data": {
      "text/plain": [
       "<AxesSubplot:xlabel='Molwt', ylabel='LogP'>"
      ]
     },
     "execution_count": 27,
     "metadata": {},
     "output_type": "execute_result"
    },
    {
     "data": {
      "image/png": "[encoded data removed]",
      "text/plain": [
       "<Figure size 720x576 with 1 Axes>"
      ]
     },
     "metadata": {
      "needs_background": "light"
     },
     "output_type": "display_data"
    }
   ],
   "source": [
    "plt.figure(figsize=(10,8))\n",
    "sns.scatterplot(x=df[\"Molwt\"],y=df[\"LogP\"],hue=df[\"label\"],alpha=1,edgecolor=\"black\")"
   ]
  },
  {
   "cell_type": "code",
   "execution_count": null,
   "id": "068dcb7e-1d05-4edb-a39b-0b2ceff5df9c",
   "metadata": {},
   "outputs": [],
   "source": []
  },
  {
   "cell_type": "code",
   "execution_count": 28,
   "id": "7c73792e-8589-480d-a64a-6bfeeaa171f2",
   "metadata": {},
   "outputs": [
    {
     "ename": "NameError",
     "evalue": "name 'mannwhitneyu' is not defined",
     "output_type": "error",
     "traceback": [
      "\u001b[0;31m---------------------------------------------------------------------------\u001b[0m",
      "\u001b[0;31mNameError\u001b[0m                                 Traceback (most recent call last)",
      "\u001b[0;32m/var/folders/ng/whnp3t611lq2k8dzf4hzhtnw0000gn/T/ipykernel_8363/3225316430.py\u001b[0m in \u001b[0;36m<module>\u001b[0;34m\u001b[0m\n\u001b[0;32m----> 1\u001b[0;31m \u001b[0mmannwhitneyu\u001b[0m\u001b[0;34m(\u001b[0m\u001b[0mdf\u001b[0m\u001b[0;34m[\u001b[0m\u001b[0;34m\"HBA\"\u001b[0m\u001b[0;34m]\u001b[0m\u001b[0;34m,\u001b[0m\u001b[0mdf\u001b[0m\u001b[0;34m[\u001b[0m\u001b[0;34m\"HBD\"\u001b[0m\u001b[0;34m]\u001b[0m\u001b[0;34m)\u001b[0m\u001b[0;34m\u001b[0m\u001b[0;34m\u001b[0m\u001b[0m\n\u001b[0m",
      "\u001b[0;31mNameError\u001b[0m: name 'mannwhitneyu' is not defined"
     ]
    }
   ],
   "source": [
    "mannwhitneyu(df[\"HBA\"],df[\"HBD\"])"
   ]
  },
  {
   "cell_type": "code",
   "execution_count": 29,
   "id": "246e8606-c986-432e-830d-8a7140412c63",
   "metadata": {},
   "outputs": [
    {
     "data": {
      "text/html": [
       "<div>\n",
       "<style scoped>\n",
       "    .dataframe tbody tr th:only-of-type {\n",
       "        vertical-align: middle;\n",
       "    }\n",
       "\n",
       "    .dataframe tbody tr th {\n",
       "        vertical-align: top;\n",
       "    }\n",
       "\n",
       "    .dataframe thead th {\n",
       "        text-align: right;\n",
       "    }\n",
       "</style>\n",
       "<table border=\"1\" class=\"dataframe\">\n",
       "  <thead>\n",
       "    <tr style=\"text-align: right;\">\n",
       "      <th></th>\n",
       "      <th>Molwt</th>\n",
       "      <th>label</th>\n",
       "    </tr>\n",
       "  </thead>\n",
       "  <tbody>\n",
       "    <tr>\n",
       "      <th>0</th>\n",
       "      <td>581.838</td>\n",
       "      <td>0</td>\n",
       "    </tr>\n",
       "    <tr>\n",
       "      <th>1</th>\n",
       "      <td>473.525</td>\n",
       "      <td>0</td>\n",
       "    </tr>\n",
       "    <tr>\n",
       "      <th>2</th>\n",
       "      <td>398.528</td>\n",
       "      <td>0</td>\n",
       "    </tr>\n",
       "    <tr>\n",
       "      <th>3</th>\n",
       "      <td>438.593</td>\n",
       "      <td>0</td>\n",
       "    </tr>\n",
       "    <tr>\n",
       "      <th>4</th>\n",
       "      <td>468.663</td>\n",
       "      <td>0</td>\n",
       "    </tr>\n",
       "    <tr>\n",
       "      <th>...</th>\n",
       "      <td>...</td>\n",
       "      <td>...</td>\n",
       "    </tr>\n",
       "    <tr>\n",
       "      <th>254</th>\n",
       "      <td>433.255</td>\n",
       "      <td>1</td>\n",
       "    </tr>\n",
       "    <tr>\n",
       "      <th>255</th>\n",
       "      <td>449.254</td>\n",
       "      <td>1</td>\n",
       "    </tr>\n",
       "    <tr>\n",
       "      <th>256</th>\n",
       "      <td>447.282</td>\n",
       "      <td>1</td>\n",
       "    </tr>\n",
       "    <tr>\n",
       "      <th>257</th>\n",
       "      <td>410.217</td>\n",
       "      <td>1</td>\n",
       "    </tr>\n",
       "    <tr>\n",
       "      <th>258</th>\n",
       "      <td>408.245</td>\n",
       "      <td>1</td>\n",
       "    </tr>\n",
       "  </tbody>\n",
       "</table>\n",
       "<p>258 rows × 2 columns</p>\n",
       "</div>"
      ],
      "text/plain": [
       "       Molwt label\n",
       "0    581.838     0\n",
       "1    473.525     0\n",
       "2    398.528     0\n",
       "3    438.593     0\n",
       "4    468.663     0\n",
       "..       ...   ...\n",
       "254  433.255     1\n",
       "255  449.254     1\n",
       "256  447.282     1\n",
       "257  410.217     1\n",
       "258  408.245     1\n",
       "\n",
       "[258 rows x 2 columns]"
      ]
     },
     "execution_count": 29,
     "metadata": {},
     "output_type": "execute_result"
    }
   ],
   "source": [
    "df[[\"Molwt\",\"label\"]]"
   ]
  },
  {
   "cell_type": "code",
   "execution_count": 30,
   "id": "46e09023-039d-48d4-a1a1-46b0241c0caa",
   "metadata": {},
   "outputs": [],
   "source": [
    "def mannwhitney(descriptor, verbose=False):\n",
    "  # https://machinelearningmastery.com/nonparametric-statistical-significance-tests-in-python/\n",
    "  from numpy.random import seed\n",
    "  from numpy.random import randn\n",
    "  from scipy.stats import mannwhitneyu\n",
    "\n",
    "# seed the random number generator\n",
    "  seed(1)\n",
    "\n",
    "# actives and inactives\n",
    "  selection = [descriptor, 'label']\n",
    "  df_ = df[selection]\n",
    "  agonist = df_[df_['label'] == \"1\"]\n",
    "  agonist = agonist[descriptor]\n",
    "\n",
    "  selection = [descriptor, 'label']\n",
    "  df_ = df[selection]\n",
    "  antagonist = df_[df_['label'] == \"0\"]\n",
    "  antagonist = antagonist[descriptor]\n",
    "\n",
    "# compare samples\n",
    "  stat, p = mannwhitneyu(agonist, antagonist)\n",
    "  #print('Statistics=%.3f, p=%.3f' % (stat, p))\n",
    "\n",
    "# interpret\n",
    "  alpha = 0.05\n",
    "  if p > alpha:\n",
    "    interpretation = 'Same distribution (fail to reject H0)'\n",
    "  else:\n",
    "    interpretation = 'Different distribution (reject H0)'\n",
    "  \n",
    "  results = pd.DataFrame({'Descriptor':descriptor,\n",
    "                          'Statistics':stat,\n",
    "                          'p':p,\n",
    "                          'alpha':alpha,\n",
    "                          'Interpretation':interpretation}, index=[0])\n",
    "  return results"
   ]
  },
  {
   "cell_type": "code",
   "execution_count": 31,
   "id": "d8fe47f3-4837-45f7-a46c-47700a68e2d1",
   "metadata": {},
   "outputs": [
    {
     "data": {
      "text/html": [
       "<div>\n",
       "<style scoped>\n",
       "    .dataframe tbody tr th:only-of-type {\n",
       "        vertical-align: middle;\n",
       "    }\n",
       "\n",
       "    .dataframe tbody tr th {\n",
       "        vertical-align: top;\n",
       "    }\n",
       "\n",
       "    .dataframe thead th {\n",
       "        text-align: right;\n",
       "    }\n",
       "</style>\n",
       "<table border=\"1\" class=\"dataframe\">\n",
       "  <thead>\n",
       "    <tr style=\"text-align: right;\">\n",
       "      <th></th>\n",
       "      <th>Descriptor</th>\n",
       "      <th>Statistics</th>\n",
       "      <th>p</th>\n",
       "      <th>alpha</th>\n",
       "      <th>Interpretation</th>\n",
       "    </tr>\n",
       "  </thead>\n",
       "  <tbody>\n",
       "    <tr>\n",
       "      <th>0</th>\n",
       "      <td>Molwt</td>\n",
       "      <td>5940.5</td>\n",
       "      <td>0.447278</td>\n",
       "      <td>0.05</td>\n",
       "      <td>Same distribution (fail to reject H0)</td>\n",
       "    </tr>\n",
       "  </tbody>\n",
       "</table>\n",
       "</div>"
      ],
      "text/plain": [
       "  Descriptor  Statistics         p  alpha  \\\n",
       "0      Molwt      5940.5  0.447278   0.05   \n",
       "\n",
       "                          Interpretation  \n",
       "0  Same distribution (fail to reject H0)  "
      ]
     },
     "execution_count": 31,
     "metadata": {},
     "output_type": "execute_result"
    }
   ],
   "source": [
    "mannwhitney(\"Molwt\")"
   ]
  },
  {
   "cell_type": "code",
   "execution_count": 32,
   "id": "712301d9-af41-4894-bc3a-a9bbe7212ed3",
   "metadata": {},
   "outputs": [
    {
     "data": {
      "text/html": [
       "<div>\n",
       "<style scoped>\n",
       "    .dataframe tbody tr th:only-of-type {\n",
       "        vertical-align: middle;\n",
       "    }\n",
       "\n",
       "    .dataframe tbody tr th {\n",
       "        vertical-align: top;\n",
       "    }\n",
       "\n",
       "    .dataframe thead th {\n",
       "        text-align: right;\n",
       "    }\n",
       "</style>\n",
       "<table border=\"1\" class=\"dataframe\">\n",
       "  <thead>\n",
       "    <tr style=\"text-align: right;\">\n",
       "      <th></th>\n",
       "      <th>Descriptor</th>\n",
       "      <th>Statistics</th>\n",
       "      <th>p</th>\n",
       "      <th>alpha</th>\n",
       "      <th>Interpretation</th>\n",
       "    </tr>\n",
       "  </thead>\n",
       "  <tbody>\n",
       "    <tr>\n",
       "      <th>0</th>\n",
       "      <td>LogP</td>\n",
       "      <td>5324.0</td>\n",
       "      <td>0.089622</td>\n",
       "      <td>0.05</td>\n",
       "      <td>Same distribution (fail to reject H0)</td>\n",
       "    </tr>\n",
       "  </tbody>\n",
       "</table>\n",
       "</div>"
      ],
      "text/plain": [
       "  Descriptor  Statistics         p  alpha  \\\n",
       "0       LogP      5324.0  0.089622   0.05   \n",
       "\n",
       "                          Interpretation  \n",
       "0  Same distribution (fail to reject H0)  "
      ]
     },
     "execution_count": 32,
     "metadata": {},
     "output_type": "execute_result"
    }
   ],
   "source": [
    "mannwhitney(\"LogP\")"
   ]
  },
  {
   "cell_type": "code",
   "execution_count": 33,
   "id": "cf5dfc21-f319-4153-9728-61ca3d7895e4",
   "metadata": {},
   "outputs": [
    {
     "data": {
      "text/html": [
       "<div>\n",
       "<style scoped>\n",
       "    .dataframe tbody tr th:only-of-type {\n",
       "        vertical-align: middle;\n",
       "    }\n",
       "\n",
       "    .dataframe tbody tr th {\n",
       "        vertical-align: top;\n",
       "    }\n",
       "\n",
       "    .dataframe thead th {\n",
       "        text-align: right;\n",
       "    }\n",
       "</style>\n",
       "<table border=\"1\" class=\"dataframe\">\n",
       "  <thead>\n",
       "    <tr style=\"text-align: right;\">\n",
       "      <th></th>\n",
       "      <th>Descriptor</th>\n",
       "      <th>Statistics</th>\n",
       "      <th>p</th>\n",
       "      <th>alpha</th>\n",
       "      <th>Interpretation</th>\n",
       "    </tr>\n",
       "  </thead>\n",
       "  <tbody>\n",
       "    <tr>\n",
       "      <th>0</th>\n",
       "      <td>HBA</td>\n",
       "      <td>5101.5</td>\n",
       "      <td>0.033536</td>\n",
       "      <td>0.05</td>\n",
       "      <td>Different distribution (reject H0)</td>\n",
       "    </tr>\n",
       "  </tbody>\n",
       "</table>\n",
       "</div>"
      ],
      "text/plain": [
       "  Descriptor  Statistics         p  alpha                      Interpretation\n",
       "0        HBA      5101.5  0.033536   0.05  Different distribution (reject H0)"
      ]
     },
     "execution_count": 33,
     "metadata": {},
     "output_type": "execute_result"
    }
   ],
   "source": [
    "mannwhitney(\"HBA\")"
   ]
  },
  {
   "cell_type": "code",
   "execution_count": 34,
   "id": "3a578337-eb2e-4500-9f50-95d77d4f7f3b",
   "metadata": {},
   "outputs": [
    {
     "data": {
      "text/html": [
       "<div>\n",
       "<style scoped>\n",
       "    .dataframe tbody tr th:only-of-type {\n",
       "        vertical-align: middle;\n",
       "    }\n",
       "\n",
       "    .dataframe tbody tr th {\n",
       "        vertical-align: top;\n",
       "    }\n",
       "\n",
       "    .dataframe thead th {\n",
       "        text-align: right;\n",
       "    }\n",
       "</style>\n",
       "<table border=\"1\" class=\"dataframe\">\n",
       "  <thead>\n",
       "    <tr style=\"text-align: right;\">\n",
       "      <th></th>\n",
       "      <th>Descriptor</th>\n",
       "      <th>Statistics</th>\n",
       "      <th>p</th>\n",
       "      <th>alpha</th>\n",
       "      <th>Interpretation</th>\n",
       "    </tr>\n",
       "  </thead>\n",
       "  <tbody>\n",
       "    <tr>\n",
       "      <th>0</th>\n",
       "      <td>HBD</td>\n",
       "      <td>4366.5</td>\n",
       "      <td>0.000207</td>\n",
       "      <td>0.05</td>\n",
       "      <td>Different distribution (reject H0)</td>\n",
       "    </tr>\n",
       "  </tbody>\n",
       "</table>\n",
       "</div>"
      ],
      "text/plain": [
       "  Descriptor  Statistics         p  alpha                      Interpretation\n",
       "0        HBD      4366.5  0.000207   0.05  Different distribution (reject H0)"
      ]
     },
     "execution_count": 34,
     "metadata": {},
     "output_type": "execute_result"
    }
   ],
   "source": [
    "mannwhitney(\"HBD\")"
   ]
  },
  {
   "cell_type": "markdown",
   "id": "0ed02d78-0569-4fb7-8db6-c81a2712ac02",
   "metadata": {},
   "source": [
    "### Molecular Descriptors"
   ]
  },
  {
   "cell_type": "markdown",
   "id": "6534d014-8be4-4179-8ab1-242bd0201dc4",
   "metadata": {},
   "source": [
    "+ In the paper, DRAGON software (currently not available) was used for descriptors Generation. Here morgan fingerprints and MACCS will be generated."
   ]
  },
  {
   "cell_type": "code",
   "execution_count": 35,
   "id": "b94526c0-7273-4429-9583-924cb1232a4a",
   "metadata": {},
   "outputs": [
    {
     "data": {
      "text/html": [
       "<div>\n",
       "<style scoped>\n",
       "    .dataframe tbody tr th:only-of-type {\n",
       "        vertical-align: middle;\n",
       "    }\n",
       "\n",
       "    .dataframe tbody tr th {\n",
       "        vertical-align: top;\n",
       "    }\n",
       "\n",
       "    .dataframe thead th {\n",
       "        text-align: right;\n",
       "    }\n",
       "</style>\n",
       "<table border=\"1\" class=\"dataframe\">\n",
       "  <thead>\n",
       "    <tr style=\"text-align: right;\">\n",
       "      <th></th>\n",
       "      <th>smiles</th>\n",
       "      <th>label</th>\n",
       "      <th>ROMol</th>\n",
       "      <th>Molwt</th>\n",
       "      <th>LogP</th>\n",
       "      <th>HBA</th>\n",
       "      <th>HBD</th>\n",
       "    </tr>\n",
       "  </thead>\n",
       "  <tbody>\n",
       "    <tr>\n",
       "      <th>0</th>\n",
       "      <td>OC1=CC=C([C@@H](CCCCCCCCCCC(N(C)CCCC)=O)C2=C(C...</td>\n",
       "      <td>0</td>\n",
       "      <td>&lt;img data-content=\"rdkit/molecule\" src=\"data:image/png;base64,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\" alt=\"Mol\"/&gt;</td>\n",
       "      <td>581.838</td>\n",
       "      <td>8.88724</td>\n",
       "      <td>4</td>\n",
       "      <td>2</td>\n",
       "    </tr>\n",
       "    <tr>\n",
       "      <th>1</th>\n",
       "      <td>OC1=C(C(C)C)C=C(CC2=C(C)C=C(OCC(O)=O)C=C2C)C=C...</td>\n",
       "      <td>0</td>\n",
       "      <td>&lt;img data-content=\"rdkit/molecule\" src=\"data:image/png;base64,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\" alt=\"Mol\"/&gt;</td>\n",
       "      <td>473.525</td>\n",
       "      <td>5.49464</td>\n",
       "      <td>5</td>\n",
       "      <td>2</td>\n",
       "    </tr>\n",
       "    <tr>\n",
       "      <th>2</th>\n",
       "      <td>OC1=CC=C(N(C)C2=C(C)C=C(C[C@H](S3)C(NC3=O)=O)C...</td>\n",
       "      <td>0</td>\n",
       "      <td>&lt;img data-content=\"rdkit/molecule\" src=\"data:image/png;base64,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\" alt=\"Mol\"/&gt;</td>\n",
       "      <td>398.528</td>\n",
       "      <td>4.79444</td>\n",
       "      <td>5</td>\n",
       "      <td>2</td>\n",
       "    </tr>\n",
       "    <tr>\n",
       "      <th>3</th>\n",
       "      <td>OC1=CC=C(N(CC2CC2)C3=C(C)C=C(C[C@H](S4)C(NC4=O...</td>\n",
       "      <td>0</td>\n",
       "      <td>&lt;img data-content=\"rdkit/molecule\" src=\"data:image/png;base64,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\" alt=\"Mol\"/&gt;</td>\n",
       "      <td>438.593</td>\n",
       "      <td>5.57464</td>\n",
       "      <td>5</td>\n",
       "      <td>2</td>\n",
       "    </tr>\n",
       "    <tr>\n",
       "      <th>4</th>\n",
       "      <td>OC1=CC=C(N(CCCCCC)C2=C(C)C=C(C[C@H](S3)C(NC3=O...</td>\n",
       "      <td>0</td>\n",
       "      <td>&lt;img data-content=\"rdkit/molecule\" src=\"data:image/png;base64,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\" alt=\"Mol\"/&gt;</td>\n",
       "      <td>468.663</td>\n",
       "      <td>6.74494</td>\n",
       "      <td>5</td>\n",
       "      <td>2</td>\n",
       "    </tr>\n",
       "  </tbody>\n",
       "</table>\n",
       "</div>"
      ],
      "text/plain": [
       "                                              smiles label  \\\n",
       "0  OC1=CC=C([C@@H](CCCCCCCCCCC(N(C)CCCC)=O)C2=C(C...     0   \n",
       "1  OC1=C(C(C)C)C=C(CC2=C(C)C=C(OCC(O)=O)C=C2C)C=C...     0   \n",
       "2  OC1=CC=C(N(C)C2=C(C)C=C(C[C@H](S3)C(NC3=O)=O)C...     0   \n",
       "3  OC1=CC=C(N(CC2CC2)C3=C(C)C=C(C[C@H](S4)C(NC4=O...     0   \n",
       "4  OC1=CC=C(N(CCCCCC)C2=C(C)C=C(C[C@H](S3)C(NC3=O...     0   \n",
       "\n",
       "                                               ROMol    Molwt     LogP  HBA  \\\n",
       "0  <img data-content=\"rdkit/molecule\" src=\"data:i...  581.838  8.88724    4   \n",
       "1  <img data-content=\"rdkit/molecule\" src=\"data:i...  473.525  5.49464    5   \n",
       "2  <img data-content=\"rdkit/molecule\" src=\"data:i...  398.528  4.79444    5   \n",
       "3  <img data-content=\"rdkit/molecule\" src=\"data:i...  438.593  5.57464    5   \n",
       "4  <img data-content=\"rdkit/molecule\" src=\"data:i...  468.663  6.74494    5   \n",
       "\n",
       "   HBD  \n",
       "0    2  \n",
       "1    2  \n",
       "2    2  \n",
       "3    2  \n",
       "4    2  "
      ]
     },
     "execution_count": 35,
     "metadata": {},
     "output_type": "execute_result"
    }
   ],
   "source": [
    "df.head()"
   ]
  },
  {
   "cell_type": "code",
   "execution_count": 36,
   "id": "6a8ed2ab-73ab-4eb5-9675-71163b87eac0",
   "metadata": {},
   "outputs": [],
   "source": [
    "mfp = []\n",
    "for mol in df.ROMol:\n",
    "    molH = AllChem.AddHs(mol)\n",
    "    mfp.append(AllChem.GetMorganFingerprintAsBitVect(molH,2,1024))"
   ]
  },
  {
   "cell_type": "code",
   "execution_count": 37,
   "id": "15dd9069-917c-45e4-ba68-c5fe2bbbecaa",
   "metadata": {},
   "outputs": [],
   "source": [
    "mfp = np.asarray(mfp,dtype=np.float32)"
   ]
  },
  {
   "cell_type": "code",
   "execution_count": 38,
   "id": "4e605bf6-3a4e-4063-991b-1259f07870ac",
   "metadata": {},
   "outputs": [],
   "source": [
    "maccs = []\n",
    "for mol in df.ROMol:\n",
    "    molH = AllChem.AddHs(mol)\n",
    "    maccs.append(MACCSkeys.GenMACCSKeys(molH))"
   ]
  },
  {
   "cell_type": "code",
   "execution_count": 39,
   "id": "05b46ebd-56c3-4c2d-940e-ccbaf3b603dc",
   "metadata": {},
   "outputs": [],
   "source": [
    "maccs = np.asarray(maccs,dtype=np.float32)"
   ]
  },
  {
   "cell_type": "code",
   "execution_count": 40,
   "id": "64c3bf2f-0184-4077-9de9-0c9b9bc9e705",
   "metadata": {},
   "outputs": [
    {
     "data": {
      "text/plain": [
       "array([[0., 0., 0., ..., 1., 1., 0.],\n",
       "       [0., 0., 0., ..., 1., 1., 0.],\n",
       "       [0., 0., 0., ..., 1., 1., 0.],\n",
       "       ...,\n",
       "       [0., 0., 0., ..., 1., 1., 0.],\n",
       "       [0., 0., 0., ..., 1., 1., 0.],\n",
       "       [0., 0., 0., ..., 1., 1., 0.]], dtype=float32)"
      ]
     },
     "execution_count": 40,
     "metadata": {},
     "output_type": "execute_result"
    }
   ],
   "source": [
    "maccs"
   ]
  },
  {
   "cell_type": "markdown",
   "id": "0b2661fe-6104-4ddb-96b1-9b8d71d7d507",
   "metadata": {},
   "source": [
    "### Feature Selection "
   ]
  },
  {
   "cell_type": "markdown",
   "id": "fa7ad017-a33d-495a-8648-ec515409f3ba",
   "metadata": {},
   "source": [
    "In order to reduce the information obviously redundant, the descriptors with > 95% zeros are excluded."
   ]
  },
  {
   "cell_type": "code",
   "execution_count": 41,
   "id": "ef2b721f-2698-47c6-9021-5a5893aa1d97",
   "metadata": {},
   "outputs": [],
   "source": [
    "from sklearn.feature_selection import VarianceThreshold"
   ]
  },
  {
   "cell_type": "code",
   "execution_count": 42,
   "id": "e2729e9a-b4e9-4c21-a14f-cf0ad08a1f68",
   "metadata": {},
   "outputs": [],
   "source": [
    "var = VarianceThreshold(threshold=0.05)"
   ]
  },
  {
   "cell_type": "code",
   "execution_count": 43,
   "id": "0712b09d-3792-4d1f-aa64-92c364e07f78",
   "metadata": {},
   "outputs": [],
   "source": [
    "mfp = var.fit_transform(mfp)"
   ]
  },
  {
   "cell_type": "code",
   "execution_count": 44,
   "id": "539d099a-45b4-4c21-bf78-bdd225fee2a3",
   "metadata": {},
   "outputs": [
    {
     "data": {
      "text/plain": [
       "146"
      ]
     },
     "execution_count": 44,
     "metadata": {},
     "output_type": "execute_result"
    }
   ],
   "source": [
    "len(mfp[0])"
   ]
  },
  {
   "cell_type": "markdown",
   "id": "7d9ff335-d477-42d8-a47d-a39f754e7a28",
   "metadata": {},
   "source": [
    "+ The number of morganfingerprints decreases from 1024 to 146. "
   ]
  },
  {
   "cell_type": "code",
   "execution_count": 45,
   "id": "9e275fba-322a-4694-b963-b50f12065f36",
   "metadata": {},
   "outputs": [
    {
     "data": {
      "text/plain": [
       "array(['x0', 'x5', 'x20', 'x26', 'x29', 'x36', 'x41', 'x53', 'x70', 'x73',\n",
       "       'x76', 'x77', 'x81', 'x88', 'x114', 'x119', 'x122', 'x133', 'x139',\n",
       "       'x145', 'x146', 'x171', 'x174', 'x175', 'x182', 'x186', 'x189',\n",
       "       'x192', 'x197', 'x201', 'x213', 'x219', 'x223', 'x228', 'x248',\n",
       "       'x264', 'x267', 'x276', 'x282', 'x285', 'x301', 'x313', 'x314',\n",
       "       'x317', 'x333', 'x341', 'x347', 'x350', 'x353', 'x365', 'x366',\n",
       "       'x378', 'x400', 'x407', 'x416', 'x429', 'x434', 'x436', 'x449',\n",
       "       'x453', 'x466', 'x482', 'x486', 'x494', 'x504', 'x505', 'x518',\n",
       "       'x519', 'x546', 'x547', 'x548', 'x561', 'x579', 'x586', 'x592',\n",
       "       'x593', 'x595', 'x596', 'x607', 'x608', 'x617', 'x619', 'x632',\n",
       "       'x635', 'x649', 'x656', 'x659', 'x667', 'x669', 'x674', 'x675',\n",
       "       'x677', 'x685', 'x692', 'x701', 'x708', 'x714', 'x715', 'x723',\n",
       "       'x725', 'x728', 'x753', 'x754', 'x759', 'x771', 'x774', 'x782',\n",
       "       'x783', 'x790', 'x799', 'x807', 'x809', 'x816', 'x828', 'x831',\n",
       "       'x832', 'x838', 'x847', 'x848', 'x854', 'x855', 'x861', 'x871',\n",
       "       'x879', 'x881', 'x887', 'x893', 'x904', 'x906', 'x918', 'x926',\n",
       "       'x932', 'x935', 'x939', 'x952', 'x957', 'x960', 'x977', 'x981',\n",
       "       'x990', 'x1005', 'x1009', 'x1011', 'x1013', 'x1021', 'x1022'],\n",
       "      dtype=object)"
      ]
     },
     "execution_count": 45,
     "metadata": {},
     "output_type": "execute_result"
    }
   ],
   "source": [
    "var.get_feature_names_out()"
   ]
  },
  {
   "cell_type": "code",
   "execution_count": 46,
   "id": "0c3e96de-0f27-4e46-bda4-ca709713d3dd",
   "metadata": {},
   "outputs": [],
   "source": [
    "maccs = var.fit_transform(maccs)"
   ]
  },
  {
   "cell_type": "code",
   "execution_count": 47,
   "id": "30a7b0fd-d1c5-45a9-82a8-9bacedf98209",
   "metadata": {},
   "outputs": [
    {
     "data": {
      "text/plain": [
       "113"
      ]
     },
     "execution_count": 47,
     "metadata": {},
     "output_type": "execute_result"
    }
   ],
   "source": [
    "len(maccs[0])"
   ]
  },
  {
   "cell_type": "markdown",
   "id": "e61f1274-b89d-4800-8230-891f4eae1534",
   "metadata": {},
   "source": [
    "### Self Organizing Map (SOM)"
   ]
  },
  {
   "cell_type": "markdown",
   "id": "b938ee08-5ebb-42b6-af7f-f78368efa7f7",
   "metadata": {},
   "source": [
    "+ SOM was used for clustering of molecules and data was split into training and test sets according to molecules distribution. We will use Morgan FP to generate SOM and visualize it."
   ]
  },
  {
   "cell_type": "code",
   "execution_count": 48,
   "id": "302e1b53-2c99-4536-82f6-9aed71a3ff9e",
   "metadata": {},
   "outputs": [],
   "source": [
    "from collections import Counter\n",
    "from matplotlib import pyplot as plt\n",
    "from matplotlib.gridspec import GridSpec\n",
    "from minisom import MiniSom"
   ]
  },
  {
   "cell_type": "code",
   "execution_count": 49,
   "id": "bf84ed21-c464-42c0-baa9-1bbc9db5c563",
   "metadata": {},
   "outputs": [],
   "source": [
    "# 8x8 SOM\n",
    "\n",
    "som = MiniSom(6,6,len(mfp[0]),sigma=0.5,learning_rate=0.5,random_seed=42)"
   ]
  },
  {
   "cell_type": "code",
   "execution_count": 50,
   "id": "b06a0371-3610-42ce-b77e-81f9fde071d0",
   "metadata": {},
   "outputs": [],
   "source": [
    "som.train_random(mfp,num_iteration=20000)"
   ]
  },
  {
   "cell_type": "code",
   "execution_count": 51,
   "id": "001e1354-7d9c-4623-a7f0-098024256ef1",
   "metadata": {},
   "outputs": [],
   "source": [
    "x = []\n",
    "y =[]\n",
    "\n",
    "for row in mfp:\n",
    "    x_val,y_val = som.winner(row)\n",
    "    x.append(x_val)\n",
    "    y.append(y_val)"
   ]
  },
  {
   "cell_type": "code",
   "execution_count": 52,
   "id": "ac6c3165-648f-4a29-b7ae-aed3a17b0be0",
   "metadata": {},
   "outputs": [],
   "source": [
    "mfp_ = pd.DataFrame(mfp)"
   ]
  },
  {
   "cell_type": "code",
   "execution_count": 53,
   "id": "1c3f49ac-9c64-4f1b-ba0a-34ea1b79c628",
   "metadata": {},
   "outputs": [
    {
     "data": {
      "text/html": [
       "<div>\n",
       "<style scoped>\n",
       "    .dataframe tbody tr th:only-of-type {\n",
       "        vertical-align: middle;\n",
       "    }\n",
       "\n",
       "    .dataframe tbody tr th {\n",
       "        vertical-align: top;\n",
       "    }\n",
       "\n",
       "    .dataframe thead th {\n",
       "        text-align: right;\n",
       "    }\n",
       "</style>\n",
       "<table border=\"1\" class=\"dataframe\">\n",
       "  <thead>\n",
       "    <tr style=\"text-align: right;\">\n",
       "      <th></th>\n",
       "      <th>0</th>\n",
       "      <th>1</th>\n",
       "      <th>2</th>\n",
       "      <th>3</th>\n",
       "      <th>4</th>\n",
       "      <th>5</th>\n",
       "      <th>6</th>\n",
       "      <th>7</th>\n",
       "      <th>8</th>\n",
       "      <th>9</th>\n",
       "      <th>...</th>\n",
       "      <th>136</th>\n",
       "      <th>137</th>\n",
       "      <th>138</th>\n",
       "      <th>139</th>\n",
       "      <th>140</th>\n",
       "      <th>141</th>\n",
       "      <th>142</th>\n",
       "      <th>143</th>\n",
       "      <th>144</th>\n",
       "      <th>145</th>\n",
       "    </tr>\n",
       "  </thead>\n",
       "  <tbody>\n",
       "    <tr>\n",
       "      <th>0</th>\n",
       "      <td>0.0</td>\n",
       "      <td>0.0</td>\n",
       "      <td>1.0</td>\n",
       "      <td>0.0</td>\n",
       "      <td>0.0</td>\n",
       "      <td>0.0</td>\n",
       "      <td>1.0</td>\n",
       "      <td>0.0</td>\n",
       "      <td>1.0</td>\n",
       "      <td>0.0</td>\n",
       "      <td>...</td>\n",
       "      <td>0.0</td>\n",
       "      <td>1.0</td>\n",
       "      <td>0.0</td>\n",
       "      <td>0.0</td>\n",
       "      <td>1.0</td>\n",
       "      <td>0.0</td>\n",
       "      <td>0.0</td>\n",
       "      <td>0.0</td>\n",
       "      <td>0.0</td>\n",
       "      <td>1.0</td>\n",
       "    </tr>\n",
       "    <tr>\n",
       "      <th>1</th>\n",
       "      <td>0.0</td>\n",
       "      <td>0.0</td>\n",
       "      <td>0.0</td>\n",
       "      <td>1.0</td>\n",
       "      <td>0.0</td>\n",
       "      <td>0.0</td>\n",
       "      <td>1.0</td>\n",
       "      <td>0.0</td>\n",
       "      <td>1.0</td>\n",
       "      <td>0.0</td>\n",
       "      <td>...</td>\n",
       "      <td>0.0</td>\n",
       "      <td>1.0</td>\n",
       "      <td>0.0</td>\n",
       "      <td>0.0</td>\n",
       "      <td>1.0</td>\n",
       "      <td>0.0</td>\n",
       "      <td>0.0</td>\n",
       "      <td>1.0</td>\n",
       "      <td>0.0</td>\n",
       "      <td>0.0</td>\n",
       "    </tr>\n",
       "    <tr>\n",
       "      <th>2</th>\n",
       "      <td>0.0</td>\n",
       "      <td>0.0</td>\n",
       "      <td>0.0</td>\n",
       "      <td>0.0</td>\n",
       "      <td>0.0</td>\n",
       "      <td>1.0</td>\n",
       "      <td>1.0</td>\n",
       "      <td>0.0</td>\n",
       "      <td>0.0</td>\n",
       "      <td>1.0</td>\n",
       "      <td>...</td>\n",
       "      <td>0.0</td>\n",
       "      <td>0.0</td>\n",
       "      <td>0.0</td>\n",
       "      <td>1.0</td>\n",
       "      <td>1.0</td>\n",
       "      <td>0.0</td>\n",
       "      <td>0.0</td>\n",
       "      <td>0.0</td>\n",
       "      <td>0.0</td>\n",
       "      <td>0.0</td>\n",
       "    </tr>\n",
       "    <tr>\n",
       "      <th>3</th>\n",
       "      <td>0.0</td>\n",
       "      <td>0.0</td>\n",
       "      <td>0.0</td>\n",
       "      <td>0.0</td>\n",
       "      <td>0.0</td>\n",
       "      <td>1.0</td>\n",
       "      <td>1.0</td>\n",
       "      <td>0.0</td>\n",
       "      <td>0.0</td>\n",
       "      <td>1.0</td>\n",
       "      <td>...</td>\n",
       "      <td>0.0</td>\n",
       "      <td>0.0</td>\n",
       "      <td>0.0</td>\n",
       "      <td>1.0</td>\n",
       "      <td>1.0</td>\n",
       "      <td>0.0</td>\n",
       "      <td>0.0</td>\n",
       "      <td>0.0</td>\n",
       "      <td>0.0</td>\n",
       "      <td>0.0</td>\n",
       "    </tr>\n",
       "    <tr>\n",
       "      <th>4</th>\n",
       "      <td>0.0</td>\n",
       "      <td>0.0</td>\n",
       "      <td>1.0</td>\n",
       "      <td>0.0</td>\n",
       "      <td>0.0</td>\n",
       "      <td>1.0</td>\n",
       "      <td>1.0</td>\n",
       "      <td>0.0</td>\n",
       "      <td>0.0</td>\n",
       "      <td>1.0</td>\n",
       "      <td>...</td>\n",
       "      <td>0.0</td>\n",
       "      <td>0.0</td>\n",
       "      <td>0.0</td>\n",
       "      <td>1.0</td>\n",
       "      <td>1.0</td>\n",
       "      <td>0.0</td>\n",
       "      <td>0.0</td>\n",
       "      <td>0.0</td>\n",
       "      <td>0.0</td>\n",
       "      <td>0.0</td>\n",
       "    </tr>\n",
       "  </tbody>\n",
       "</table>\n",
       "<p>5 rows × 146 columns</p>\n",
       "</div>"
      ],
      "text/plain": [
       "   0    1    2    3    4    5    6    7    8    9    ...  136  137  138  139  \\\n",
       "0  0.0  0.0  1.0  0.0  0.0  0.0  1.0  0.0  1.0  0.0  ...  0.0  1.0  0.0  0.0   \n",
       "1  0.0  0.0  0.0  1.0  0.0  0.0  1.0  0.0  1.0  0.0  ...  0.0  1.0  0.0  0.0   \n",
       "2  0.0  0.0  0.0  0.0  0.0  1.0  1.0  0.0  0.0  1.0  ...  0.0  0.0  0.0  1.0   \n",
       "3  0.0  0.0  0.0  0.0  0.0  1.0  1.0  0.0  0.0  1.0  ...  0.0  0.0  0.0  1.0   \n",
       "4  0.0  0.0  1.0  0.0  0.0  1.0  1.0  0.0  0.0  1.0  ...  0.0  0.0  0.0  1.0   \n",
       "\n",
       "   140  141  142  143  144  145  \n",
       "0  1.0  0.0  0.0  0.0  0.0  1.0  \n",
       "1  1.0  0.0  0.0  1.0  0.0  0.0  \n",
       "2  1.0  0.0  0.0  0.0  0.0  0.0  \n",
       "3  1.0  0.0  0.0  0.0  0.0  0.0  \n",
       "4  1.0  0.0  0.0  0.0  0.0  0.0  \n",
       "\n",
       "[5 rows x 146 columns]"
      ]
     },
     "execution_count": 53,
     "metadata": {},
     "output_type": "execute_result"
    }
   ],
   "source": [
    "mfp_.head()"
   ]
  },
  {
   "cell_type": "code",
   "execution_count": 54,
   "id": "ff579598-ba88-4ab3-8235-9cf7bd664174",
   "metadata": {},
   "outputs": [],
   "source": [
    "mfp_[\"label\"] = df[\"label\"]\n",
    "mfp_[\"X\"] = x\n",
    "mfp_[\"Y\"] = y"
   ]
  },
  {
   "cell_type": "code",
   "execution_count": 55,
   "id": "e6993874-2974-4f15-8743-4d776b1faa3b",
   "metadata": {},
   "outputs": [
    {
     "data": {
      "text/html": [
       "<div>\n",
       "<style scoped>\n",
       "    .dataframe tbody tr th:only-of-type {\n",
       "        vertical-align: middle;\n",
       "    }\n",
       "\n",
       "    .dataframe tbody tr th {\n",
       "        vertical-align: top;\n",
       "    }\n",
       "\n",
       "    .dataframe thead th {\n",
       "        text-align: right;\n",
       "    }\n",
       "</style>\n",
       "<table border=\"1\" class=\"dataframe\">\n",
       "  <thead>\n",
       "    <tr style=\"text-align: right;\">\n",
       "      <th></th>\n",
       "      <th>0</th>\n",
       "      <th>1</th>\n",
       "      <th>2</th>\n",
       "      <th>3</th>\n",
       "      <th>4</th>\n",
       "      <th>5</th>\n",
       "      <th>6</th>\n",
       "      <th>7</th>\n",
       "      <th>8</th>\n",
       "      <th>9</th>\n",
       "      <th>...</th>\n",
       "      <th>139</th>\n",
       "      <th>140</th>\n",
       "      <th>141</th>\n",
       "      <th>142</th>\n",
       "      <th>143</th>\n",
       "      <th>144</th>\n",
       "      <th>145</th>\n",
       "      <th>label</th>\n",
       "      <th>X</th>\n",
       "      <th>Y</th>\n",
       "    </tr>\n",
       "  </thead>\n",
       "  <tbody>\n",
       "    <tr>\n",
       "      <th>0</th>\n",
       "      <td>0.0</td>\n",
       "      <td>0.0</td>\n",
       "      <td>1.0</td>\n",
       "      <td>0.0</td>\n",
       "      <td>0.0</td>\n",
       "      <td>0.0</td>\n",
       "      <td>1.0</td>\n",
       "      <td>0.0</td>\n",
       "      <td>1.0</td>\n",
       "      <td>0.0</td>\n",
       "      <td>...</td>\n",
       "      <td>0.0</td>\n",
       "      <td>1.0</td>\n",
       "      <td>0.0</td>\n",
       "      <td>0.0</td>\n",
       "      <td>0.0</td>\n",
       "      <td>0.0</td>\n",
       "      <td>1.0</td>\n",
       "      <td>0</td>\n",
       "      <td>4</td>\n",
       "      <td>4</td>\n",
       "    </tr>\n",
       "    <tr>\n",
       "      <th>1</th>\n",
       "      <td>0.0</td>\n",
       "      <td>0.0</td>\n",
       "      <td>0.0</td>\n",
       "      <td>1.0</td>\n",
       "      <td>0.0</td>\n",
       "      <td>0.0</td>\n",
       "      <td>1.0</td>\n",
       "      <td>0.0</td>\n",
       "      <td>1.0</td>\n",
       "      <td>0.0</td>\n",
       "      <td>...</td>\n",
       "      <td>0.0</td>\n",
       "      <td>1.0</td>\n",
       "      <td>0.0</td>\n",
       "      <td>0.0</td>\n",
       "      <td>1.0</td>\n",
       "      <td>0.0</td>\n",
       "      <td>0.0</td>\n",
       "      <td>0</td>\n",
       "      <td>3</td>\n",
       "      <td>3</td>\n",
       "    </tr>\n",
       "    <tr>\n",
       "      <th>2</th>\n",
       "      <td>0.0</td>\n",
       "      <td>0.0</td>\n",
       "      <td>0.0</td>\n",
       "      <td>0.0</td>\n",
       "      <td>0.0</td>\n",
       "      <td>1.0</td>\n",
       "      <td>1.0</td>\n",
       "      <td>0.0</td>\n",
       "      <td>0.0</td>\n",
       "      <td>1.0</td>\n",
       "      <td>...</td>\n",
       "      <td>1.0</td>\n",
       "      <td>1.0</td>\n",
       "      <td>0.0</td>\n",
       "      <td>0.0</td>\n",
       "      <td>0.0</td>\n",
       "      <td>0.0</td>\n",
       "      <td>0.0</td>\n",
       "      <td>0</td>\n",
       "      <td>2</td>\n",
       "      <td>4</td>\n",
       "    </tr>\n",
       "    <tr>\n",
       "      <th>3</th>\n",
       "      <td>0.0</td>\n",
       "      <td>0.0</td>\n",
       "      <td>0.0</td>\n",
       "      <td>0.0</td>\n",
       "      <td>0.0</td>\n",
       "      <td>1.0</td>\n",
       "      <td>1.0</td>\n",
       "      <td>0.0</td>\n",
       "      <td>0.0</td>\n",
       "      <td>1.0</td>\n",
       "      <td>...</td>\n",
       "      <td>1.0</td>\n",
       "      <td>1.0</td>\n",
       "      <td>0.0</td>\n",
       "      <td>0.0</td>\n",
       "      <td>0.0</td>\n",
       "      <td>0.0</td>\n",
       "      <td>0.0</td>\n",
       "      <td>0</td>\n",
       "      <td>2</td>\n",
       "      <td>4</td>\n",
       "    </tr>\n",
       "    <tr>\n",
       "      <th>4</th>\n",
       "      <td>0.0</td>\n",
       "      <td>0.0</td>\n",
       "      <td>1.0</td>\n",
       "      <td>0.0</td>\n",
       "      <td>0.0</td>\n",
       "      <td>1.0</td>\n",
       "      <td>1.0</td>\n",
       "      <td>0.0</td>\n",
       "      <td>0.0</td>\n",
       "      <td>1.0</td>\n",
       "      <td>...</td>\n",
       "      <td>1.0</td>\n",
       "      <td>1.0</td>\n",
       "      <td>0.0</td>\n",
       "      <td>0.0</td>\n",
       "      <td>0.0</td>\n",
       "      <td>0.0</td>\n",
       "      <td>0.0</td>\n",
       "      <td>0</td>\n",
       "      <td>2</td>\n",
       "      <td>4</td>\n",
       "    </tr>\n",
       "  </tbody>\n",
       "</table>\n",
       "<p>5 rows × 149 columns</p>\n",
       "</div>"
      ],
      "text/plain": [
       "     0    1    2    3    4    5    6    7    8    9  ...  139  140  141  142  \\\n",
       "0  0.0  0.0  1.0  0.0  0.0  0.0  1.0  0.0  1.0  0.0  ...  0.0  1.0  0.0  0.0   \n",
       "1  0.0  0.0  0.0  1.0  0.0  0.0  1.0  0.0  1.0  0.0  ...  0.0  1.0  0.0  0.0   \n",
       "2  0.0  0.0  0.0  0.0  0.0  1.0  1.0  0.0  0.0  1.0  ...  1.0  1.0  0.0  0.0   \n",
       "3  0.0  0.0  0.0  0.0  0.0  1.0  1.0  0.0  0.0  1.0  ...  1.0  1.0  0.0  0.0   \n",
       "4  0.0  0.0  1.0  0.0  0.0  1.0  1.0  0.0  0.0  1.0  ...  1.0  1.0  0.0  0.0   \n",
       "\n",
       "   143  144  145  label  X  Y  \n",
       "0  0.0  0.0  1.0      0  4  4  \n",
       "1  1.0  0.0  0.0      0  3  3  \n",
       "2  0.0  0.0  0.0      0  2  4  \n",
       "3  0.0  0.0  0.0      0  2  4  \n",
       "4  0.0  0.0  0.0      0  2  4  \n",
       "\n",
       "[5 rows x 149 columns]"
      ]
     },
     "execution_count": 55,
     "metadata": {},
     "output_type": "execute_result"
    }
   ],
   "source": [
    "mfp_.head()"
   ]
  },
  {
   "cell_type": "code",
   "execution_count": 56,
   "id": "163dc342-b16f-4eb9-abc0-e677db45b937",
   "metadata": {},
   "outputs": [],
   "source": [
    "# Adapted from the MiniSom example notebook\n",
    "def depict_som(cluster_df, x_dim, y_dim, x_column=\"X\", y_column=\"Y\"):\n",
    "    \"\"\"\n",
    "    Draw a SOM with each cell depicted as a pie chart\n",
    "    :param cluster_df: data frame with SOM output, should have columns active, X, and Y\n",
    "    :param x_dim: X dimension of the SOM\n",
    "    :param y_dim: Y dimension of the SOM\n",
    "    :return:\n",
    "    \"\"\"\n",
    "    required_colums = [x_column, y_column, \"label\"]\n",
    "    for col in required_colums:\n",
    "        if col not in cluster_df.columns:\n",
    "            print(f\"Error {col} not in dataframe columns\", file=sys.stderr)\n",
    "            sys.exit(1)\n",
    "    cell_dict = {}\n",
    "    for k, v in [x for x in cluster_df.groupby([x_column, y_column])]:\n",
    "        cell_dict[k] = Counter(v[\"label\"])\n",
    "        cell_names = cluster_df[\"label\"].unique()\n",
    "    plt.figure(figsize=(x_dim, y_dim))\n",
    "    the_grid = GridSpec(x_dim, y_dim)\n",
    "    for position in cell_dict.keys():\n",
    "        label_fracs = [cell_dict[position][l] for l in cell_names]\n",
    "        plt.subplot(the_grid[(x_dim - 1) - position[1], position[0]], aspect=1)\n",
    "        patches, texts = plt.pie(label_fracs)"
   ]
  },
  {
   "cell_type": "code",
   "execution_count": 57,
   "id": "0ab9fbc1-cad8-423c-944d-ce92714ffe9c",
   "metadata": {},
   "outputs": [
    {
     "data": {
      "image/png": "[encoded data removed]",
      "text/plain": [
       "<Figure size 576x576 with 35 Axes>"
      ]
     },
     "metadata": {},
     "output_type": "display_data"
    }
   ],
   "source": [
    "depict_som(mfp_,8,8)"
   ]
  },
  {
   "cell_type": "code",
   "execution_count": 58,
   "id": "0e5ccede-fa41-429e-a627-9fadce75ae1e",
   "metadata": {},
   "outputs": [],
   "source": [
    "df[\"X\"] = x\n",
    "df[\"Y\"] = y"
   ]
  },
  {
   "cell_type": "code",
   "execution_count": 59,
   "id": "9e24497a-6315-420a-9f92-8258096e3b1f",
   "metadata": {},
   "outputs": [
    {
     "data": {
      "text/html": [
       "<div>\n",
       "<style scoped>\n",
       "    .dataframe tbody tr th:only-of-type {\n",
       "        vertical-align: middle;\n",
       "    }\n",
       "\n",
       "    .dataframe tbody tr th {\n",
       "        vertical-align: top;\n",
       "    }\n",
       "\n",
       "    .dataframe thead th {\n",
       "        text-align: right;\n",
       "    }\n",
       "</style>\n",
       "<table border=\"1\" class=\"dataframe\">\n",
       "  <thead>\n",
       "    <tr style=\"text-align: right;\">\n",
       "      <th></th>\n",
       "      <th>smiles</th>\n",
       "      <th>label</th>\n",
       "      <th>ROMol</th>\n",
       "      <th>Molwt</th>\n",
       "      <th>LogP</th>\n",
       "      <th>HBA</th>\n",
       "      <th>HBD</th>\n",
       "      <th>X</th>\n",
       "      <th>Y</th>\n",
       "    </tr>\n",
       "  </thead>\n",
       "  <tbody>\n",
       "    <tr>\n",
       "      <th>0</th>\n",
       "      <td>OC1=CC=C([C@@H](CCCCCCCCCCC(N(C)CCCC)=O)C2=C(C...</td>\n",
       "      <td>0</td>\n",
       "      <td>&lt;img data-content=\"rdkit/molecule\" src=\"data:image/png;base64,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\" alt=\"Mol\"/&gt;</td>\n",
       "      <td>581.838</td>\n",
       "      <td>8.88724</td>\n",
       "      <td>4</td>\n",
       "      <td>2</td>\n",
       "      <td>4</td>\n",
       "      <td>4</td>\n",
       "    </tr>\n",
       "    <tr>\n",
       "      <th>1</th>\n",
       "      <td>OC1=C(C(C)C)C=C(CC2=C(C)C=C(OCC(O)=O)C=C2C)C=C...</td>\n",
       "      <td>0</td>\n",
       "      <td>&lt;img data-content=\"rdkit/molecule\" src=\"data:image/png;base64,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\" alt=\"Mol\"/&gt;</td>\n",
       "      <td>473.525</td>\n",
       "      <td>5.49464</td>\n",
       "      <td>5</td>\n",
       "      <td>2</td>\n",
       "      <td>3</td>\n",
       "      <td>3</td>\n",
       "    </tr>\n",
       "    <tr>\n",
       "      <th>2</th>\n",
       "      <td>OC1=CC=C(N(C)C2=C(C)C=C(C[C@H](S3)C(NC3=O)=O)C...</td>\n",
       "      <td>0</td>\n",
       "      <td>&lt;img data-content=\"rdkit/molecule\" src=\"data:image/png;base64,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\" alt=\"Mol\"/&gt;</td>\n",
       "      <td>398.528</td>\n",
       "      <td>4.79444</td>\n",
       "      <td>5</td>\n",
       "      <td>2</td>\n",
       "      <td>2</td>\n",
       "      <td>4</td>\n",
       "    </tr>\n",
       "    <tr>\n",
       "      <th>3</th>\n",
       "      <td>OC1=CC=C(N(CC2CC2)C3=C(C)C=C(C[C@H](S4)C(NC4=O...</td>\n",
       "      <td>0</td>\n",
       "      <td>&lt;img data-content=\"rdkit/molecule\" src=\"data:image/png;base64,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\" alt=\"Mol\"/&gt;</td>\n",
       "      <td>438.593</td>\n",
       "      <td>5.57464</td>\n",
       "      <td>5</td>\n",
       "      <td>2</td>\n",
       "      <td>2</td>\n",
       "      <td>4</td>\n",
       "    </tr>\n",
       "    <tr>\n",
       "      <th>4</th>\n",
       "      <td>OC1=CC=C(N(CCCCCC)C2=C(C)C=C(C[C@H](S3)C(NC3=O...</td>\n",
       "      <td>0</td>\n",
       "      <td>&lt;img data-content=\"rdkit/molecule\" src=\"data:image/png;base64,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\" alt=\"Mol\"/&gt;</td>\n",
       "      <td>468.663</td>\n",
       "      <td>6.74494</td>\n",
       "      <td>5</td>\n",
       "      <td>2</td>\n",
       "      <td>2</td>\n",
       "      <td>4</td>\n",
       "    </tr>\n",
       "  </tbody>\n",
       "</table>\n",
       "</div>"
      ],
      "text/plain": [
       "                                              smiles label  \\\n",
       "0  OC1=CC=C([C@@H](CCCCCCCCCCC(N(C)CCCC)=O)C2=C(C...     0   \n",
       "1  OC1=C(C(C)C)C=C(CC2=C(C)C=C(OCC(O)=O)C=C2C)C=C...     0   \n",
       "2  OC1=CC=C(N(C)C2=C(C)C=C(C[C@H](S3)C(NC3=O)=O)C...     0   \n",
       "3  OC1=CC=C(N(CC2CC2)C3=C(C)C=C(C[C@H](S4)C(NC4=O...     0   \n",
       "4  OC1=CC=C(N(CCCCCC)C2=C(C)C=C(C[C@H](S3)C(NC3=O...     0   \n",
       "\n",
       "                                               ROMol    Molwt     LogP  HBA  \\\n",
       "0  <img data-content=\"rdkit/molecule\" src=\"data:i...  581.838  8.88724    4   \n",
       "1  <img data-content=\"rdkit/molecule\" src=\"data:i...  473.525  5.49464    5   \n",
       "2  <img data-content=\"rdkit/molecule\" src=\"data:i...  398.528  4.79444    5   \n",
       "3  <img data-content=\"rdkit/molecule\" src=\"data:i...  438.593  5.57464    5   \n",
       "4  <img data-content=\"rdkit/molecule\" src=\"data:i...  468.663  6.74494    5   \n",
       "\n",
       "   HBD  X  Y  \n",
       "0    2  4  4  \n",
       "1    2  3  3  \n",
       "2    2  2  4  \n",
       "3    2  2  4  \n",
       "4    2  2  4  "
      ]
     },
     "execution_count": 59,
     "metadata": {},
     "output_type": "execute_result"
    }
   ],
   "source": [
    "df.head()"
   ]
  },
  {
   "cell_type": "code",
   "execution_count": 60,
   "id": "3202ee02-910b-455a-95af-aa9c2673226c",
   "metadata": {},
   "outputs": [],
   "source": [
    "df.drop([\"ROMol\",\"Molwt\",\"LogP\",\"HBA\",\"HBA\"],axis=1,inplace=True)"
   ]
  },
  {
   "cell_type": "code",
   "execution_count": 61,
   "id": "4564487a-9fde-48ed-9f48-78968c7ad081",
   "metadata": {},
   "outputs": [
    {
     "data": {
      "text/html": [
       "<div>\n",
       "<style scoped>\n",
       "    .dataframe tbody tr th:only-of-type {\n",
       "        vertical-align: middle;\n",
       "    }\n",
       "\n",
       "    .dataframe tbody tr th {\n",
       "        vertical-align: top;\n",
       "    }\n",
       "\n",
       "    .dataframe thead th {\n",
       "        text-align: right;\n",
       "    }\n",
       "</style>\n",
       "<table border=\"1\" class=\"dataframe\">\n",
       "  <thead>\n",
       "    <tr style=\"text-align: right;\">\n",
       "      <th></th>\n",
       "      <th>smiles</th>\n",
       "      <th>label</th>\n",
       "      <th>HBD</th>\n",
       "      <th>X</th>\n",
       "      <th>Y</th>\n",
       "    </tr>\n",
       "  </thead>\n",
       "  <tbody>\n",
       "    <tr>\n",
       "      <th>0</th>\n",
       "      <td>OC1=CC=C([C@@H](CCCCCCCCCCC(N(C)CCCC)=O)C2=C(C...</td>\n",
       "      <td>0</td>\n",
       "      <td>2</td>\n",
       "      <td>4</td>\n",
       "      <td>4</td>\n",
       "    </tr>\n",
       "    <tr>\n",
       "      <th>1</th>\n",
       "      <td>OC1=C(C(C)C)C=C(CC2=C(C)C=C(OCC(O)=O)C=C2C)C=C...</td>\n",
       "      <td>0</td>\n",
       "      <td>2</td>\n",
       "      <td>3</td>\n",
       "      <td>3</td>\n",
       "    </tr>\n",
       "    <tr>\n",
       "      <th>2</th>\n",
       "      <td>OC1=CC=C(N(C)C2=C(C)C=C(C[C@H](S3)C(NC3=O)=O)C...</td>\n",
       "      <td>0</td>\n",
       "      <td>2</td>\n",
       "      <td>2</td>\n",
       "      <td>4</td>\n",
       "    </tr>\n",
       "    <tr>\n",
       "      <th>3</th>\n",
       "      <td>OC1=CC=C(N(CC2CC2)C3=C(C)C=C(C[C@H](S4)C(NC4=O...</td>\n",
       "      <td>0</td>\n",
       "      <td>2</td>\n",
       "      <td>2</td>\n",
       "      <td>4</td>\n",
       "    </tr>\n",
       "    <tr>\n",
       "      <th>4</th>\n",
       "      <td>OC1=CC=C(N(CCCCCC)C2=C(C)C=C(C[C@H](S3)C(NC3=O...</td>\n",
       "      <td>0</td>\n",
       "      <td>2</td>\n",
       "      <td>2</td>\n",
       "      <td>4</td>\n",
       "    </tr>\n",
       "  </tbody>\n",
       "</table>\n",
       "</div>"
      ],
      "text/plain": [
       "                                              smiles label  HBD  X  Y\n",
       "0  OC1=CC=C([C@@H](CCCCCCCCCCC(N(C)CCCC)=O)C2=C(C...     0    2  4  4\n",
       "1  OC1=C(C(C)C)C=C(CC2=C(C)C=C(OCC(O)=O)C=C2C)C=C...     0    2  3  3\n",
       "2  OC1=CC=C(N(C)C2=C(C)C=C(C[C@H](S3)C(NC3=O)=O)C...     0    2  2  4\n",
       "3  OC1=CC=C(N(CC2CC2)C3=C(C)C=C(C[C@H](S4)C(NC4=O...     0    2  2  4\n",
       "4  OC1=CC=C(N(CCCCCC)C2=C(C)C=C(C[C@H](S3)C(NC3=O...     0    2  2  4"
      ]
     },
     "execution_count": 61,
     "metadata": {},
     "output_type": "execute_result"
    }
   ],
   "source": [
    "df.head()"
   ]
  },
  {
   "cell_type": "code",
   "execution_count": 62,
   "id": "65449563-76a5-4637-a72f-dd7d6d54f32e",
   "metadata": {},
   "outputs": [
    {
     "data": {
      "image/png": "[encoded data removed]",
      "text/plain": [
       "<Figure size 576x576 with 35 Axes>"
      ]
     },
     "metadata": {},
     "output_type": "display_data"
    }
   ],
   "source": [
    "depict_som(df,8,8)"
   ]
  },
  {
   "cell_type": "markdown",
   "id": "08520e40-33f0-4751-b14f-188922b906e0",
   "metadata": {},
   "source": [
    "+ Agonists are shown as orange and Antagonists are shown as blue."
   ]
  },
  {
   "cell_type": "code",
   "execution_count": 63,
   "id": "73f3f68c-73dc-4a5c-8279-753c4d58a4d2",
   "metadata": {},
   "outputs": [],
   "source": [
    "my_cell = df.query(\"X==3 and Y==3\")"
   ]
  },
  {
   "cell_type": "code",
   "execution_count": 64,
   "id": "0827eb5c-b3fa-4b5b-a1dc-55863f4d94ff",
   "metadata": {},
   "outputs": [
    {
     "data": {
      "text/html": [
       "<div>\n",
       "<style scoped>\n",
       "    .dataframe tbody tr th:only-of-type {\n",
       "        vertical-align: middle;\n",
       "    }\n",
       "\n",
       "    .dataframe tbody tr th {\n",
       "        vertical-align: top;\n",
       "    }\n",
       "\n",
       "    .dataframe thead th {\n",
       "        text-align: right;\n",
       "    }\n",
       "</style>\n",
       "<table border=\"1\" class=\"dataframe\">\n",
       "  <thead>\n",
       "    <tr style=\"text-align: right;\">\n",
       "      <th></th>\n",
       "      <th>smiles</th>\n",
       "      <th>label</th>\n",
       "      <th>HBD</th>\n",
       "      <th>X</th>\n",
       "      <th>Y</th>\n",
       "    </tr>\n",
       "  </thead>\n",
       "  <tbody>\n",
       "    <tr>\n",
       "      <th>1</th>\n",
       "      <td>OC1=C(C(C)C)C=C(CC2=C(C)C=C(OCC(O)=O)C=C2C)C=C...</td>\n",
       "      <td>0</td>\n",
       "      <td>2</td>\n",
       "      <td>3</td>\n",
       "      <td>3</td>\n",
       "    </tr>\n",
       "    <tr>\n",
       "      <th>9</th>\n",
       "      <td>OC1=C(C2=CC=C([N+]([O-])=O)C=C2)C=C(CC3=C(C)C=...</td>\n",
       "      <td>0</td>\n",
       "      <td>2</td>\n",
       "      <td>3</td>\n",
       "      <td>3</td>\n",
       "    </tr>\n",
       "    <tr>\n",
       "      <th>27</th>\n",
       "      <td>CC1=CC(OCC(O)=O)=CC(C)=C1CC2=CC(C(C)C)=C(O)C(C...</td>\n",
       "      <td>0</td>\n",
       "      <td>2</td>\n",
       "      <td>3</td>\n",
       "      <td>3</td>\n",
       "    </tr>\n",
       "    <tr>\n",
       "      <th>30</th>\n",
       "      <td>OC1=C(C2=CC=C(N(=O)=O)C=C2)C=C(CC3=C(C)C=C(OCC...</td>\n",
       "      <td>0</td>\n",
       "      <td>2</td>\n",
       "      <td>3</td>\n",
       "      <td>3</td>\n",
       "    </tr>\n",
       "    <tr>\n",
       "      <th>31</th>\n",
       "      <td>OC1=C(C#CC2=CC=C(N(=O)=O)C=C2)C=C(CC3=C(C)C=C(...</td>\n",
       "      <td>0</td>\n",
       "      <td>2</td>\n",
       "      <td>3</td>\n",
       "      <td>3</td>\n",
       "    </tr>\n",
       "    <tr>\n",
       "      <th>138</th>\n",
       "      <td>CC1=CC(OCC(O)=O)=CC(C)=C1CC2=CC(C3=CC=C(N(=O)=...</td>\n",
       "      <td>1</td>\n",
       "      <td>2</td>\n",
       "      <td>3</td>\n",
       "      <td>3</td>\n",
       "    </tr>\n",
       "    <tr>\n",
       "      <th>139</th>\n",
       "      <td>CC1=CC(OCC(O)=O)=CC(C)=C1CC2=CC(C#CC3=CC=C(N(=...</td>\n",
       "      <td>1</td>\n",
       "      <td>2</td>\n",
       "      <td>3</td>\n",
       "      <td>3</td>\n",
       "    </tr>\n",
       "  </tbody>\n",
       "</table>\n",
       "</div>"
      ],
      "text/plain": [
       "                                                smiles label  HBD  X  Y\n",
       "1    OC1=C(C(C)C)C=C(CC2=C(C)C=C(OCC(O)=O)C=C2C)C=C...     0    2  3  3\n",
       "9    OC1=C(C2=CC=C([N+]([O-])=O)C=C2)C=C(CC3=C(C)C=...     0    2  3  3\n",
       "27   CC1=CC(OCC(O)=O)=CC(C)=C1CC2=CC(C(C)C)=C(O)C(C...     0    2  3  3\n",
       "30   OC1=C(C2=CC=C(N(=O)=O)C=C2)C=C(CC3=C(C)C=C(OCC...     0    2  3  3\n",
       "31   OC1=C(C#CC2=CC=C(N(=O)=O)C=C2)C=C(CC3=C(C)C=C(...     0    2  3  3\n",
       "138  CC1=CC(OCC(O)=O)=CC(C)=C1CC2=CC(C3=CC=C(N(=O)=...     1    2  3  3\n",
       "139  CC1=CC(OCC(O)=O)=CC(C)=C1CC2=CC(C#CC3=CC=C(N(=...     1    2  3  3"
      ]
     },
     "execution_count": 64,
     "metadata": {},
     "output_type": "execute_result"
    }
   ],
   "source": [
    "my_cell"
   ]
  },
  {
   "cell_type": "code",
   "execution_count": 65,
   "id": "7fbd881b-0629-44a1-8f55-ed6320eebb9d",
   "metadata": {},
   "outputs": [
    {
     "data": {
      "image/png": "[encoded data removed]",
      "text/plain": [
       "<IPython.core.display.Image object>"
      ]
     },
     "execution_count": 65,
     "metadata": {},
     "output_type": "execute_result"
    }
   ],
   "source": [
    "Draw.MolsToGridImage([Chem.MolFromSmiles(x) for x in my_cell.smiles],molsPerRow=4,legends=list(my_cell.label))"
   ]
  },
  {
   "cell_type": "markdown",
   "id": "b269a600-8f2c-4c4b-a3dd-943d4f738859",
   "metadata": {},
   "source": [
    "+ We will not use SOM for splitting the data. We will adopt similar way."
   ]
  },
  {
   "cell_type": "code",
   "execution_count": 66,
   "id": "184356b9-475b-4a39-9fb9-31328860649b",
   "metadata": {},
   "outputs": [
    {
     "data": {
      "text/html": [
       "<div>\n",
       "<style scoped>\n",
       "    .dataframe tbody tr th:only-of-type {\n",
       "        vertical-align: middle;\n",
       "    }\n",
       "\n",
       "    .dataframe tbody tr th {\n",
       "        vertical-align: top;\n",
       "    }\n",
       "\n",
       "    .dataframe thead th {\n",
       "        text-align: right;\n",
       "    }\n",
       "</style>\n",
       "<table border=\"1\" class=\"dataframe\">\n",
       "  <thead>\n",
       "    <tr style=\"text-align: right;\">\n",
       "      <th></th>\n",
       "      <th>0</th>\n",
       "      <th>1</th>\n",
       "      <th>2</th>\n",
       "      <th>3</th>\n",
       "      <th>4</th>\n",
       "      <th>5</th>\n",
       "      <th>6</th>\n",
       "      <th>7</th>\n",
       "      <th>8</th>\n",
       "      <th>9</th>\n",
       "      <th>...</th>\n",
       "      <th>139</th>\n",
       "      <th>140</th>\n",
       "      <th>141</th>\n",
       "      <th>142</th>\n",
       "      <th>143</th>\n",
       "      <th>144</th>\n",
       "      <th>145</th>\n",
       "      <th>label</th>\n",
       "      <th>X</th>\n",
       "      <th>Y</th>\n",
       "    </tr>\n",
       "  </thead>\n",
       "  <tbody>\n",
       "    <tr>\n",
       "      <th>0</th>\n",
       "      <td>0.0</td>\n",
       "      <td>0.0</td>\n",
       "      <td>1.0</td>\n",
       "      <td>0.0</td>\n",
       "      <td>0.0</td>\n",
       "      <td>0.0</td>\n",
       "      <td>1.0</td>\n",
       "      <td>0.0</td>\n",
       "      <td>1.0</td>\n",
       "      <td>0.0</td>\n",
       "      <td>...</td>\n",
       "      <td>0.0</td>\n",
       "      <td>1.0</td>\n",
       "      <td>0.0</td>\n",
       "      <td>0.0</td>\n",
       "      <td>0.0</td>\n",
       "      <td>0.0</td>\n",
       "      <td>1.0</td>\n",
       "      <td>0</td>\n",
       "      <td>4</td>\n",
       "      <td>4</td>\n",
       "    </tr>\n",
       "    <tr>\n",
       "      <th>1</th>\n",
       "      <td>0.0</td>\n",
       "      <td>0.0</td>\n",
       "      <td>0.0</td>\n",
       "      <td>1.0</td>\n",
       "      <td>0.0</td>\n",
       "      <td>0.0</td>\n",
       "      <td>1.0</td>\n",
       "      <td>0.0</td>\n",
       "      <td>1.0</td>\n",
       "      <td>0.0</td>\n",
       "      <td>...</td>\n",
       "      <td>0.0</td>\n",
       "      <td>1.0</td>\n",
       "      <td>0.0</td>\n",
       "      <td>0.0</td>\n",
       "      <td>1.0</td>\n",
       "      <td>0.0</td>\n",
       "      <td>0.0</td>\n",
       "      <td>0</td>\n",
       "      <td>3</td>\n",
       "      <td>3</td>\n",
       "    </tr>\n",
       "    <tr>\n",
       "      <th>2</th>\n",
       "      <td>0.0</td>\n",
       "      <td>0.0</td>\n",
       "      <td>0.0</td>\n",
       "      <td>0.0</td>\n",
       "      <td>0.0</td>\n",
       "      <td>1.0</td>\n",
       "      <td>1.0</td>\n",
       "      <td>0.0</td>\n",
       "      <td>0.0</td>\n",
       "      <td>1.0</td>\n",
       "      <td>...</td>\n",
       "      <td>1.0</td>\n",
       "      <td>1.0</td>\n",
       "      <td>0.0</td>\n",
       "      <td>0.0</td>\n",
       "      <td>0.0</td>\n",
       "      <td>0.0</td>\n",
       "      <td>0.0</td>\n",
       "      <td>0</td>\n",
       "      <td>2</td>\n",
       "      <td>4</td>\n",
       "    </tr>\n",
       "    <tr>\n",
       "      <th>3</th>\n",
       "      <td>0.0</td>\n",
       "      <td>0.0</td>\n",
       "      <td>0.0</td>\n",
       "      <td>0.0</td>\n",
       "      <td>0.0</td>\n",
       "      <td>1.0</td>\n",
       "      <td>1.0</td>\n",
       "      <td>0.0</td>\n",
       "      <td>0.0</td>\n",
       "      <td>1.0</td>\n",
       "      <td>...</td>\n",
       "      <td>1.0</td>\n",
       "      <td>1.0</td>\n",
       "      <td>0.0</td>\n",
       "      <td>0.0</td>\n",
       "      <td>0.0</td>\n",
       "      <td>0.0</td>\n",
       "      <td>0.0</td>\n",
       "      <td>0</td>\n",
       "      <td>2</td>\n",
       "      <td>4</td>\n",
       "    </tr>\n",
       "    <tr>\n",
       "      <th>4</th>\n",
       "      <td>0.0</td>\n",
       "      <td>0.0</td>\n",
       "      <td>1.0</td>\n",
       "      <td>0.0</td>\n",
       "      <td>0.0</td>\n",
       "      <td>1.0</td>\n",
       "      <td>1.0</td>\n",
       "      <td>0.0</td>\n",
       "      <td>0.0</td>\n",
       "      <td>1.0</td>\n",
       "      <td>...</td>\n",
       "      <td>1.0</td>\n",
       "      <td>1.0</td>\n",
       "      <td>0.0</td>\n",
       "      <td>0.0</td>\n",
       "      <td>0.0</td>\n",
       "      <td>0.0</td>\n",
       "      <td>0.0</td>\n",
       "      <td>0</td>\n",
       "      <td>2</td>\n",
       "      <td>4</td>\n",
       "    </tr>\n",
       "  </tbody>\n",
       "</table>\n",
       "<p>5 rows × 149 columns</p>\n",
       "</div>"
      ],
      "text/plain": [
       "     0    1    2    3    4    5    6    7    8    9  ...  139  140  141  142  \\\n",
       "0  0.0  0.0  1.0  0.0  0.0  0.0  1.0  0.0  1.0  0.0  ...  0.0  1.0  0.0  0.0   \n",
       "1  0.0  0.0  0.0  1.0  0.0  0.0  1.0  0.0  1.0  0.0  ...  0.0  1.0  0.0  0.0   \n",
       "2  0.0  0.0  0.0  0.0  0.0  1.0  1.0  0.0  0.0  1.0  ...  1.0  1.0  0.0  0.0   \n",
       "3  0.0  0.0  0.0  0.0  0.0  1.0  1.0  0.0  0.0  1.0  ...  1.0  1.0  0.0  0.0   \n",
       "4  0.0  0.0  1.0  0.0  0.0  1.0  1.0  0.0  0.0  1.0  ...  1.0  1.0  0.0  0.0   \n",
       "\n",
       "   143  144  145  label  X  Y  \n",
       "0  0.0  0.0  1.0      0  4  4  \n",
       "1  1.0  0.0  0.0      0  3  3  \n",
       "2  0.0  0.0  0.0      0  2  4  \n",
       "3  0.0  0.0  0.0      0  2  4  \n",
       "4  0.0  0.0  0.0      0  2  4  \n",
       "\n",
       "[5 rows x 149 columns]"
      ]
     },
     "execution_count": 66,
     "metadata": {},
     "output_type": "execute_result"
    }
   ],
   "source": [
    "mfp_.head()"
   ]
  },
  {
   "cell_type": "code",
   "execution_count": 67,
   "id": "704e5675-da37-48f8-a621-a511d7e1c3b2",
   "metadata": {},
   "outputs": [],
   "source": [
    "mfp_.drop([\"X\",\"Y\"],axis=1,inplace=True)"
   ]
  },
  {
   "cell_type": "code",
   "execution_count": 68,
   "id": "9d31c51a-8d29-4111-b955-8a4977219630",
   "metadata": {},
   "outputs": [
    {
     "data": {
      "text/html": [
       "<div>\n",
       "<style scoped>\n",
       "    .dataframe tbody tr th:only-of-type {\n",
       "        vertical-align: middle;\n",
       "    }\n",
       "\n",
       "    .dataframe tbody tr th {\n",
       "        vertical-align: top;\n",
       "    }\n",
       "\n",
       "    .dataframe thead th {\n",
       "        text-align: right;\n",
       "    }\n",
       "</style>\n",
       "<table border=\"1\" class=\"dataframe\">\n",
       "  <thead>\n",
       "    <tr style=\"text-align: right;\">\n",
       "      <th></th>\n",
       "      <th>0</th>\n",
       "      <th>1</th>\n",
       "      <th>2</th>\n",
       "      <th>3</th>\n",
       "      <th>4</th>\n",
       "      <th>5</th>\n",
       "      <th>6</th>\n",
       "      <th>7</th>\n",
       "      <th>8</th>\n",
       "      <th>9</th>\n",
       "      <th>...</th>\n",
       "      <th>137</th>\n",
       "      <th>138</th>\n",
       "      <th>139</th>\n",
       "      <th>140</th>\n",
       "      <th>141</th>\n",
       "      <th>142</th>\n",
       "      <th>143</th>\n",
       "      <th>144</th>\n",
       "      <th>145</th>\n",
       "      <th>label</th>\n",
       "    </tr>\n",
       "  </thead>\n",
       "  <tbody>\n",
       "    <tr>\n",
       "      <th>0</th>\n",
       "      <td>0.0</td>\n",
       "      <td>0.0</td>\n",
       "      <td>1.0</td>\n",
       "      <td>0.0</td>\n",
       "      <td>0.0</td>\n",
       "      <td>0.0</td>\n",
       "      <td>1.0</td>\n",
       "      <td>0.0</td>\n",
       "      <td>1.0</td>\n",
       "      <td>0.0</td>\n",
       "      <td>...</td>\n",
       "      <td>1.0</td>\n",
       "      <td>0.0</td>\n",
       "      <td>0.0</td>\n",
       "      <td>1.0</td>\n",
       "      <td>0.0</td>\n",
       "      <td>0.0</td>\n",
       "      <td>0.0</td>\n",
       "      <td>0.0</td>\n",
       "      <td>1.0</td>\n",
       "      <td>0</td>\n",
       "    </tr>\n",
       "    <tr>\n",
       "      <th>1</th>\n",
       "      <td>0.0</td>\n",
       "      <td>0.0</td>\n",
       "      <td>0.0</td>\n",
       "      <td>1.0</td>\n",
       "      <td>0.0</td>\n",
       "      <td>0.0</td>\n",
       "      <td>1.0</td>\n",
       "      <td>0.0</td>\n",
       "      <td>1.0</td>\n",
       "      <td>0.0</td>\n",
       "      <td>...</td>\n",
       "      <td>1.0</td>\n",
       "      <td>0.0</td>\n",
       "      <td>0.0</td>\n",
       "      <td>1.0</td>\n",
       "      <td>0.0</td>\n",
       "      <td>0.0</td>\n",
       "      <td>1.0</td>\n",
       "      <td>0.0</td>\n",
       "      <td>0.0</td>\n",
       "      <td>0</td>\n",
       "    </tr>\n",
       "    <tr>\n",
       "      <th>2</th>\n",
       "      <td>0.0</td>\n",
       "      <td>0.0</td>\n",
       "      <td>0.0</td>\n",
       "      <td>0.0</td>\n",
       "      <td>0.0</td>\n",
       "      <td>1.0</td>\n",
       "      <td>1.0</td>\n",
       "      <td>0.0</td>\n",
       "      <td>0.0</td>\n",
       "      <td>1.0</td>\n",
       "      <td>...</td>\n",
       "      <td>0.0</td>\n",
       "      <td>0.0</td>\n",
       "      <td>1.0</td>\n",
       "      <td>1.0</td>\n",
       "      <td>0.0</td>\n",
       "      <td>0.0</td>\n",
       "      <td>0.0</td>\n",
       "      <td>0.0</td>\n",
       "      <td>0.0</td>\n",
       "      <td>0</td>\n",
       "    </tr>\n",
       "    <tr>\n",
       "      <th>3</th>\n",
       "      <td>0.0</td>\n",
       "      <td>0.0</td>\n",
       "      <td>0.0</td>\n",
       "      <td>0.0</td>\n",
       "      <td>0.0</td>\n",
       "      <td>1.0</td>\n",
       "      <td>1.0</td>\n",
       "      <td>0.0</td>\n",
       "      <td>0.0</td>\n",
       "      <td>1.0</td>\n",
       "      <td>...</td>\n",
       "      <td>0.0</td>\n",
       "      <td>0.0</td>\n",
       "      <td>1.0</td>\n",
       "      <td>1.0</td>\n",
       "      <td>0.0</td>\n",
       "      <td>0.0</td>\n",
       "      <td>0.0</td>\n",
       "      <td>0.0</td>\n",
       "      <td>0.0</td>\n",
       "      <td>0</td>\n",
       "    </tr>\n",
       "    <tr>\n",
       "      <th>4</th>\n",
       "      <td>0.0</td>\n",
       "      <td>0.0</td>\n",
       "      <td>1.0</td>\n",
       "      <td>0.0</td>\n",
       "      <td>0.0</td>\n",
       "      <td>1.0</td>\n",
       "      <td>1.0</td>\n",
       "      <td>0.0</td>\n",
       "      <td>0.0</td>\n",
       "      <td>1.0</td>\n",
       "      <td>...</td>\n",
       "      <td>0.0</td>\n",
       "      <td>0.0</td>\n",
       "      <td>1.0</td>\n",
       "      <td>1.0</td>\n",
       "      <td>0.0</td>\n",
       "      <td>0.0</td>\n",
       "      <td>0.0</td>\n",
       "      <td>0.0</td>\n",
       "      <td>0.0</td>\n",
       "      <td>0</td>\n",
       "    </tr>\n",
       "    <tr>\n",
       "      <th>...</th>\n",
       "      <td>...</td>\n",
       "      <td>...</td>\n",
       "      <td>...</td>\n",
       "      <td>...</td>\n",
       "      <td>...</td>\n",
       "      <td>...</td>\n",
       "      <td>...</td>\n",
       "      <td>...</td>\n",
       "      <td>...</td>\n",
       "      <td>...</td>\n",
       "      <td>...</td>\n",
       "      <td>...</td>\n",
       "      <td>...</td>\n",
       "      <td>...</td>\n",
       "      <td>...</td>\n",
       "      <td>...</td>\n",
       "      <td>...</td>\n",
       "      <td>...</td>\n",
       "      <td>...</td>\n",
       "      <td>...</td>\n",
       "      <td>...</td>\n",
       "    </tr>\n",
       "    <tr>\n",
       "      <th>253</th>\n",
       "      <td>0.0</td>\n",
       "      <td>0.0</td>\n",
       "      <td>0.0</td>\n",
       "      <td>0.0</td>\n",
       "      <td>0.0</td>\n",
       "      <td>0.0</td>\n",
       "      <td>0.0</td>\n",
       "      <td>0.0</td>\n",
       "      <td>1.0</td>\n",
       "      <td>0.0</td>\n",
       "      <td>...</td>\n",
       "      <td>0.0</td>\n",
       "      <td>0.0</td>\n",
       "      <td>0.0</td>\n",
       "      <td>1.0</td>\n",
       "      <td>0.0</td>\n",
       "      <td>1.0</td>\n",
       "      <td>0.0</td>\n",
       "      <td>0.0</td>\n",
       "      <td>0.0</td>\n",
       "      <td>1</td>\n",
       "    </tr>\n",
       "    <tr>\n",
       "      <th>254</th>\n",
       "      <td>0.0</td>\n",
       "      <td>0.0</td>\n",
       "      <td>0.0</td>\n",
       "      <td>0.0</td>\n",
       "      <td>0.0</td>\n",
       "      <td>0.0</td>\n",
       "      <td>0.0</td>\n",
       "      <td>0.0</td>\n",
       "      <td>1.0</td>\n",
       "      <td>0.0</td>\n",
       "      <td>...</td>\n",
       "      <td>0.0</td>\n",
       "      <td>0.0</td>\n",
       "      <td>0.0</td>\n",
       "      <td>1.0</td>\n",
       "      <td>0.0</td>\n",
       "      <td>1.0</td>\n",
       "      <td>0.0</td>\n",
       "      <td>0.0</td>\n",
       "      <td>0.0</td>\n",
       "      <td>1</td>\n",
       "    </tr>\n",
       "    <tr>\n",
       "      <th>255</th>\n",
       "      <td>0.0</td>\n",
       "      <td>0.0</td>\n",
       "      <td>0.0</td>\n",
       "      <td>0.0</td>\n",
       "      <td>0.0</td>\n",
       "      <td>0.0</td>\n",
       "      <td>0.0</td>\n",
       "      <td>0.0</td>\n",
       "      <td>1.0</td>\n",
       "      <td>0.0</td>\n",
       "      <td>...</td>\n",
       "      <td>0.0</td>\n",
       "      <td>0.0</td>\n",
       "      <td>0.0</td>\n",
       "      <td>1.0</td>\n",
       "      <td>0.0</td>\n",
       "      <td>1.0</td>\n",
       "      <td>0.0</td>\n",
       "      <td>0.0</td>\n",
       "      <td>0.0</td>\n",
       "      <td>1</td>\n",
       "    </tr>\n",
       "    <tr>\n",
       "      <th>256</th>\n",
       "      <td>0.0</td>\n",
       "      <td>0.0</td>\n",
       "      <td>0.0</td>\n",
       "      <td>0.0</td>\n",
       "      <td>0.0</td>\n",
       "      <td>0.0</td>\n",
       "      <td>0.0</td>\n",
       "      <td>0.0</td>\n",
       "      <td>1.0</td>\n",
       "      <td>0.0</td>\n",
       "      <td>...</td>\n",
       "      <td>0.0</td>\n",
       "      <td>0.0</td>\n",
       "      <td>0.0</td>\n",
       "      <td>1.0</td>\n",
       "      <td>1.0</td>\n",
       "      <td>1.0</td>\n",
       "      <td>0.0</td>\n",
       "      <td>0.0</td>\n",
       "      <td>0.0</td>\n",
       "      <td>1</td>\n",
       "    </tr>\n",
       "    <tr>\n",
       "      <th>257</th>\n",
       "      <td>0.0</td>\n",
       "      <td>0.0</td>\n",
       "      <td>0.0</td>\n",
       "      <td>0.0</td>\n",
       "      <td>0.0</td>\n",
       "      <td>0.0</td>\n",
       "      <td>0.0</td>\n",
       "      <td>0.0</td>\n",
       "      <td>1.0</td>\n",
       "      <td>0.0</td>\n",
       "      <td>...</td>\n",
       "      <td>0.0</td>\n",
       "      <td>0.0</td>\n",
       "      <td>0.0</td>\n",
       "      <td>1.0</td>\n",
       "      <td>1.0</td>\n",
       "      <td>1.0</td>\n",
       "      <td>0.0</td>\n",
       "      <td>0.0</td>\n",
       "      <td>0.0</td>\n",
       "      <td>1</td>\n",
       "    </tr>\n",
       "  </tbody>\n",
       "</table>\n",
       "<p>258 rows × 147 columns</p>\n",
       "</div>"
      ],
      "text/plain": [
       "       0    1    2    3    4    5    6    7    8    9  ...  137  138  139  \\\n",
       "0    0.0  0.0  1.0  0.0  0.0  0.0  1.0  0.0  1.0  0.0  ...  1.0  0.0  0.0   \n",
       "1    0.0  0.0  0.0  1.0  0.0  0.0  1.0  0.0  1.0  0.0  ...  1.0  0.0  0.0   \n",
       "2    0.0  0.0  0.0  0.0  0.0  1.0  1.0  0.0  0.0  1.0  ...  0.0  0.0  1.0   \n",
       "3    0.0  0.0  0.0  0.0  0.0  1.0  1.0  0.0  0.0  1.0  ...  0.0  0.0  1.0   \n",
       "4    0.0  0.0  1.0  0.0  0.0  1.0  1.0  0.0  0.0  1.0  ...  0.0  0.0  1.0   \n",
       "..   ...  ...  ...  ...  ...  ...  ...  ...  ...  ...  ...  ...  ...  ...   \n",
       "253  0.0  0.0  0.0  0.0  0.0  0.0  0.0  0.0  1.0  0.0  ...  0.0  0.0  0.0   \n",
       "254  0.0  0.0  0.0  0.0  0.0  0.0  0.0  0.0  1.0  0.0  ...  0.0  0.0  0.0   \n",
       "255  0.0  0.0  0.0  0.0  0.0  0.0  0.0  0.0  1.0  0.0  ...  0.0  0.0  0.0   \n",
       "256  0.0  0.0  0.0  0.0  0.0  0.0  0.0  0.0  1.0  0.0  ...  0.0  0.0  0.0   \n",
       "257  0.0  0.0  0.0  0.0  0.0  0.0  0.0  0.0  1.0  0.0  ...  0.0  0.0  0.0   \n",
       "\n",
       "     140  141  142  143  144  145  label  \n",
       "0    1.0  0.0  0.0  0.0  0.0  1.0      0  \n",
       "1    1.0  0.0  0.0  1.0  0.0  0.0      0  \n",
       "2    1.0  0.0  0.0  0.0  0.0  0.0      0  \n",
       "3    1.0  0.0  0.0  0.0  0.0  0.0      0  \n",
       "4    1.0  0.0  0.0  0.0  0.0  0.0      0  \n",
       "..   ...  ...  ...  ...  ...  ...    ...  \n",
       "253  1.0  0.0  1.0  0.0  0.0  0.0      1  \n",
       "254  1.0  0.0  1.0  0.0  0.0  0.0      1  \n",
       "255  1.0  0.0  1.0  0.0  0.0  0.0      1  \n",
       "256  1.0  1.0  1.0  0.0  0.0  0.0      1  \n",
       "257  1.0  1.0  1.0  0.0  0.0  0.0      1  \n",
       "\n",
       "[258 rows x 147 columns]"
      ]
     },
     "execution_count": 68,
     "metadata": {},
     "output_type": "execute_result"
    }
   ],
   "source": [
    "mfp_"
   ]
  },
  {
   "cell_type": "code",
   "execution_count": 69,
   "id": "fb8ac180-3fd9-422b-972a-aef2b9c01911",
   "metadata": {},
   "outputs": [],
   "source": [
    "mfp_.to_csv(\"mfp.csv\",header=True,index=False,sep=\"\\t\")"
   ]
  },
  {
   "cell_type": "code",
   "execution_count": 70,
   "id": "704cd163-777c-4c81-bfeb-75d9580190d0",
   "metadata": {},
   "outputs": [],
   "source": [
    "maccs = pd.DataFrame(maccs)"
   ]
  },
  {
   "cell_type": "code",
   "execution_count": 71,
   "id": "cefd27db-5b39-4f62-813e-b02fb6d3fd58",
   "metadata": {},
   "outputs": [
    {
     "data": {
      "text/html": [
       "<div>\n",
       "<style scoped>\n",
       "    .dataframe tbody tr th:only-of-type {\n",
       "        vertical-align: middle;\n",
       "    }\n",
       "\n",
       "    .dataframe tbody tr th {\n",
       "        vertical-align: top;\n",
       "    }\n",
       "\n",
       "    .dataframe thead th {\n",
       "        text-align: right;\n",
       "    }\n",
       "</style>\n",
       "<table border=\"1\" class=\"dataframe\">\n",
       "  <thead>\n",
       "    <tr style=\"text-align: right;\">\n",
       "      <th></th>\n",
       "      <th>0</th>\n",
       "      <th>1</th>\n",
       "      <th>2</th>\n",
       "      <th>3</th>\n",
       "      <th>4</th>\n",
       "      <th>5</th>\n",
       "      <th>6</th>\n",
       "      <th>7</th>\n",
       "      <th>8</th>\n",
       "      <th>9</th>\n",
       "      <th>...</th>\n",
       "      <th>103</th>\n",
       "      <th>104</th>\n",
       "      <th>105</th>\n",
       "      <th>106</th>\n",
       "      <th>107</th>\n",
       "      <th>108</th>\n",
       "      <th>109</th>\n",
       "      <th>110</th>\n",
       "      <th>111</th>\n",
       "      <th>112</th>\n",
       "    </tr>\n",
       "  </thead>\n",
       "  <tbody>\n",
       "    <tr>\n",
       "      <th>0</th>\n",
       "      <td>0.0</td>\n",
       "      <td>0.0</td>\n",
       "      <td>0.0</td>\n",
       "      <td>0.0</td>\n",
       "      <td>0.0</td>\n",
       "      <td>0.0</td>\n",
       "      <td>0.0</td>\n",
       "      <td>0.0</td>\n",
       "      <td>0.0</td>\n",
       "      <td>0.0</td>\n",
       "      <td>...</td>\n",
       "      <td>0.0</td>\n",
       "      <td>1.0</td>\n",
       "      <td>1.0</td>\n",
       "      <td>1.0</td>\n",
       "      <td>1.0</td>\n",
       "      <td>1.0</td>\n",
       "      <td>1.0</td>\n",
       "      <td>1.0</td>\n",
       "      <td>1.0</td>\n",
       "      <td>1.0</td>\n",
       "    </tr>\n",
       "    <tr>\n",
       "      <th>1</th>\n",
       "      <td>1.0</td>\n",
       "      <td>0.0</td>\n",
       "      <td>0.0</td>\n",
       "      <td>0.0</td>\n",
       "      <td>0.0</td>\n",
       "      <td>0.0</td>\n",
       "      <td>0.0</td>\n",
       "      <td>0.0</td>\n",
       "      <td>0.0</td>\n",
       "      <td>1.0</td>\n",
       "      <td>...</td>\n",
       "      <td>0.0</td>\n",
       "      <td>1.0</td>\n",
       "      <td>1.0</td>\n",
       "      <td>1.0</td>\n",
       "      <td>1.0</td>\n",
       "      <td>1.0</td>\n",
       "      <td>1.0</td>\n",
       "      <td>1.0</td>\n",
       "      <td>1.0</td>\n",
       "      <td>1.0</td>\n",
       "    </tr>\n",
       "    <tr>\n",
       "      <th>2</th>\n",
       "      <td>0.0</td>\n",
       "      <td>0.0</td>\n",
       "      <td>1.0</td>\n",
       "      <td>0.0</td>\n",
       "      <td>0.0</td>\n",
       "      <td>0.0</td>\n",
       "      <td>0.0</td>\n",
       "      <td>1.0</td>\n",
       "      <td>0.0</td>\n",
       "      <td>0.0</td>\n",
       "      <td>...</td>\n",
       "      <td>1.0</td>\n",
       "      <td>1.0</td>\n",
       "      <td>0.0</td>\n",
       "      <td>1.0</td>\n",
       "      <td>1.0</td>\n",
       "      <td>1.0</td>\n",
       "      <td>1.0</td>\n",
       "      <td>1.0</td>\n",
       "      <td>1.0</td>\n",
       "      <td>1.0</td>\n",
       "    </tr>\n",
       "    <tr>\n",
       "      <th>3</th>\n",
       "      <td>0.0</td>\n",
       "      <td>0.0</td>\n",
       "      <td>1.0</td>\n",
       "      <td>0.0</td>\n",
       "      <td>0.0</td>\n",
       "      <td>0.0</td>\n",
       "      <td>0.0</td>\n",
       "      <td>1.0</td>\n",
       "      <td>0.0</td>\n",
       "      <td>0.0</td>\n",
       "      <td>...</td>\n",
       "      <td>1.0</td>\n",
       "      <td>1.0</td>\n",
       "      <td>1.0</td>\n",
       "      <td>1.0</td>\n",
       "      <td>1.0</td>\n",
       "      <td>1.0</td>\n",
       "      <td>1.0</td>\n",
       "      <td>1.0</td>\n",
       "      <td>1.0</td>\n",
       "      <td>1.0</td>\n",
       "    </tr>\n",
       "    <tr>\n",
       "      <th>4</th>\n",
       "      <td>0.0</td>\n",
       "      <td>0.0</td>\n",
       "      <td>1.0</td>\n",
       "      <td>0.0</td>\n",
       "      <td>0.0</td>\n",
       "      <td>0.0</td>\n",
       "      <td>0.0</td>\n",
       "      <td>1.0</td>\n",
       "      <td>0.0</td>\n",
       "      <td>0.0</td>\n",
       "      <td>...</td>\n",
       "      <td>1.0</td>\n",
       "      <td>1.0</td>\n",
       "      <td>1.0</td>\n",
       "      <td>1.0</td>\n",
       "      <td>1.0</td>\n",
       "      <td>1.0</td>\n",
       "      <td>1.0</td>\n",
       "      <td>1.0</td>\n",
       "      <td>1.0</td>\n",
       "      <td>1.0</td>\n",
       "    </tr>\n",
       "  </tbody>\n",
       "</table>\n",
       "<p>5 rows × 113 columns</p>\n",
       "</div>"
      ],
      "text/plain": [
       "   0    1    2    3    4    5    6    7    8    9    ...  103  104  105  106  \\\n",
       "0  0.0  0.0  0.0  0.0  0.0  0.0  0.0  0.0  0.0  0.0  ...  0.0  1.0  1.0  1.0   \n",
       "1  1.0  0.0  0.0  0.0  0.0  0.0  0.0  0.0  0.0  1.0  ...  0.0  1.0  1.0  1.0   \n",
       "2  0.0  0.0  1.0  0.0  0.0  0.0  0.0  1.0  0.0  0.0  ...  1.0  1.0  0.0  1.0   \n",
       "3  0.0  0.0  1.0  0.0  0.0  0.0  0.0  1.0  0.0  0.0  ...  1.0  1.0  1.0  1.0   \n",
       "4  0.0  0.0  1.0  0.0  0.0  0.0  0.0  1.0  0.0  0.0  ...  1.0  1.0  1.0  1.0   \n",
       "\n",
       "   107  108  109  110  111  112  \n",
       "0  1.0  1.0  1.0  1.0  1.0  1.0  \n",
       "1  1.0  1.0  1.0  1.0  1.0  1.0  \n",
       "2  1.0  1.0  1.0  1.0  1.0  1.0  \n",
       "3  1.0  1.0  1.0  1.0  1.0  1.0  \n",
       "4  1.0  1.0  1.0  1.0  1.0  1.0  \n",
       "\n",
       "[5 rows x 113 columns]"
      ]
     },
     "execution_count": 71,
     "metadata": {},
     "output_type": "execute_result"
    }
   ],
   "source": [
    "maccs.head()"
   ]
  },
  {
   "cell_type": "code",
   "execution_count": 72,
   "id": "86bd1449-ca7d-4f99-bc1b-97ac6061c49a",
   "metadata": {},
   "outputs": [],
   "source": [
    "maccs[\"label\"] = df[\"label\"]"
   ]
  },
  {
   "cell_type": "code",
   "execution_count": 73,
   "id": "93c7d1cb-a256-4cbe-8653-43791a2b18b4",
   "metadata": {},
   "outputs": [],
   "source": [
    "maccs.to_csv(\"maccs.csv\",header=True,index=False,sep=\"\\t\")"
   ]
  },
  {
   "cell_type": "code",
   "execution_count": null,
   "id": "d285c17f-d86c-47f7-a893-7789940b8ac6",
   "metadata": {},
   "outputs": [],
   "source": []
  },
  {
   "cell_type": "code",
   "execution_count": null,
   "id": "b1c232c7-8641-4ad6-a2ba-ccb8f7787624",
   "metadata": {},
   "outputs": [],
   "source": []
  },
  {
   "cell_type": "code",
   "execution_count": null,
   "id": "8110cf3d-2aa6-45cb-b9e1-0513a7a8e0e8",
   "metadata": {},
   "outputs": [],
   "source": []
  },
  {
   "cell_type": "code",
   "execution_count": null,
   "id": "1221439c-daa2-4a6a-bf89-f158ed40e012",
   "metadata": {},
   "outputs": [],
   "source": []
  }
 ],
 "metadata": {
  "kernelspec": {
   "display_name": "Python 3 (ipykernel)",
   "language": "python",
   "name": "python3"
  },
  "language_info": {
   "codemirror_mode": {
    "name": "ipython",
    "version": 3
   },
   "file_extension": ".py",
   "mimetype": "text/x-python",
   "name": "python",
   "nbconvert_exporter": "python",
   "pygments_lexer": "ipython3",
   "version": "3.9.6"
  }
 },
 "nbformat": 4,
 "nbformat_minor": 5
}
