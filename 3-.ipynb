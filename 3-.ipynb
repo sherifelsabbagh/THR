{
 "cells": [
  {
   "cell_type": "markdown",
   "id": "a0f65788-8cae-4cc9-961b-b1150537ecc0",
   "metadata": {},
   "source": [
    "### Building Model"
   ]
  },
  {
   "cell_type": "code",
   "execution_count": 2,
   "id": "d8591296-4b02-4b18-a7af-d403be3d549b",
   "metadata": {},
   "outputs": [],
   "source": [
    "import pandas as pd\n",
    "from sklearn.model_selection import train_test_split\n",
    "from sklearn.ensemble import RandomForestClassifier\n",
    "from sklearn.model_selection import GridSearchCV\n",
    "import numpy as np\n",
    "from sklearn.svm import SVC\n",
    "from sklearn.model_selection import cross_validate\n",
    "from sklearn.metrics import precision_score, recall_score,accuracy_score"
   ]
  },
  {
   "cell_type": "code",
   "execution_count": 82,
   "id": "1730dab9-8778-4a6f-abc5-f6bf38624f71",
   "metadata": {},
   "outputs": [],
   "source": [
    "mfp.fillna(1,inplace=True)\n",
    "maccs.fillna(1,inplace=True)"
   ]
  },
  {
   "cell_type": "code",
   "execution_count": 79,
   "id": "8a2c106e-82b4-4676-9d08-5e7f0085b9eb",
   "metadata": {},
   "outputs": [],
   "source": [
    "maccs = pd.read_csv(\"maccs.csv\",sep=\"\\t\")"
   ]
  },
  {
   "cell_type": "code",
   "execution_count": 85,
   "id": "6a63a65e-c3b1-46d8-9578-e6fa49bcf660",
   "metadata": {},
   "outputs": [],
   "source": [
    "def build_rf(df,max_features):\n",
    "    X = df.drop(\"label\",axis=1)\n",
    "    y = df[\"label\"]\n",
    "    ##Splitting dataset \n",
    "    X_train, X_test, y_train, y_test = train_test_split(X, y, test_size=0.2, random_state=42,stratify=y)\n",
    "    ##Fitting to training data\n",
    "    rf= RandomForestClassifier(random_state=42,max_features=max_features)\n",
    "    rf.fit(X_train,y_train)\n",
    "    ## training set predicition\n",
    "    y_train_pred = rf.predict(X_train)\n",
    "    ## test set predictions\n",
    "    y_test_pred = rf.predict(X_test)\n",
    "    ## 5-Fold cross validation\n",
    "    cv_results = cross_validate(rf,X_train,y_train,cv=5,scoring=[\"precision\",\"recall\",\"accuracy\"])\n",
    "    ## Training set validation\n",
    "    training_precision = precision_score(y_train,y_train_pred)\n",
    "    training_recall = recall_score(y_train,y_train_pred)\n",
    "    training_acc= accuracy_score(y_train,y_train_pred)\n",
    "    ## Test set validation\n",
    "    test_precision = precision_score(y_test,y_test_pred)\n",
    "    test_recall = recall_score(y_test,y_test_pred)\n",
    "    test_acc= accuracy_score(y_test,y_test_pred)\n",
    "    \n",
    "    return y_train_pred,y_test_pred,cv_results,training_precision,training_recall,training_acc,test_precision,test_recall,test_acc\n",
    "\n",
    "\n",
    "\n"
   ]
  },
  {
   "cell_type": "code",
   "execution_count": 86,
   "id": "1d53ce62-f674-4981-9cf7-c85bead8c734",
   "metadata": {},
   "outputs": [],
   "source": [
    "mfp_rf = build_rf(mfp,90)"
   ]
  },
  {
   "cell_type": "code",
   "execution_count": 87,
   "id": "1c471fb8-97be-4cbf-af37-f2754ae69637",
   "metadata": {},
   "outputs": [
    {
     "data": {
      "text/plain": [
       "(array([0., 1., 0., 1., 0., 0., 1., 0., 1., 1., 1., 1., 1., 1., 0., 1., 1.,\n",
       "        1., 1., 1., 1., 0., 1., 0., 1., 0., 1., 1., 1., 1., 1., 1., 1., 1.,\n",
       "        1., 0., 1., 1., 1., 1., 1., 1., 1., 1., 1., 0., 1., 0., 1., 1., 1.,\n",
       "        1., 1., 1., 1., 1., 1., 1., 1., 1., 1., 1., 1., 1., 1., 0., 1., 1.,\n",
       "        1., 1., 0., 0., 0., 1., 1., 0., 0., 0., 1., 0., 1., 0., 1., 1., 1.,\n",
       "        0., 0., 1., 1., 0., 1., 1., 1., 1., 1., 1., 1., 0., 1., 0., 1., 1.,\n",
       "        1., 1., 1., 1., 1., 1., 0., 0., 1., 1., 1., 0., 1., 0., 1., 1., 1.,\n",
       "        1., 1., 1., 1., 1., 1., 0., 1., 1., 1., 1., 1., 1., 0., 0., 0., 0.,\n",
       "        0., 1., 1., 1., 1., 1., 0., 1., 1., 0., 0., 1., 1., 0., 0., 1., 1.,\n",
       "        1., 1., 1., 1., 1., 1., 1., 1., 0., 1., 0., 1., 1., 1., 1., 1., 1.,\n",
       "        1., 1., 1., 1., 1., 1., 1., 1., 1., 1., 1., 1., 1., 1., 1., 1., 1.,\n",
       "        1., 1., 1., 1., 1., 1., 0., 1., 1., 1., 1., 0., 1., 0., 1., 1., 1.,\n",
       "        1., 1.]),\n",
       " array([1., 1., 0., 1., 0., 1., 1., 0., 1., 0., 1., 1., 0., 1., 0., 1., 1.,\n",
       "        1., 1., 1., 1., 1., 1., 1., 0., 1., 1., 1., 1., 1., 1., 1., 1., 1.,\n",
       "        1., 1., 1., 1., 1., 1., 1., 1., 1., 0., 1., 1., 1., 1., 0., 1., 1.,\n",
       "        1.]),\n",
       " {'fit_time': array([0.11613798, 0.11019111, 0.10906196, 0.12045074, 0.13932395]),\n",
       "  'score_time': array([0.01069784, 0.01096916, 0.01125789, 0.01137304, 0.01254177]),\n",
       "  'test_precision': array([0.9375    , 0.9375    , 0.93548387, 0.93333333, 0.93548387]),\n",
       "  'test_recall': array([0.9375    , 0.96774194, 0.93548387, 0.90322581, 0.90625   ]),\n",
       "  'test_accuracy': array([0.9047619 , 0.92682927, 0.90243902, 0.87804878, 0.87804878])},\n",
       " 0.96875,\n",
       " 0.9872611464968153,\n",
       " 0.9660194174757282,\n",
       " 0.9302325581395349,\n",
       " 1.0,\n",
       " 0.9423076923076923)"
      ]
     },
     "execution_count": 87,
     "metadata": {},
     "output_type": "execute_result"
    }
   ],
   "source": [
    "mfp_rf"
   ]
  },
  {
   "cell_type": "code",
   "execution_count": 88,
   "id": "fd8410bd-de7d-45ca-9392-e5d3bed8253b",
   "metadata": {},
   "outputs": [],
   "source": [
    "maccs_rf = build_rf(maccs,10)"
   ]
  },
  {
   "cell_type": "code",
   "execution_count": 89,
   "id": "192c3096-1fd6-4a46-a966-a43d3e12df22",
   "metadata": {},
   "outputs": [
    {
     "data": {
      "text/plain": [
       "(array([0., 1., 0., 1., 0., 0., 1., 0., 1., 1., 1., 1., 1., 1., 0., 1., 1.,\n",
       "        1., 1., 1., 1., 0., 1., 0., 1., 0., 1., 1., 1., 1., 1., 1., 1., 1.,\n",
       "        1., 0., 1., 1., 1., 1., 1., 1., 1., 1., 1., 0., 1., 0., 1., 1., 1.,\n",
       "        1., 1., 1., 1., 1., 1., 1., 1., 1., 1., 1., 1., 1., 1., 0., 1., 1.,\n",
       "        1., 1., 0., 0., 0., 1., 1., 0., 0., 0., 1., 0., 1., 0., 1., 1., 1.,\n",
       "        0., 0., 1., 1., 0., 1., 1., 1., 1., 1., 1., 1., 0., 1., 0., 1., 1.,\n",
       "        1., 1., 1., 1., 0., 1., 0., 0., 1., 1., 1., 0., 1., 0., 1., 1., 1.,\n",
       "        1., 1., 1., 1., 1., 1., 0., 1., 1., 1., 1., 0., 1., 0., 0., 0., 0.,\n",
       "        0., 1., 1., 1., 1., 1., 0., 1., 1., 0., 0., 1., 1., 0., 0., 1., 1.,\n",
       "        1., 1., 1., 1., 1., 1., 1., 1., 0., 1., 0., 1., 1., 1., 1., 1., 1.,\n",
       "        1., 1., 1., 1., 1., 1., 1., 1., 1., 1., 1., 1., 1., 1., 1., 1., 1.,\n",
       "        1., 1., 1., 1., 1., 1., 0., 1., 1., 1., 1., 0., 1., 0., 1., 1., 1.,\n",
       "        1., 1.]),\n",
       " array([1., 1., 0., 1., 0., 1., 1., 1., 0., 1., 1., 1., 0., 1., 0., 1., 1.,\n",
       "        1., 1., 1., 1., 1., 1., 1., 0., 1., 1., 1., 1., 1., 1., 1., 1., 1.,\n",
       "        1., 1., 1., 1., 1., 1., 1., 1., 1., 0., 1., 1., 1., 1., 0., 1., 1.,\n",
       "        1.]),\n",
       " {'fit_time': array([0.09109807, 0.09316397, 0.09309196, 0.08949709, 0.09063292]),\n",
       "  'score_time': array([0.01061893, 0.01062822, 0.01102209, 0.01103115, 0.01069999]),\n",
       "  'test_precision': array([0.91176471, 0.90909091, 0.93333333, 0.90625   , 0.9375    ]),\n",
       "  'test_recall': array([0.96875   , 0.96774194, 0.90322581, 0.93548387, 0.9375    ]),\n",
       "  'test_accuracy': array([0.9047619 , 0.90243902, 0.87804878, 0.87804878, 0.90243902])},\n",
       " 0.9746835443037974,\n",
       " 0.9808917197452229,\n",
       " 0.9660194174757282,\n",
       " 0.8863636363636364,\n",
       " 0.975,\n",
       " 0.8846153846153846)"
      ]
     },
     "execution_count": 89,
     "metadata": {},
     "output_type": "execute_result"
    }
   ],
   "source": [
    "maccs_rf"
   ]
  },
  {
   "cell_type": "code",
   "execution_count": 90,
   "id": "fd090bb7-371a-4a0b-8480-ad02f5b35c3f",
   "metadata": {},
   "outputs": [],
   "source": [
    "def build_svm(df):\n",
    "    X = df.drop(\"label\",axis=1)\n",
    "    y = df[\"label\"]\n",
    "    ##Splitting dataset \n",
    "    X_train, X_test, y_train, y_test = train_test_split(X, y, test_size=0.2, random_state=42,stratify=y)\n",
    "    ##Fitting to training data\n",
    "    svm= SVC(kernel=\"poly\",gamma=1)\n",
    "    svm.fit(X_train,y_train)\n",
    "    ## training set predicition\n",
    "    y_train_pred = svm.predict(X_train)\n",
    "    ## test set predictions\n",
    "    y_test_pred = svm.predict(X_test)\n",
    "    ## 5-Fold cross validation\n",
    "    cv_results = cross_validate(svm,X_train,y_train,cv=5,scoring=[\"precision\",\"recall\",\"accuracy\"])\n",
    "    ## Training set validation\n",
    "    training_precision = precision_score(y_train,y_train_pred)\n",
    "    training_recall = recall_score(y_train,y_train_pred)\n",
    "    training_acc= accuracy_score(y_train,y_train_pred)\n",
    "    ## Test set validation\n",
    "    test_precision = precision_score(y_test,y_test_pred)\n",
    "    test_recall = recall_score(y_test,y_test_pred)\n",
    "    test_acc= accuracy_score(y_test,y_test_pred)\n",
    "    \n",
    "    return y_train_pred,y_test_pred,cv_results,training_precision,training_recall,training_acc,test_precision,test_recall,test_acc\n",
    "\n",
    "\n",
    "\n",
    "\n"
   ]
  },
  {
   "cell_type": "code",
   "execution_count": 91,
   "id": "387217a1-03d1-45c4-ad02-940045e2374a",
   "metadata": {},
   "outputs": [],
   "source": [
    "mfp_svm =build_svm(mfp)"
   ]
  },
  {
   "cell_type": "code",
   "execution_count": 92,
   "id": "c1d6379c-8c3f-49c5-a5b6-ffb0309d34eb",
   "metadata": {},
   "outputs": [],
   "source": [
    "maccs_svm = build_svm(maccs)"
   ]
  },
  {
   "cell_type": "code",
   "execution_count": 93,
   "id": "29dc44da-6af8-4912-9cc8-1429aefcec90",
   "metadata": {},
   "outputs": [
    {
     "data": {
      "text/html": [
       "<div>\n",
       "<style scoped>\n",
       "    .dataframe tbody tr th:only-of-type {\n",
       "        vertical-align: middle;\n",
       "    }\n",
       "\n",
       "    .dataframe tbody tr th {\n",
       "        vertical-align: top;\n",
       "    }\n",
       "\n",
       "    .dataframe thead th {\n",
       "        text-align: right;\n",
       "    }\n",
       "</style>\n",
       "<table border=\"1\" class=\"dataframe\">\n",
       "  <thead>\n",
       "    <tr style=\"text-align: right;\">\n",
       "      <th></th>\n",
       "      <th>count</th>\n",
       "      <th>mean</th>\n",
       "      <th>std</th>\n",
       "      <th>min</th>\n",
       "      <th>25%</th>\n",
       "      <th>50%</th>\n",
       "      <th>75%</th>\n",
       "      <th>max</th>\n",
       "    </tr>\n",
       "  </thead>\n",
       "  <tbody>\n",
       "    <tr>\n",
       "      <th>fit_time</th>\n",
       "      <td>5.0</td>\n",
       "      <td>0.119033</td>\n",
       "      <td>0.012245</td>\n",
       "      <td>0.109062</td>\n",
       "      <td>0.110191</td>\n",
       "      <td>0.116138</td>\n",
       "      <td>0.120451</td>\n",
       "      <td>0.139324</td>\n",
       "    </tr>\n",
       "    <tr>\n",
       "      <th>score_time</th>\n",
       "      <td>5.0</td>\n",
       "      <td>0.011368</td>\n",
       "      <td>0.000707</td>\n",
       "      <td>0.010698</td>\n",
       "      <td>0.010969</td>\n",
       "      <td>0.011258</td>\n",
       "      <td>0.011373</td>\n",
       "      <td>0.012542</td>\n",
       "    </tr>\n",
       "    <tr>\n",
       "      <th>test_precision</th>\n",
       "      <td>5.0</td>\n",
       "      <td>0.935860</td>\n",
       "      <td>0.001735</td>\n",
       "      <td>0.933333</td>\n",
       "      <td>0.935484</td>\n",
       "      <td>0.935484</td>\n",
       "      <td>0.937500</td>\n",
       "      <td>0.937500</td>\n",
       "    </tr>\n",
       "    <tr>\n",
       "      <th>test_recall</th>\n",
       "      <td>5.0</td>\n",
       "      <td>0.930040</td>\n",
       "      <td>0.026418</td>\n",
       "      <td>0.903226</td>\n",
       "      <td>0.906250</td>\n",
       "      <td>0.935484</td>\n",
       "      <td>0.937500</td>\n",
       "      <td>0.967742</td>\n",
       "    </tr>\n",
       "    <tr>\n",
       "      <th>test_accuracy</th>\n",
       "      <td>5.0</td>\n",
       "      <td>0.898026</td>\n",
       "      <td>0.020571</td>\n",
       "      <td>0.878049</td>\n",
       "      <td>0.878049</td>\n",
       "      <td>0.902439</td>\n",
       "      <td>0.904762</td>\n",
       "      <td>0.926829</td>\n",
       "    </tr>\n",
       "  </tbody>\n",
       "</table>\n",
       "</div>"
      ],
      "text/plain": [
       "                count      mean       std       min       25%       50%  \\\n",
       "fit_time          5.0  0.119033  0.012245  0.109062  0.110191  0.116138   \n",
       "score_time        5.0  0.011368  0.000707  0.010698  0.010969  0.011258   \n",
       "test_precision    5.0  0.935860  0.001735  0.933333  0.935484  0.935484   \n",
       "test_recall       5.0  0.930040  0.026418  0.903226  0.906250  0.935484   \n",
       "test_accuracy     5.0  0.898026  0.020571  0.878049  0.878049  0.902439   \n",
       "\n",
       "                     75%       max  \n",
       "fit_time        0.120451  0.139324  \n",
       "score_time      0.011373  0.012542  \n",
       "test_precision  0.937500  0.937500  \n",
       "test_recall     0.937500  0.967742  \n",
       "test_accuracy   0.904762  0.926829  "
      ]
     },
     "execution_count": 93,
     "metadata": {},
     "output_type": "execute_result"
    }
   ],
   "source": [
    "pd.DataFrame(mfp_rf[2]).describe().T"
   ]
  },
  {
   "cell_type": "code",
   "execution_count": 94,
   "id": "2d895630-1171-4851-afd4-e54e034b2ee6",
   "metadata": {},
   "outputs": [
    {
     "data": {
      "text/html": [
       "<div>\n",
       "<style scoped>\n",
       "    .dataframe tbody tr th:only-of-type {\n",
       "        vertical-align: middle;\n",
       "    }\n",
       "\n",
       "    .dataframe tbody tr th {\n",
       "        vertical-align: top;\n",
       "    }\n",
       "\n",
       "    .dataframe thead th {\n",
       "        text-align: right;\n",
       "    }\n",
       "</style>\n",
       "<table border=\"1\" class=\"dataframe\">\n",
       "  <thead>\n",
       "    <tr style=\"text-align: right;\">\n",
       "      <th></th>\n",
       "      <th>count</th>\n",
       "      <th>mean</th>\n",
       "      <th>std</th>\n",
       "      <th>min</th>\n",
       "      <th>25%</th>\n",
       "      <th>50%</th>\n",
       "      <th>75%</th>\n",
       "      <th>max</th>\n",
       "    </tr>\n",
       "  </thead>\n",
       "  <tbody>\n",
       "    <tr>\n",
       "      <th>fit_time</th>\n",
       "      <td>5.0</td>\n",
       "      <td>0.005421</td>\n",
       "      <td>0.001175</td>\n",
       "      <td>0.004392</td>\n",
       "      <td>0.004405</td>\n",
       "      <td>0.004948</td>\n",
       "      <td>0.006536</td>\n",
       "      <td>0.006823</td>\n",
       "    </tr>\n",
       "    <tr>\n",
       "      <th>score_time</th>\n",
       "      <td>5.0</td>\n",
       "      <td>0.006015</td>\n",
       "      <td>0.001497</td>\n",
       "      <td>0.004777</td>\n",
       "      <td>0.005004</td>\n",
       "      <td>0.005024</td>\n",
       "      <td>0.007331</td>\n",
       "      <td>0.007939</td>\n",
       "    </tr>\n",
       "    <tr>\n",
       "      <th>test_precision</th>\n",
       "      <td>5.0</td>\n",
       "      <td>0.948700</td>\n",
       "      <td>0.026520</td>\n",
       "      <td>0.909091</td>\n",
       "      <td>0.933333</td>\n",
       "      <td>0.966667</td>\n",
       "      <td>0.966667</td>\n",
       "      <td>0.967742</td>\n",
       "    </tr>\n",
       "    <tr>\n",
       "      <th>test_recall</th>\n",
       "      <td>5.0</td>\n",
       "      <td>0.930242</td>\n",
       "      <td>0.034255</td>\n",
       "      <td>0.903226</td>\n",
       "      <td>0.906250</td>\n",
       "      <td>0.906250</td>\n",
       "      <td>0.967742</td>\n",
       "      <td>0.967742</td>\n",
       "    </tr>\n",
       "    <tr>\n",
       "      <th>test_accuracy</th>\n",
       "      <td>5.0</td>\n",
       "      <td>0.907782</td>\n",
       "      <td>0.026632</td>\n",
       "      <td>0.878049</td>\n",
       "      <td>0.902439</td>\n",
       "      <td>0.902439</td>\n",
       "      <td>0.904762</td>\n",
       "      <td>0.951220</td>\n",
       "    </tr>\n",
       "  </tbody>\n",
       "</table>\n",
       "</div>"
      ],
      "text/plain": [
       "                count      mean       std       min       25%       50%  \\\n",
       "fit_time          5.0  0.005421  0.001175  0.004392  0.004405  0.004948   \n",
       "score_time        5.0  0.006015  0.001497  0.004777  0.005004  0.005024   \n",
       "test_precision    5.0  0.948700  0.026520  0.909091  0.933333  0.966667   \n",
       "test_recall       5.0  0.930242  0.034255  0.903226  0.906250  0.906250   \n",
       "test_accuracy     5.0  0.907782  0.026632  0.878049  0.902439  0.902439   \n",
       "\n",
       "                     75%       max  \n",
       "fit_time        0.006536  0.006823  \n",
       "score_time      0.007331  0.007939  \n",
       "test_precision  0.966667  0.967742  \n",
       "test_recall     0.967742  0.967742  \n",
       "test_accuracy   0.904762  0.951220  "
      ]
     },
     "execution_count": 94,
     "metadata": {},
     "output_type": "execute_result"
    }
   ],
   "source": [
    "pd.DataFrame(mfp_svm[2]).describe().T"
   ]
  },
  {
   "cell_type": "markdown",
   "id": "8c7b6100-3558-4dc9-8c58-cc130cf7e676",
   "metadata": {},
   "source": [
    "+ For Morgan FP, RF and SVM almost look similar to each other"
   ]
  },
  {
   "cell_type": "code",
   "execution_count": 40,
   "id": "7927875c-4549-4da0-bd2e-ec3bb6a744c9",
   "metadata": {},
   "outputs": [
    {
     "data": {
      "text/html": [
       "<div>\n",
       "<style scoped>\n",
       "    .dataframe tbody tr th:only-of-type {\n",
       "        vertical-align: middle;\n",
       "    }\n",
       "\n",
       "    .dataframe tbody tr th {\n",
       "        vertical-align: top;\n",
       "    }\n",
       "\n",
       "    .dataframe thead th {\n",
       "        text-align: right;\n",
       "    }\n",
       "</style>\n",
       "<table border=\"1\" class=\"dataframe\">\n",
       "  <thead>\n",
       "    <tr style=\"text-align: right;\">\n",
       "      <th></th>\n",
       "      <th>count</th>\n",
       "      <th>mean</th>\n",
       "      <th>std</th>\n",
       "      <th>min</th>\n",
       "      <th>25%</th>\n",
       "      <th>50%</th>\n",
       "      <th>75%</th>\n",
       "      <th>max</th>\n",
       "    </tr>\n",
       "  </thead>\n",
       "  <tbody>\n",
       "    <tr>\n",
       "      <th>fit_time</th>\n",
       "      <td>5.0</td>\n",
       "      <td>0.108324</td>\n",
       "      <td>0.008643</td>\n",
       "      <td>0.102448</td>\n",
       "      <td>0.103415</td>\n",
       "      <td>0.104028</td>\n",
       "      <td>0.108514</td>\n",
       "      <td>0.123214</td>\n",
       "    </tr>\n",
       "    <tr>\n",
       "      <th>score_time</th>\n",
       "      <td>5.0</td>\n",
       "      <td>0.013060</td>\n",
       "      <td>0.000784</td>\n",
       "      <td>0.012273</td>\n",
       "      <td>0.012312</td>\n",
       "      <td>0.013283</td>\n",
       "      <td>0.013289</td>\n",
       "      <td>0.014145</td>\n",
       "    </tr>\n",
       "    <tr>\n",
       "      <th>test_precision</th>\n",
       "      <td>5.0</td>\n",
       "      <td>0.919588</td>\n",
       "      <td>0.014655</td>\n",
       "      <td>0.906250</td>\n",
       "      <td>0.909091</td>\n",
       "      <td>0.911765</td>\n",
       "      <td>0.933333</td>\n",
       "      <td>0.937500</td>\n",
       "    </tr>\n",
       "    <tr>\n",
       "      <th>test_recall</th>\n",
       "      <td>5.0</td>\n",
       "      <td>0.942540</td>\n",
       "      <td>0.027124</td>\n",
       "      <td>0.903226</td>\n",
       "      <td>0.935484</td>\n",
       "      <td>0.937500</td>\n",
       "      <td>0.967742</td>\n",
       "      <td>0.968750</td>\n",
       "    </tr>\n",
       "    <tr>\n",
       "      <th>test_accuracy</th>\n",
       "      <td>5.0</td>\n",
       "      <td>0.893148</td>\n",
       "      <td>0.013816</td>\n",
       "      <td>0.878049</td>\n",
       "      <td>0.878049</td>\n",
       "      <td>0.902439</td>\n",
       "      <td>0.902439</td>\n",
       "      <td>0.904762</td>\n",
       "    </tr>\n",
       "  </tbody>\n",
       "</table>\n",
       "</div>"
      ],
      "text/plain": [
       "                count      mean       std       min       25%       50%  \\\n",
       "fit_time          5.0  0.108324  0.008643  0.102448  0.103415  0.104028   \n",
       "score_time        5.0  0.013060  0.000784  0.012273  0.012312  0.013283   \n",
       "test_precision    5.0  0.919588  0.014655  0.906250  0.909091  0.911765   \n",
       "test_recall       5.0  0.942540  0.027124  0.903226  0.935484  0.937500   \n",
       "test_accuracy     5.0  0.893148  0.013816  0.878049  0.878049  0.902439   \n",
       "\n",
       "                     75%       max  \n",
       "fit_time        0.108514  0.123214  \n",
       "score_time      0.013289  0.014145  \n",
       "test_precision  0.933333  0.937500  \n",
       "test_recall     0.967742  0.968750  \n",
       "test_accuracy   0.902439  0.904762  "
      ]
     },
     "execution_count": 40,
     "metadata": {},
     "output_type": "execute_result"
    }
   ],
   "source": [
    "pd.DataFrame(maccs_rf[2]).describe().T"
   ]
  },
  {
   "cell_type": "code",
   "execution_count": 41,
   "id": "7a549b8e-1d47-4800-ba13-2d2991eed014",
   "metadata": {},
   "outputs": [
    {
     "data": {
      "text/html": [
       "<div>\n",
       "<style scoped>\n",
       "    .dataframe tbody tr th:only-of-type {\n",
       "        vertical-align: middle;\n",
       "    }\n",
       "\n",
       "    .dataframe tbody tr th {\n",
       "        vertical-align: top;\n",
       "    }\n",
       "\n",
       "    .dataframe thead th {\n",
       "        text-align: right;\n",
       "    }\n",
       "</style>\n",
       "<table border=\"1\" class=\"dataframe\">\n",
       "  <thead>\n",
       "    <tr style=\"text-align: right;\">\n",
       "      <th></th>\n",
       "      <th>count</th>\n",
       "      <th>mean</th>\n",
       "      <th>std</th>\n",
       "      <th>min</th>\n",
       "      <th>25%</th>\n",
       "      <th>50%</th>\n",
       "      <th>75%</th>\n",
       "      <th>max</th>\n",
       "    </tr>\n",
       "  </thead>\n",
       "  <tbody>\n",
       "    <tr>\n",
       "      <th>fit_time</th>\n",
       "      <td>5.0</td>\n",
       "      <td>0.007275</td>\n",
       "      <td>0.001857</td>\n",
       "      <td>0.004063</td>\n",
       "      <td>0.007522</td>\n",
       "      <td>0.007910</td>\n",
       "      <td>0.008049</td>\n",
       "      <td>0.008830</td>\n",
       "    </tr>\n",
       "    <tr>\n",
       "      <th>score_time</th>\n",
       "      <td>5.0</td>\n",
       "      <td>0.006186</td>\n",
       "      <td>0.001361</td>\n",
       "      <td>0.005160</td>\n",
       "      <td>0.005386</td>\n",
       "      <td>0.005571</td>\n",
       "      <td>0.006323</td>\n",
       "      <td>0.008493</td>\n",
       "    </tr>\n",
       "    <tr>\n",
       "      <th>test_precision</th>\n",
       "      <td>5.0</td>\n",
       "      <td>0.918725</td>\n",
       "      <td>0.013503</td>\n",
       "      <td>0.906250</td>\n",
       "      <td>0.909091</td>\n",
       "      <td>0.911765</td>\n",
       "      <td>0.931034</td>\n",
       "      <td>0.935484</td>\n",
       "    </tr>\n",
       "    <tr>\n",
       "      <th>test_recall</th>\n",
       "      <td>5.0</td>\n",
       "      <td>0.929839</td>\n",
       "      <td>0.041847</td>\n",
       "      <td>0.870968</td>\n",
       "      <td>0.906250</td>\n",
       "      <td>0.935484</td>\n",
       "      <td>0.967742</td>\n",
       "      <td>0.968750</td>\n",
       "    </tr>\n",
       "    <tr>\n",
       "      <th>test_accuracy</th>\n",
       "      <td>5.0</td>\n",
       "      <td>0.883391</td>\n",
       "      <td>0.020980</td>\n",
       "      <td>0.853659</td>\n",
       "      <td>0.878049</td>\n",
       "      <td>0.878049</td>\n",
       "      <td>0.902439</td>\n",
       "      <td>0.904762</td>\n",
       "    </tr>\n",
       "  </tbody>\n",
       "</table>\n",
       "</div>"
      ],
      "text/plain": [
       "                count      mean       std       min       25%       50%  \\\n",
       "fit_time          5.0  0.007275  0.001857  0.004063  0.007522  0.007910   \n",
       "score_time        5.0  0.006186  0.001361  0.005160  0.005386  0.005571   \n",
       "test_precision    5.0  0.918725  0.013503  0.906250  0.909091  0.911765   \n",
       "test_recall       5.0  0.929839  0.041847  0.870968  0.906250  0.935484   \n",
       "test_accuracy     5.0  0.883391  0.020980  0.853659  0.878049  0.878049   \n",
       "\n",
       "                     75%       max  \n",
       "fit_time        0.008049  0.008830  \n",
       "score_time      0.006323  0.008493  \n",
       "test_precision  0.931034  0.935484  \n",
       "test_recall     0.967742  0.968750  \n",
       "test_accuracy   0.902439  0.904762  "
      ]
     },
     "execution_count": 41,
     "metadata": {},
     "output_type": "execute_result"
    }
   ],
   "source": [
    "pd.DataFrame(maccs_svm[2]).describe().T"
   ]
  },
  {
   "cell_type": "code",
   "execution_count": 95,
   "id": "9b360c7d-243a-4288-b6f6-75c8d428f13e",
   "metadata": {},
   "outputs": [
    {
     "data": {
      "text/plain": [
       "(array([0., 1., 0., 1., 0., 0., 1., 0., 1., 1., 1., 1., 1., 1., 0., 1., 1.,\n",
       "        1., 1., 1., 1., 0., 1., 0., 1., 0., 1., 1., 1., 1., 1., 1., 1., 1.,\n",
       "        1., 0., 1., 1., 1., 1., 1., 1., 1., 1., 1., 0., 1., 0., 1., 1., 1.,\n",
       "        1., 1., 1., 1., 1., 1., 1., 1., 1., 1., 1., 1., 1., 1., 0., 1., 1.,\n",
       "        1., 1., 0., 0., 0., 1., 1., 0., 0., 0., 1., 0., 1., 0., 1., 1., 1.,\n",
       "        0., 0., 1., 1., 0., 1., 1., 1., 1., 1., 1., 1., 0., 1., 0., 1., 1.,\n",
       "        1., 1., 1., 1., 1., 1., 0., 0., 1., 1., 1., 0., 1., 0., 1., 1., 1.,\n",
       "        1., 1., 1., 1., 1., 1., 0., 1., 1., 1., 1., 1., 1., 0., 0., 0., 0.,\n",
       "        0., 1., 1., 1., 1., 1., 0., 1., 1., 0., 0., 1., 1., 0., 0., 1., 1.,\n",
       "        1., 1., 1., 1., 1., 1., 1., 1., 0., 1., 0., 1., 1., 1., 1., 1., 1.,\n",
       "        1., 1., 1., 1., 1., 1., 1., 1., 1., 1., 1., 1., 1., 1., 1., 1., 1.,\n",
       "        1., 1., 1., 1., 1., 1., 0., 1., 1., 1., 1., 0., 1., 0., 1., 1., 1.,\n",
       "        1., 1.]),\n",
       " array([1., 1., 0., 1., 0., 1., 1., 0., 1., 0., 1., 1., 0., 1., 0., 1., 1.,\n",
       "        1., 1., 1., 1., 1., 1., 1., 0., 1., 1., 1., 1., 1., 1., 1., 1., 1.,\n",
       "        1., 1., 1., 1., 1., 1., 1., 1., 1., 0., 1., 1., 1., 1., 0., 1., 1.,\n",
       "        1.]),\n",
       " {'fit_time': array([0.11613798, 0.11019111, 0.10906196, 0.12045074, 0.13932395]),\n",
       "  'score_time': array([0.01069784, 0.01096916, 0.01125789, 0.01137304, 0.01254177]),\n",
       "  'test_precision': array([0.9375    , 0.9375    , 0.93548387, 0.93333333, 0.93548387]),\n",
       "  'test_recall': array([0.9375    , 0.96774194, 0.93548387, 0.90322581, 0.90625   ]),\n",
       "  'test_accuracy': array([0.9047619 , 0.92682927, 0.90243902, 0.87804878, 0.87804878])},\n",
       " 0.96875,\n",
       " 0.9872611464968153,\n",
       " 0.9660194174757282,\n",
       " 0.9302325581395349,\n",
       " 1.0,\n",
       " 0.9423076923076923)"
      ]
     },
     "execution_count": 95,
     "metadata": {},
     "output_type": "execute_result"
    }
   ],
   "source": [
    "mfp_rf"
   ]
  },
  {
   "cell_type": "code",
   "execution_count": 96,
   "id": "3cdd831d-1d1a-4484-824d-b09dcdc7a576",
   "metadata": {},
   "outputs": [
    {
     "data": {
      "text/plain": [
       "(array([0., 1., 0., 1., 0., 0., 1., 0., 1., 1., 1., 1., 1., 1., 0., 1., 1.,\n",
       "        1., 1., 1., 1., 0., 1., 0., 1., 0., 1., 1., 1., 1., 1., 1., 1., 1.,\n",
       "        1., 0., 1., 1., 1., 1., 1., 1., 1., 1., 1., 0., 1., 0., 1., 1., 1.,\n",
       "        1., 1., 1., 1., 1., 1., 1., 1., 1., 1., 1., 1., 1., 1., 0., 1., 1.,\n",
       "        1., 1., 0., 0., 0., 1., 1., 0., 0., 0., 1., 0., 1., 0., 1., 1., 1.,\n",
       "        0., 0., 1., 1., 0., 1., 1., 1., 1., 1., 1., 1., 0., 1., 0., 1., 1.,\n",
       "        1., 1., 1., 1., 1., 1., 0., 0., 1., 1., 1., 0., 1., 0., 1., 1., 1.,\n",
       "        1., 1., 1., 1., 1., 1., 0., 1., 1., 1., 1., 1., 1., 0., 0., 0., 0.,\n",
       "        0., 1., 1., 1., 0., 1., 0., 1., 1., 0., 0., 1., 1., 0., 0., 1., 1.,\n",
       "        1., 1., 1., 1., 1., 1., 1., 1., 0., 1., 0., 1., 1., 1., 1., 1., 1.,\n",
       "        0., 1., 1., 1., 1., 1., 1., 1., 1., 1., 1., 1., 1., 1., 1., 1., 1.,\n",
       "        1., 1., 1., 1., 1., 1., 0., 1., 1., 1., 1., 0., 1., 0., 1., 1., 1.,\n",
       "        1., 1.]),\n",
       " array([1., 1., 0., 1., 0., 1., 1., 0., 1., 0., 1., 1., 0., 1., 0., 1., 1.,\n",
       "        1., 1., 1., 1., 1., 1., 1., 0., 1., 1., 1., 1., 1., 1., 1., 1., 0.,\n",
       "        1., 1., 1., 1., 1., 1., 0., 1., 1., 0., 1., 1., 1., 1., 0., 1., 1.,\n",
       "        1.]),\n",
       " {'fit_time': array([0.00439191, 0.00682306, 0.00653577, 0.00494814, 0.00440502]),\n",
       "  'score_time': array([0.00733113, 0.00793886, 0.00502443, 0.00500393, 0.00477695]),\n",
       "  'test_precision': array([0.96666667, 0.96774194, 0.93333333, 0.90909091, 0.96666667]),\n",
       "  'test_recall': array([0.90625   , 0.96774194, 0.90322581, 0.96774194, 0.90625   ]),\n",
       "  'test_accuracy': array([0.9047619 , 0.95121951, 0.87804878, 0.90243902, 0.90243902])},\n",
       " 0.9746835443037974,\n",
       " 0.9808917197452229,\n",
       " 0.9660194174757282,\n",
       " 0.9512195121951219,\n",
       " 0.975,\n",
       " 0.9423076923076923)"
      ]
     },
     "execution_count": 96,
     "metadata": {},
     "output_type": "execute_result"
    }
   ],
   "source": [
    "mfp_svm"
   ]
  },
  {
   "cell_type": "markdown",
   "id": "021ec427-dc8f-488c-955b-3a5073fa228c",
   "metadata": {},
   "source": [
    "+ For MACCS keys, SVM behaves better than RF"
   ]
  },
  {
   "cell_type": "markdown",
   "id": "31812ec0-e551-4a94-802b-b85c79ff99c7",
   "metadata": {},
   "source": [
    "### Building Final Model"
   ]
  },
  {
   "cell_type": "code",
   "execution_count": 59,
   "id": "681dfeb4-793a-4505-aeec-9b239639155a",
   "metadata": {},
   "outputs": [],
   "source": [
    "X = mfp.drop(\"label\",axis=1)\n",
    "y = mfp[\"label\"]"
   ]
  },
  {
   "cell_type": "code",
   "execution_count": 60,
   "id": "16ecf54e-8933-4d32-b0c6-d77ffe7e26cb",
   "metadata": {},
   "outputs": [],
   "source": [
    "X_train, X_test, y_train, y_test = train_test_split(X, y, test_size=0.2, random_state=42,stratify=y)"
   ]
  },
  {
   "cell_type": "code",
   "execution_count": 61,
   "id": "eeb04112-60d5-4dd0-8555-776c5c3eec0f",
   "metadata": {},
   "outputs": [],
   "source": [
    "svm= SVC(kernel=\"poly\",gamma=1)"
   ]
  },
  {
   "cell_type": "code",
   "execution_count": 62,
   "id": "c0ef9a9e-f57c-4fb5-8fdd-0e9c0db41378",
   "metadata": {},
   "outputs": [
    {
     "data": {
      "text/plain": [
       "SVC(gamma=1, kernel='poly')"
      ]
     },
     "execution_count": 62,
     "metadata": {},
     "output_type": "execute_result"
    }
   ],
   "source": [
    "svm.fit(X_train,y_train)"
   ]
  },
  {
   "cell_type": "code",
   "execution_count": 63,
   "id": "0b1c5082-403b-4a53-aad6-998450914f89",
   "metadata": {},
   "outputs": [],
   "source": [
    "y_train_pred = svm.predict(X_train)\n",
    "\n"
   ]
  },
  {
   "cell_type": "code",
   "execution_count": 64,
   "id": "c4614f17-b55d-46a4-86e3-b0d9c5fadd42",
   "metadata": {},
   "outputs": [],
   "source": [
    "y_test_pred = svm.predict(X_test)\n",
    "\n"
   ]
  },
  {
   "cell_type": "code",
   "execution_count": 65,
   "id": "bf9b3ec6-57dc-40e3-bb83-34b369993ae2",
   "metadata": {},
   "outputs": [],
   "source": [
    "cv_results = cross_validate(svm,X_train,y_train,cv=5,scoring=[\"precision\",\"recall\",\"accuracy\"])"
   ]
  },
  {
   "cell_type": "code",
   "execution_count": 66,
   "id": "4aeafeae-698b-445c-a8de-9b8ae980c25d",
   "metadata": {},
   "outputs": [
    {
     "data": {
      "text/html": [
       "<div>\n",
       "<style scoped>\n",
       "    .dataframe tbody tr th:only-of-type {\n",
       "        vertical-align: middle;\n",
       "    }\n",
       "\n",
       "    .dataframe tbody tr th {\n",
       "        vertical-align: top;\n",
       "    }\n",
       "\n",
       "    .dataframe thead th {\n",
       "        text-align: right;\n",
       "    }\n",
       "</style>\n",
       "<table border=\"1\" class=\"dataframe\">\n",
       "  <thead>\n",
       "    <tr style=\"text-align: right;\">\n",
       "      <th></th>\n",
       "      <th>count</th>\n",
       "      <th>mean</th>\n",
       "      <th>std</th>\n",
       "      <th>min</th>\n",
       "      <th>25%</th>\n",
       "      <th>50%</th>\n",
       "      <th>75%</th>\n",
       "      <th>max</th>\n",
       "    </tr>\n",
       "  </thead>\n",
       "  <tbody>\n",
       "    <tr>\n",
       "      <th>fit_time</th>\n",
       "      <td>5.0</td>\n",
       "      <td>0.004931</td>\n",
       "      <td>0.001216</td>\n",
       "      <td>0.003594</td>\n",
       "      <td>0.003989</td>\n",
       "      <td>0.004689</td>\n",
       "      <td>0.006147</td>\n",
       "      <td>0.006235</td>\n",
       "    </tr>\n",
       "    <tr>\n",
       "      <th>score_time</th>\n",
       "      <td>5.0</td>\n",
       "      <td>0.004622</td>\n",
       "      <td>0.000642</td>\n",
       "      <td>0.003626</td>\n",
       "      <td>0.004489</td>\n",
       "      <td>0.004661</td>\n",
       "      <td>0.005027</td>\n",
       "      <td>0.005309</td>\n",
       "    </tr>\n",
       "    <tr>\n",
       "      <th>test_precision</th>\n",
       "      <td>5.0</td>\n",
       "      <td>0.948700</td>\n",
       "      <td>0.026520</td>\n",
       "      <td>0.909091</td>\n",
       "      <td>0.933333</td>\n",
       "      <td>0.966667</td>\n",
       "      <td>0.966667</td>\n",
       "      <td>0.967742</td>\n",
       "    </tr>\n",
       "    <tr>\n",
       "      <th>test_recall</th>\n",
       "      <td>5.0</td>\n",
       "      <td>0.930242</td>\n",
       "      <td>0.034255</td>\n",
       "      <td>0.903226</td>\n",
       "      <td>0.906250</td>\n",
       "      <td>0.906250</td>\n",
       "      <td>0.967742</td>\n",
       "      <td>0.967742</td>\n",
       "    </tr>\n",
       "    <tr>\n",
       "      <th>test_accuracy</th>\n",
       "      <td>5.0</td>\n",
       "      <td>0.907782</td>\n",
       "      <td>0.026632</td>\n",
       "      <td>0.878049</td>\n",
       "      <td>0.902439</td>\n",
       "      <td>0.902439</td>\n",
       "      <td>0.904762</td>\n",
       "      <td>0.951220</td>\n",
       "    </tr>\n",
       "  </tbody>\n",
       "</table>\n",
       "</div>"
      ],
      "text/plain": [
       "                count      mean       std       min       25%       50%  \\\n",
       "fit_time          5.0  0.004931  0.001216  0.003594  0.003989  0.004689   \n",
       "score_time        5.0  0.004622  0.000642  0.003626  0.004489  0.004661   \n",
       "test_precision    5.0  0.948700  0.026520  0.909091  0.933333  0.966667   \n",
       "test_recall       5.0  0.930242  0.034255  0.903226  0.906250  0.906250   \n",
       "test_accuracy     5.0  0.907782  0.026632  0.878049  0.902439  0.902439   \n",
       "\n",
       "                     75%       max  \n",
       "fit_time        0.006147  0.006235  \n",
       "score_time      0.005027  0.005309  \n",
       "test_precision  0.966667  0.967742  \n",
       "test_recall     0.967742  0.967742  \n",
       "test_accuracy   0.904762  0.951220  "
      ]
     },
     "execution_count": 66,
     "metadata": {},
     "output_type": "execute_result"
    }
   ],
   "source": [
    "pd.DataFrame(cv_results).describe().T"
   ]
  },
  {
   "cell_type": "code",
   "execution_count": 73,
   "id": "b7978950-dd93-4a83-aeb9-6c5922a4139e",
   "metadata": {},
   "outputs": [],
   "source": [
    "training_precision = precision_score(y_train,y_train_pred,average=\"micro\")\n",
    "training_recall = recall_score(y_train,y_train_pred,average=\"micro\")\n",
    "training_acc= accuracy_score(y_train,y_train_pred)"
   ]
  },
  {
   "cell_type": "code",
   "execution_count": 74,
   "id": "20363aef-291b-433d-b246-83c45d7db1f6",
   "metadata": {},
   "outputs": [
    {
     "data": {
      "text/plain": [
       "0.9660194174757282"
      ]
     },
     "execution_count": 74,
     "metadata": {},
     "output_type": "execute_result"
    }
   ],
   "source": [
    "training_precision"
   ]
  },
  {
   "cell_type": "code",
   "execution_count": 75,
   "id": "32d75796-3c33-4eb2-b560-173849dab48b",
   "metadata": {},
   "outputs": [
    {
     "data": {
      "text/plain": [
       "0.9660194174757282"
      ]
     },
     "execution_count": 75,
     "metadata": {},
     "output_type": "execute_result"
    }
   ],
   "source": [
    "training_recall"
   ]
  },
  {
   "cell_type": "code",
   "execution_count": 76,
   "id": "beb53e93-5acb-4177-b67c-d0089af05db1",
   "metadata": {},
   "outputs": [
    {
     "data": {
      "text/plain": [
       "0.9660194174757282"
      ]
     },
     "execution_count": 76,
     "metadata": {},
     "output_type": "execute_result"
    }
   ],
   "source": [
    "training_acc"
   ]
  },
  {
   "cell_type": "code",
   "execution_count": 97,
   "id": "5217e58f-e672-4c43-8dae-a05df102dece",
   "metadata": {},
   "outputs": [],
   "source": [
    "test_precision = precision_score(y_test,y_test_pred)\n",
    "test_recall = recall_score(y_test,y_test_pred)\n",
    "test_acc= accuracy_score(y_test,y_test_pred)\n"
   ]
  },
  {
   "cell_type": "code",
   "execution_count": 98,
   "id": "7161961c-b00c-415f-8b20-2368599081ec",
   "metadata": {},
   "outputs": [
    {
     "data": {
      "text/plain": [
       "0.9512195121951219"
      ]
     },
     "execution_count": 98,
     "metadata": {},
     "output_type": "execute_result"
    }
   ],
   "source": [
    "test_precision"
   ]
  },
  {
   "cell_type": "code",
   "execution_count": 99,
   "id": "538f28e2-cdbb-465b-beac-e70ab84b17ff",
   "metadata": {},
   "outputs": [
    {
     "data": {
      "text/plain": [
       "0.975"
      ]
     },
     "execution_count": 99,
     "metadata": {},
     "output_type": "execute_result"
    }
   ],
   "source": [
    "test_recall"
   ]
  },
  {
   "cell_type": "code",
   "execution_count": 100,
   "id": "3cd8f339-a85f-4991-baf3-27cbcc645fcf",
   "metadata": {},
   "outputs": [
    {
     "data": {
      "text/plain": [
       "0.9423076923076923"
      ]
     },
     "execution_count": 100,
     "metadata": {},
     "output_type": "execute_result"
    }
   ],
   "source": [
    "test_acc"
   ]
  },
  {
   "cell_type": "code",
   "execution_count": null,
   "id": "2e96154c-1501-43fa-ab61-86b37b1b51e6",
   "metadata": {},
   "outputs": [],
   "source": []
  },
  {
   "cell_type": "code",
   "execution_count": 46,
   "id": "113a57ad-1bd5-4dc2-982b-494239e0a85f",
   "metadata": {},
   "outputs": [],
   "source": [
    "from sklearn.metrics import classification_report"
   ]
  },
  {
   "cell_type": "code",
   "execution_count": 103,
   "id": "9c1058af-ac5d-4407-bbef-9693143f2543",
   "metadata": {},
   "outputs": [
    {
     "name": "stdout",
     "output_type": "stream",
     "text": [
      "              precision    recall  f1-score   support\n",
      "\n",
      "         0.0       0.91      0.83      0.87        12\n",
      "         1.0       0.95      0.97      0.96        40\n",
      "\n",
      "    accuracy                           0.94        52\n",
      "   macro avg       0.93      0.90      0.92        52\n",
      "weighted avg       0.94      0.94      0.94        52\n",
      "\n"
     ]
    }
   ],
   "source": [
    "print(classification_report(y_test,y_test_pred,labels=svm.classes_))"
   ]
  },
  {
   "cell_type": "code",
   "execution_count": 105,
   "id": "27569917-dd5f-4407-9aa1-76cc9ace9c3e",
   "metadata": {},
   "outputs": [],
   "source": [
    "from sklearn.metrics import ConfusionMatrixDisplay\n",
    "from sklearn.metrics import confusion_matrix"
   ]
  },
  {
   "cell_type": "code",
   "execution_count": 107,
   "id": "94519267-03d7-419d-aa8d-67bf34bb871d",
   "metadata": {},
   "outputs": [],
   "source": [
    "disp =ConfusionMatrixDisplay(confusion_matrix(y_test,y_test_pred))\n"
   ]
  },
  {
   "cell_type": "code",
   "execution_count": 108,
   "id": "34691770-cd54-4c10-ad73-72daf283920a",
   "metadata": {},
   "outputs": [
    {
     "data": {
      "text/plain": [
       "<sklearn.metrics._plot.confusion_matrix.ConfusionMatrixDisplay at 0x12693b220>"
      ]
     },
     "execution_count": 108,
     "metadata": {},
     "output_type": "execute_result"
    },
    {
     "data": {
      "image/png": "[encoded data removed]",
      "text/plain": [
       "<Figure size 432x288 with 2 Axes>"
      ]
     },
     "metadata": {
      "needs_background": "light"
     },
     "output_type": "display_data"
    }
   ],
   "source": [
    "disp.plot()"
   ]
  },
  {
   "cell_type": "markdown",
   "id": "ee4bf510-e7ec-4200-94f2-8a08f98093bf",
   "metadata": {},
   "source": [
    "This model shows **Sensitivity (TPR)** of 97% and **Specificity (TNR)** of 83% and an **overall accuracy** of 94%. "
   ]
  },
  {
   "cell_type": "code",
   "execution_count": null,
   "id": "3564e9dd-59e3-4246-8384-0047bd17314a",
   "metadata": {},
   "outputs": [],
   "source": []
  },
  {
   "cell_type": "code",
   "execution_count": null,
   "id": "d6c187d8-73d4-41f4-a3e5-cf280069eb3d",
   "metadata": {},
   "outputs": [],
   "source": []
  },
  {
   "cell_type": "code",
   "execution_count": null,
   "id": "67f2ad41-2487-4924-8519-3b97857d55c6",
   "metadata": {},
   "outputs": [],
   "source": []
  },
  {
   "cell_type": "markdown",
   "id": "78659d68-8ee3-42bf-a668-0c610b810ce2",
   "metadata": {},
   "source": [
    "### Deep learning Model"
   ]
  },
  {
   "cell_type": "code",
   "execution_count": 15,
   "id": "4cbd900d-86f3-4f7c-ad3b-4d4b24204da8",
   "metadata": {},
   "outputs": [],
   "source": [
    "df = pd.read_csv(\"mfp.csv\",sep=\"\\t\")"
   ]
  },
  {
   "cell_type": "code",
   "execution_count": 16,
   "id": "dd41e6a6-4a0f-459e-96ce-ad2b961f7734",
   "metadata": {},
   "outputs": [
    {
     "data": {
      "text/html": [
       "<div>\n",
       "<style scoped>\n",
       "    .dataframe tbody tr th:only-of-type {\n",
       "        vertical-align: middle;\n",
       "    }\n",
       "\n",
       "    .dataframe tbody tr th {\n",
       "        vertical-align: top;\n",
       "    }\n",
       "\n",
       "    .dataframe thead th {\n",
       "        text-align: right;\n",
       "    }\n",
       "</style>\n",
       "<table border=\"1\" class=\"dataframe\">\n",
       "  <thead>\n",
       "    <tr style=\"text-align: right;\">\n",
       "      <th></th>\n",
       "      <th>0</th>\n",
       "      <th>1</th>\n",
       "      <th>2</th>\n",
       "      <th>3</th>\n",
       "      <th>4</th>\n",
       "      <th>5</th>\n",
       "      <th>6</th>\n",
       "      <th>7</th>\n",
       "      <th>8</th>\n",
       "      <th>9</th>\n",
       "      <th>...</th>\n",
       "      <th>137</th>\n",
       "      <th>138</th>\n",
       "      <th>139</th>\n",
       "      <th>140</th>\n",
       "      <th>141</th>\n",
       "      <th>142</th>\n",
       "      <th>143</th>\n",
       "      <th>144</th>\n",
       "      <th>145</th>\n",
       "      <th>label</th>\n",
       "    </tr>\n",
       "  </thead>\n",
       "  <tbody>\n",
       "    <tr>\n",
       "      <th>0</th>\n",
       "      <td>0.0</td>\n",
       "      <td>0.0</td>\n",
       "      <td>1.0</td>\n",
       "      <td>0.0</td>\n",
       "      <td>0.0</td>\n",
       "      <td>0.0</td>\n",
       "      <td>1.0</td>\n",
       "      <td>0.0</td>\n",
       "      <td>1.0</td>\n",
       "      <td>0.0</td>\n",
       "      <td>...</td>\n",
       "      <td>1.0</td>\n",
       "      <td>0.0</td>\n",
       "      <td>0.0</td>\n",
       "      <td>1.0</td>\n",
       "      <td>0.0</td>\n",
       "      <td>0.0</td>\n",
       "      <td>0.0</td>\n",
       "      <td>0.0</td>\n",
       "      <td>1.0</td>\n",
       "      <td>0.0</td>\n",
       "    </tr>\n",
       "    <tr>\n",
       "      <th>1</th>\n",
       "      <td>0.0</td>\n",
       "      <td>0.0</td>\n",
       "      <td>0.0</td>\n",
       "      <td>1.0</td>\n",
       "      <td>0.0</td>\n",
       "      <td>0.0</td>\n",
       "      <td>1.0</td>\n",
       "      <td>0.0</td>\n",
       "      <td>1.0</td>\n",
       "      <td>0.0</td>\n",
       "      <td>...</td>\n",
       "      <td>1.0</td>\n",
       "      <td>0.0</td>\n",
       "      <td>0.0</td>\n",
       "      <td>1.0</td>\n",
       "      <td>0.0</td>\n",
       "      <td>0.0</td>\n",
       "      <td>1.0</td>\n",
       "      <td>0.0</td>\n",
       "      <td>0.0</td>\n",
       "      <td>0.0</td>\n",
       "    </tr>\n",
       "    <tr>\n",
       "      <th>2</th>\n",
       "      <td>0.0</td>\n",
       "      <td>0.0</td>\n",
       "      <td>0.0</td>\n",
       "      <td>0.0</td>\n",
       "      <td>0.0</td>\n",
       "      <td>1.0</td>\n",
       "      <td>1.0</td>\n",
       "      <td>0.0</td>\n",
       "      <td>0.0</td>\n",
       "      <td>1.0</td>\n",
       "      <td>...</td>\n",
       "      <td>0.0</td>\n",
       "      <td>0.0</td>\n",
       "      <td>1.0</td>\n",
       "      <td>1.0</td>\n",
       "      <td>0.0</td>\n",
       "      <td>0.0</td>\n",
       "      <td>0.0</td>\n",
       "      <td>0.0</td>\n",
       "      <td>0.0</td>\n",
       "      <td>0.0</td>\n",
       "    </tr>\n",
       "    <tr>\n",
       "      <th>3</th>\n",
       "      <td>0.0</td>\n",
       "      <td>0.0</td>\n",
       "      <td>0.0</td>\n",
       "      <td>0.0</td>\n",
       "      <td>0.0</td>\n",
       "      <td>1.0</td>\n",
       "      <td>1.0</td>\n",
       "      <td>0.0</td>\n",
       "      <td>0.0</td>\n",
       "      <td>1.0</td>\n",
       "      <td>...</td>\n",
       "      <td>0.0</td>\n",
       "      <td>0.0</td>\n",
       "      <td>1.0</td>\n",
       "      <td>1.0</td>\n",
       "      <td>0.0</td>\n",
       "      <td>0.0</td>\n",
       "      <td>0.0</td>\n",
       "      <td>0.0</td>\n",
       "      <td>0.0</td>\n",
       "      <td>0.0</td>\n",
       "    </tr>\n",
       "    <tr>\n",
       "      <th>4</th>\n",
       "      <td>0.0</td>\n",
       "      <td>0.0</td>\n",
       "      <td>1.0</td>\n",
       "      <td>0.0</td>\n",
       "      <td>0.0</td>\n",
       "      <td>1.0</td>\n",
       "      <td>1.0</td>\n",
       "      <td>0.0</td>\n",
       "      <td>0.0</td>\n",
       "      <td>1.0</td>\n",
       "      <td>...</td>\n",
       "      <td>0.0</td>\n",
       "      <td>0.0</td>\n",
       "      <td>1.0</td>\n",
       "      <td>1.0</td>\n",
       "      <td>0.0</td>\n",
       "      <td>0.0</td>\n",
       "      <td>0.0</td>\n",
       "      <td>0.0</td>\n",
       "      <td>0.0</td>\n",
       "      <td>0.0</td>\n",
       "    </tr>\n",
       "  </tbody>\n",
       "</table>\n",
       "<p>5 rows × 147 columns</p>\n",
       "</div>"
      ],
      "text/plain": [
       "     0    1    2    3    4    5    6    7    8    9  ...  137  138  139  140  \\\n",
       "0  0.0  0.0  1.0  0.0  0.0  0.0  1.0  0.0  1.0  0.0  ...  1.0  0.0  0.0  1.0   \n",
       "1  0.0  0.0  0.0  1.0  0.0  0.0  1.0  0.0  1.0  0.0  ...  1.0  0.0  0.0  1.0   \n",
       "2  0.0  0.0  0.0  0.0  0.0  1.0  1.0  0.0  0.0  1.0  ...  0.0  0.0  1.0  1.0   \n",
       "3  0.0  0.0  0.0  0.0  0.0  1.0  1.0  0.0  0.0  1.0  ...  0.0  0.0  1.0  1.0   \n",
       "4  0.0  0.0  1.0  0.0  0.0  1.0  1.0  0.0  0.0  1.0  ...  0.0  0.0  1.0  1.0   \n",
       "\n",
       "   141  142  143  144  145  label  \n",
       "0  0.0  0.0  0.0  0.0  1.0    0.0  \n",
       "1  0.0  0.0  1.0  0.0  0.0    0.0  \n",
       "2  0.0  0.0  0.0  0.0  0.0    0.0  \n",
       "3  0.0  0.0  0.0  0.0  0.0    0.0  \n",
       "4  0.0  0.0  0.0  0.0  0.0    0.0  \n",
       "\n",
       "[5 rows x 147 columns]"
      ]
     },
     "execution_count": 16,
     "metadata": {},
     "output_type": "execute_result"
    }
   ],
   "source": [
    "df.head()"
   ]
  },
  {
   "cell_type": "code",
   "execution_count": 18,
   "id": "20621a66-cc2b-451b-823c-965ca4073df9",
   "metadata": {},
   "outputs": [],
   "source": [
    "X = df.drop(\"label\",axis=1).values"
   ]
  },
  {
   "cell_type": "code",
   "execution_count": 19,
   "id": "31457148-2a91-40c6-b815-a60e792b01d0",
   "metadata": {},
   "outputs": [],
   "source": [
    "y= df[\"label\"].values"
   ]
  },
  {
   "cell_type": "code",
   "execution_count": 20,
   "id": "dc5d3a5f-ff81-4ccf-ab68-980afe222fd6",
   "metadata": {},
   "outputs": [],
   "source": [
    "X_train, X_test, y_train, y_test = train_test_split(X, y, test_size=0.2, random_state=42,stratify=y)"
   ]
  },
  {
   "cell_type": "code",
   "execution_count": 21,
   "id": "5c1c68b5-7cde-4359-b087-284064a815b0",
   "metadata": {},
   "outputs": [],
   "source": [
    "from tensorflow.keras.models import Sequential\n",
    "from tensorflow.keras.layers import Dense, Dropout\n",
    "from tensorflow.keras.callbacks import EarlyStopping"
   ]
  },
  {
   "cell_type": "code",
   "execution_count": 22,
   "id": "e8c74dd0-5ff8-4634-b793-07f43a109842",
   "metadata": {},
   "outputs": [],
   "source": [
    "early_stop = EarlyStopping(monitor=\"val_loss\",patience=20,mode=\"min\")"
   ]
  },
  {
   "cell_type": "code",
   "execution_count": 23,
   "id": "7db9b19d-f69f-40b7-bd9f-736263225f57",
   "metadata": {},
   "outputs": [
    {
     "name": "stderr",
     "output_type": "stream",
     "text": [
      "2022-04-11 22:31:15.662103: I tensorflow/core/platform/cpu_feature_guard.cc:151] This TensorFlow binary is optimized with oneAPI Deep Neural Network Library (oneDNN) to use the following CPU instructions in performance-critical operations:  AVX2 FMA\n",
      "To enable them in other operations, rebuild TensorFlow with the appropriate compiler flags.\n"
     ]
    }
   ],
   "source": [
    "model = Sequential()\n",
    "\n",
    "model.add(Dense(146,activation=\"sigmoid\"))\n",
    "model.add(Dense(73,activation=\"sigmoid\"))\n",
    "model.add(Dense(35,activation=\"sigmoid\"))\n",
    "\n",
    "### This is a binary classification\n",
    "\n",
    "model.add(Dense(1,activation=\"sigmoid\"))\n",
    "\n",
    "model.compile(optimizer=\"adam\",loss=\"binary_crossentropy\")"
   ]
  },
  {
   "cell_type": "code",
   "execution_count": 24,
   "id": "2263f039-acbc-44c7-8732-260ae4d00b90",
   "metadata": {},
   "outputs": [
    {
     "name": "stdout",
     "output_type": "stream",
     "text": [
      "Epoch 1/600\n",
      "7/7 [==============================] - 1s 23ms/step - loss: 0.8469 - val_loss: 0.6689\n",
      "Epoch 2/600\n",
      "7/7 [==============================] - 0s 4ms/step - loss: 0.6133 - val_loss: 0.5558\n",
      "Epoch 3/600\n",
      "7/7 [==============================] - 0s 5ms/step - loss: 0.5507 - val_loss: 0.5334\n",
      "Epoch 4/600\n",
      "7/7 [==============================] - 0s 5ms/step - loss: 0.5416 - val_loss: 0.5328\n",
      "Epoch 5/600\n",
      "7/7 [==============================] - 0s 6ms/step - loss: 0.5415 - val_loss: 0.5313\n",
      "Epoch 6/600\n",
      "7/7 [==============================] - 0s 6ms/step - loss: 0.5366 - val_loss: 0.5255\n",
      "Epoch 7/600\n",
      "7/7 [==============================] - 0s 6ms/step - loss: 0.5284 - val_loss: 0.5200\n",
      "Epoch 8/600\n",
      "7/7 [==============================] - 0s 5ms/step - loss: 0.5216 - val_loss: 0.5147\n",
      "Epoch 9/600\n",
      "7/7 [==============================] - 0s 5ms/step - loss: 0.5158 - val_loss: 0.5085\n",
      "Epoch 10/600\n",
      "7/7 [==============================] - 0s 6ms/step - loss: 0.5059 - val_loss: 0.4992\n",
      "Epoch 11/600\n",
      "7/7 [==============================] - 0s 5ms/step - loss: 0.4939 - val_loss: 0.4874\n",
      "Epoch 12/600\n",
      "7/7 [==============================] - 0s 5ms/step - loss: 0.4802 - val_loss: 0.4731\n",
      "Epoch 13/600\n",
      "7/7 [==============================] - 0s 5ms/step - loss: 0.4594 - val_loss: 0.4557\n",
      "Epoch 14/600\n",
      "7/7 [==============================] - 0s 4ms/step - loss: 0.4368 - val_loss: 0.4356\n",
      "Epoch 15/600\n",
      "7/7 [==============================] - 0s 5ms/step - loss: 0.4115 - val_loss: 0.4126\n",
      "Epoch 16/600\n",
      "7/7 [==============================] - 0s 4ms/step - loss: 0.3822 - val_loss: 0.3894\n",
      "Epoch 17/600\n",
      "7/7 [==============================] - 0s 5ms/step - loss: 0.3532 - val_loss: 0.3683\n",
      "Epoch 18/600\n",
      "7/7 [==============================] - 0s 5ms/step - loss: 0.3271 - val_loss: 0.3490\n",
      "Epoch 19/600\n",
      "7/7 [==============================] - 0s 5ms/step - loss: 0.3038 - val_loss: 0.3337\n",
      "Epoch 20/600\n",
      "7/7 [==============================] - 0s 5ms/step - loss: 0.2820 - val_loss: 0.3205\n",
      "Epoch 21/600\n",
      "7/7 [==============================] - 0s 5ms/step - loss: 0.2625 - val_loss: 0.3087\n",
      "Epoch 22/600\n",
      "7/7 [==============================] - 0s 5ms/step - loss: 0.2476 - val_loss: 0.2993\n",
      "Epoch 23/600\n",
      "7/7 [==============================] - 0s 4ms/step - loss: 0.2347 - val_loss: 0.2913\n",
      "Epoch 24/600\n",
      "7/7 [==============================] - 0s 5ms/step - loss: 0.2232 - val_loss: 0.2880\n",
      "Epoch 25/600\n",
      "7/7 [==============================] - 0s 5ms/step - loss: 0.2136 - val_loss: 0.2822\n",
      "Epoch 26/600\n",
      "7/7 [==============================] - 0s 4ms/step - loss: 0.2049 - val_loss: 0.2778\n",
      "Epoch 27/600\n",
      "7/7 [==============================] - 0s 5ms/step - loss: 0.1996 - val_loss: 0.2769\n",
      "Epoch 28/600\n",
      "7/7 [==============================] - 0s 5ms/step - loss: 0.1926 - val_loss: 0.2732\n",
      "Epoch 29/600\n",
      "7/7 [==============================] - 0s 5ms/step - loss: 0.1861 - val_loss: 0.2741\n",
      "Epoch 30/600\n",
      "7/7 [==============================] - 0s 5ms/step - loss: 0.1825 - val_loss: 0.2710\n",
      "Epoch 31/600\n",
      "7/7 [==============================] - 0s 5ms/step - loss: 0.1764 - val_loss: 0.2688\n",
      "Epoch 32/600\n",
      "7/7 [==============================] - 0s 5ms/step - loss: 0.1713 - val_loss: 0.2643\n",
      "Epoch 33/600\n",
      "7/7 [==============================] - 0s 5ms/step - loss: 0.1684 - val_loss: 0.2610\n",
      "Epoch 34/600\n",
      "7/7 [==============================] - 0s 5ms/step - loss: 0.1655 - val_loss: 0.2573\n",
      "Epoch 35/600\n",
      "7/7 [==============================] - 0s 5ms/step - loss: 0.1605 - val_loss: 0.2535\n",
      "Epoch 36/600\n",
      "7/7 [==============================] - 0s 5ms/step - loss: 0.1604 - val_loss: 0.2504\n",
      "Epoch 37/600\n",
      "7/7 [==============================] - 0s 5ms/step - loss: 0.1533 - val_loss: 0.2492\n",
      "Epoch 38/600\n",
      "7/7 [==============================] - 0s 5ms/step - loss: 0.1517 - val_loss: 0.2440\n",
      "Epoch 39/600\n",
      "7/7 [==============================] - 0s 5ms/step - loss: 0.1468 - val_loss: 0.2375\n",
      "Epoch 40/600\n",
      "7/7 [==============================] - 0s 5ms/step - loss: 0.1484 - val_loss: 0.2382\n",
      "Epoch 41/600\n",
      "7/7 [==============================] - 0s 5ms/step - loss: 0.1428 - val_loss: 0.2333\n",
      "Epoch 42/600\n",
      "7/7 [==============================] - 0s 5ms/step - loss: 0.1392 - val_loss: 0.2323\n",
      "Epoch 43/600\n",
      "7/7 [==============================] - 0s 5ms/step - loss: 0.1368 - val_loss: 0.2289\n",
      "Epoch 44/600\n",
      "7/7 [==============================] - 0s 5ms/step - loss: 0.1350 - val_loss: 0.2256\n",
      "Epoch 45/600\n",
      "7/7 [==============================] - 0s 5ms/step - loss: 0.1344 - val_loss: 0.2294\n",
      "Epoch 46/600\n",
      "7/7 [==============================] - 0s 5ms/step - loss: 0.1316 - val_loss: 0.2230\n",
      "Epoch 47/600\n",
      "7/7 [==============================] - 0s 5ms/step - loss: 0.1254 - val_loss: 0.2223\n",
      "Epoch 48/600\n",
      "7/7 [==============================] - 0s 5ms/step - loss: 0.1299 - val_loss: 0.2186\n",
      "Epoch 49/600\n",
      "7/7 [==============================] - 0s 5ms/step - loss: 0.1257 - val_loss: 0.2150\n",
      "Epoch 50/600\n",
      "7/7 [==============================] - 0s 6ms/step - loss: 0.1217 - val_loss: 0.2150\n",
      "Epoch 51/600\n",
      "7/7 [==============================] - 0s 5ms/step - loss: 0.1227 - val_loss: 0.2158\n",
      "Epoch 52/600\n",
      "7/7 [==============================] - 0s 5ms/step - loss: 0.1199 - val_loss: 0.2099\n",
      "Epoch 53/600\n",
      "7/7 [==============================] - 0s 5ms/step - loss: 0.1190 - val_loss: 0.2078\n",
      "Epoch 54/600\n",
      "7/7 [==============================] - 0s 5ms/step - loss: 0.1159 - val_loss: 0.2095\n",
      "Epoch 55/600\n",
      "7/7 [==============================] - 0s 5ms/step - loss: 0.1165 - val_loss: 0.2116\n",
      "Epoch 56/600\n",
      "7/7 [==============================] - 0s 5ms/step - loss: 0.1155 - val_loss: 0.2080\n",
      "Epoch 57/600\n",
      "7/7 [==============================] - 0s 5ms/step - loss: 0.1140 - val_loss: 0.2094\n",
      "Epoch 58/600\n",
      "7/7 [==============================] - 0s 5ms/step - loss: 0.1133 - val_loss: 0.2097\n",
      "Epoch 59/600\n",
      "7/7 [==============================] - 0s 5ms/step - loss: 0.1104 - val_loss: 0.2066\n",
      "Epoch 60/600\n",
      "7/7 [==============================] - 0s 5ms/step - loss: 0.1091 - val_loss: 0.2080\n",
      "Epoch 61/600\n",
      "7/7 [==============================] - 0s 5ms/step - loss: 0.1081 - val_loss: 0.2079\n",
      "Epoch 62/600\n",
      "7/7 [==============================] - 0s 5ms/step - loss: 0.1074 - val_loss: 0.2071\n",
      "Epoch 63/600\n",
      "7/7 [==============================] - 0s 5ms/step - loss: 0.1065 - val_loss: 0.2088\n",
      "Epoch 64/600\n",
      "7/7 [==============================] - 0s 5ms/step - loss: 0.1049 - val_loss: 0.2082\n",
      "Epoch 65/600\n",
      "7/7 [==============================] - 0s 5ms/step - loss: 0.1040 - val_loss: 0.2103\n",
      "Epoch 66/600\n",
      "7/7 [==============================] - 0s 5ms/step - loss: 0.1034 - val_loss: 0.2132\n",
      "Epoch 67/600\n",
      "7/7 [==============================] - 0s 5ms/step - loss: 0.1033 - val_loss: 0.2091\n",
      "Epoch 68/600\n",
      "7/7 [==============================] - 0s 5ms/step - loss: 0.1009 - val_loss: 0.2136\n",
      "Epoch 69/600\n",
      "7/7 [==============================] - 0s 5ms/step - loss: 0.1008 - val_loss: 0.2146\n",
      "Epoch 70/600\n",
      "7/7 [==============================] - 0s 5ms/step - loss: 0.1000 - val_loss: 0.2132\n",
      "Epoch 71/600\n",
      "7/7 [==============================] - 0s 5ms/step - loss: 0.0970 - val_loss: 0.2118\n",
      "Epoch 72/600\n",
      "7/7 [==============================] - 0s 5ms/step - loss: 0.0967 - val_loss: 0.2099\n",
      "Epoch 73/600\n",
      "7/7 [==============================] - 0s 5ms/step - loss: 0.0956 - val_loss: 0.2123\n",
      "Epoch 74/600\n",
      "7/7 [==============================] - 0s 5ms/step - loss: 0.0952 - val_loss: 0.2119\n",
      "Epoch 75/600\n",
      "7/7 [==============================] - 0s 5ms/step - loss: 0.0914 - val_loss: 0.2006\n",
      "Epoch 76/600\n",
      "7/7 [==============================] - 0s 5ms/step - loss: 0.0908 - val_loss: 0.1987\n",
      "Epoch 77/600\n",
      "7/7 [==============================] - 0s 5ms/step - loss: 0.0888 - val_loss: 0.1984\n",
      "Epoch 78/600\n",
      "7/7 [==============================] - 0s 5ms/step - loss: 0.0865 - val_loss: 0.1985\n",
      "Epoch 79/600\n",
      "7/7 [==============================] - 0s 5ms/step - loss: 0.0868 - val_loss: 0.2019\n",
      "Epoch 80/600\n",
      "7/7 [==============================] - 0s 5ms/step - loss: 0.0840 - val_loss: 0.1938\n",
      "Epoch 81/600\n",
      "7/7 [==============================] - 0s 5ms/step - loss: 0.0864 - val_loss: 0.1995\n",
      "Epoch 82/600\n",
      "7/7 [==============================] - 0s 4ms/step - loss: 0.0888 - val_loss: 0.1992\n",
      "Epoch 83/600\n",
      "7/7 [==============================] - 0s 5ms/step - loss: 0.0880 - val_loss: 0.2143\n",
      "Epoch 84/600\n",
      "7/7 [==============================] - 0s 5ms/step - loss: 0.0829 - val_loss: 0.2065\n",
      "Epoch 85/600\n",
      "7/7 [==============================] - 0s 5ms/step - loss: 0.0834 - val_loss: 0.1953\n",
      "Epoch 86/600\n",
      "7/7 [==============================] - 0s 5ms/step - loss: 0.0830 - val_loss: 0.2026\n",
      "Epoch 87/600\n",
      "7/7 [==============================] - 0s 5ms/step - loss: 0.0847 - val_loss: 0.2109\n",
      "Epoch 88/600\n",
      "7/7 [==============================] - 0s 4ms/step - loss: 0.0857 - val_loss: 0.1968\n",
      "Epoch 89/600\n",
      "7/7 [==============================] - 0s 4ms/step - loss: 0.0837 - val_loss: 0.2217\n",
      "Epoch 90/600\n",
      "7/7 [==============================] - 0s 5ms/step - loss: 0.0823 - val_loss: 0.1987\n",
      "Epoch 91/600\n",
      "7/7 [==============================] - 0s 5ms/step - loss: 0.0937 - val_loss: 0.1931\n",
      "Epoch 92/600\n",
      "7/7 [==============================] - 0s 4ms/step - loss: 0.0883 - val_loss: 0.2346\n",
      "Epoch 93/600\n",
      "7/7 [==============================] - 0s 5ms/step - loss: 0.0817 - val_loss: 0.2114\n",
      "Epoch 94/600\n",
      "7/7 [==============================] - 0s 5ms/step - loss: 0.0834 - val_loss: 0.2043\n",
      "Epoch 95/600\n",
      "7/7 [==============================] - 0s 4ms/step - loss: 0.0819 - val_loss: 0.2169\n",
      "Epoch 96/600\n",
      "7/7 [==============================] - 0s 4ms/step - loss: 0.0814 - val_loss: 0.2166\n",
      "Epoch 97/600\n",
      "7/7 [==============================] - 0s 5ms/step - loss: 0.0795 - val_loss: 0.2121\n",
      "Epoch 98/600\n",
      "7/7 [==============================] - 0s 5ms/step - loss: 0.0815 - val_loss: 0.2170\n",
      "Epoch 99/600\n",
      "7/7 [==============================] - 0s 5ms/step - loss: 0.0846 - val_loss: 0.2457\n",
      "Epoch 100/600\n",
      "7/7 [==============================] - 0s 4ms/step - loss: 0.0773 - val_loss: 0.2153\n",
      "Epoch 101/600\n",
      "7/7 [==============================] - 0s 5ms/step - loss: 0.0845 - val_loss: 0.2023\n",
      "Epoch 102/600\n",
      "7/7 [==============================] - 0s 5ms/step - loss: 0.0798 - val_loss: 0.2224\n",
      "Epoch 103/600\n",
      "7/7 [==============================] - 0s 4ms/step - loss: 0.0848 - val_loss: 0.2407\n",
      "Epoch 104/600\n",
      "7/7 [==============================] - 0s 5ms/step - loss: 0.0812 - val_loss: 0.2012\n",
      "Epoch 105/600\n",
      "7/7 [==============================] - 0s 5ms/step - loss: 0.0799 - val_loss: 0.2251\n",
      "Epoch 106/600\n",
      "7/7 [==============================] - 0s 4ms/step - loss: 0.0796 - val_loss: 0.2312\n",
      "Epoch 107/600\n",
      "7/7 [==============================] - 0s 5ms/step - loss: 0.0814 - val_loss: 0.2254\n",
      "Epoch 108/600\n",
      "7/7 [==============================] - 0s 4ms/step - loss: 0.0775 - val_loss: 0.2524\n",
      "Epoch 109/600\n",
      "7/7 [==============================] - 0s 4ms/step - loss: 0.0776 - val_loss: 0.2245\n",
      "Epoch 110/600\n",
      "7/7 [==============================] - 0s 5ms/step - loss: 0.0844 - val_loss: 0.2069\n",
      "Epoch 111/600\n",
      "7/7 [==============================] - 0s 5ms/step - loss: 0.0787 - val_loss: 0.2437\n"
     ]
    },
    {
     "data": {
      "text/plain": [
       "<keras.callbacks.History at 0x157309dc0>"
      ]
     },
     "execution_count": 24,
     "metadata": {},
     "output_type": "execute_result"
    }
   ],
   "source": [
    "model.fit(X_train,y_train,epochs=600,validation_data=(X_test,y_test),callbacks=[early_stop])"
   ]
  },
  {
   "cell_type": "code",
   "execution_count": 25,
   "id": "66dffce6-c1e4-4770-a2ba-6b014a3a85e6",
   "metadata": {},
   "outputs": [
    {
     "data": {
      "text/plain": [
       "<AxesSubplot:>"
      ]
     },
     "execution_count": 25,
     "metadata": {},
     "output_type": "execute_result"
    },
    {
     "data": {
      "image/png": "[encoded data removed]",
      "text/plain": [
       "<Figure size 432x288 with 1 Axes>"
      ]
     },
     "metadata": {
      "needs_background": "light"
     },
     "output_type": "display_data"
    }
   ],
   "source": [
    "loss = pd.DataFrame(model.history.history)\n",
    "loss.plot()"
   ]
  },
  {
   "cell_type": "code",
   "execution_count": 36,
   "id": "b2c8fa32-291d-401e-9386-324dcde1e8cc",
   "metadata": {},
   "outputs": [],
   "source": [
    "model= Sequential()\n",
    "\n",
    "model.add(Dense(146,activation=\"sigmoid\"))\n",
    "model_.add(Dropout(0.5))\n",
    "model.add(Dense(73,activation=\"sigmoid\"))\n",
    "model_.add(Dropout(0.5))\n",
    "model.add(Dense(53,activation=\"sigmoid\"))\n",
    "model_.add(Dropout(0.5))\n",
    "model.add(Dense(22,activation=\"sigmoid\"))\n",
    "### This is a binary classification\n",
    "\n",
    "model.add(Dense(1,activation=\"sigmoid\"))\n",
    "\n",
    "model.compile(optimizer=\"adam\",loss=\"binary_crossentropy\")"
   ]
  },
  {
   "cell_type": "code",
   "execution_count": 37,
   "id": "18dd58de-fa0b-49c0-884c-88f29bdfedc9",
   "metadata": {},
   "outputs": [
    {
     "name": "stdout",
     "output_type": "stream",
     "text": [
      "Epoch 1/600\n",
      "4/4 [==============================] - 0s 37ms/step - loss: 0.6026 - val_loss: 0.5667\n",
      "Epoch 2/600\n",
      "4/4 [==============================] - 0s 8ms/step - loss: 0.5675 - val_loss: 0.5475\n",
      "Epoch 3/600\n",
      "4/4 [==============================] - 0s 10ms/step - loss: 0.5540 - val_loss: 0.5398\n",
      "Epoch 4/600\n",
      "4/4 [==============================] - 0s 9ms/step - loss: 0.5467 - val_loss: 0.5381\n",
      "Epoch 5/600\n",
      "4/4 [==============================] - 0s 8ms/step - loss: 0.5453 - val_loss: 0.5370\n",
      "Epoch 6/600\n",
      "4/4 [==============================] - 0s 9ms/step - loss: 0.5447 - val_loss: 0.5361\n",
      "Epoch 7/600\n",
      "4/4 [==============================] - 0s 10ms/step - loss: 0.5433 - val_loss: 0.5349\n",
      "Epoch 8/600\n",
      "4/4 [==============================] - 0s 10ms/step - loss: 0.5417 - val_loss: 0.5335\n",
      "Epoch 9/600\n",
      "4/4 [==============================] - 0s 11ms/step - loss: 0.5396 - val_loss: 0.5318\n",
      "Epoch 10/600\n",
      "4/4 [==============================] - 0s 10ms/step - loss: 0.5373 - val_loss: 0.5298\n",
      "Epoch 11/600\n",
      "4/4 [==============================] - 0s 10ms/step - loss: 0.5346 - val_loss: 0.5274\n",
      "Epoch 12/600\n",
      "4/4 [==============================] - 0s 9ms/step - loss: 0.5307 - val_loss: 0.5235\n",
      "Epoch 13/600\n",
      "4/4 [==============================] - 0s 9ms/step - loss: 0.5252 - val_loss: 0.5178\n",
      "Epoch 14/600\n",
      "4/4 [==============================] - 0s 8ms/step - loss: 0.5186 - val_loss: 0.5107\n",
      "Epoch 15/600\n",
      "4/4 [==============================] - 0s 8ms/step - loss: 0.5084 - val_loss: 0.5013\n",
      "Epoch 16/600\n",
      "4/4 [==============================] - 0s 7ms/step - loss: 0.4968 - val_loss: 0.4899\n",
      "Epoch 17/600\n",
      "4/4 [==============================] - 0s 8ms/step - loss: 0.4818 - val_loss: 0.4763\n",
      "Epoch 18/600\n",
      "4/4 [==============================] - 0s 8ms/step - loss: 0.4642 - val_loss: 0.4607\n",
      "Epoch 19/600\n",
      "4/4 [==============================] - 0s 8ms/step - loss: 0.4452 - val_loss: 0.4432\n",
      "Epoch 20/600\n",
      "4/4 [==============================] - 0s 8ms/step - loss: 0.4219 - val_loss: 0.4251\n",
      "Epoch 21/600\n",
      "4/4 [==============================] - 0s 8ms/step - loss: 0.3990 - val_loss: 0.4072\n",
      "Epoch 22/600\n",
      "4/4 [==============================] - 0s 8ms/step - loss: 0.3748 - val_loss: 0.3866\n",
      "Epoch 23/600\n",
      "4/4 [==============================] - 0s 8ms/step - loss: 0.3473 - val_loss: 0.3671\n",
      "Epoch 24/600\n",
      "4/4 [==============================] - 0s 8ms/step - loss: 0.3244 - val_loss: 0.3504\n",
      "Epoch 25/600\n",
      "4/4 [==============================] - 0s 8ms/step - loss: 0.3021 - val_loss: 0.3364\n",
      "Epoch 26/600\n",
      "4/4 [==============================] - 0s 8ms/step - loss: 0.2823 - val_loss: 0.3249\n",
      "Epoch 27/600\n",
      "4/4 [==============================] - 0s 7ms/step - loss: 0.2670 - val_loss: 0.3152\n",
      "Epoch 28/600\n",
      "4/4 [==============================] - 0s 8ms/step - loss: 0.2541 - val_loss: 0.3063\n",
      "Epoch 29/600\n",
      "4/4 [==============================] - 0s 8ms/step - loss: 0.2410 - val_loss: 0.2986\n",
      "Epoch 30/600\n",
      "4/4 [==============================] - 0s 7ms/step - loss: 0.2315 - val_loss: 0.2934\n",
      "Epoch 31/600\n",
      "4/4 [==============================] - 0s 8ms/step - loss: 0.2232 - val_loss: 0.2888\n",
      "Epoch 32/600\n",
      "4/4 [==============================] - 0s 8ms/step - loss: 0.2158 - val_loss: 0.2847\n",
      "Epoch 33/600\n",
      "4/4 [==============================] - 0s 8ms/step - loss: 0.2089 - val_loss: 0.2818\n",
      "Epoch 34/600\n",
      "4/4 [==============================] - 0s 8ms/step - loss: 0.2025 - val_loss: 0.2807\n",
      "Epoch 35/600\n",
      "4/4 [==============================] - 0s 9ms/step - loss: 0.1977 - val_loss: 0.2790\n",
      "Epoch 36/600\n",
      "4/4 [==============================] - 0s 8ms/step - loss: 0.1916 - val_loss: 0.2745\n",
      "Epoch 37/600\n",
      "4/4 [==============================] - 0s 8ms/step - loss: 0.1871 - val_loss: 0.2739\n",
      "Epoch 38/600\n",
      "4/4 [==============================] - 0s 8ms/step - loss: 0.1821 - val_loss: 0.2722\n",
      "Epoch 39/600\n",
      "4/4 [==============================] - 0s 8ms/step - loss: 0.1778 - val_loss: 0.2702\n",
      "Epoch 40/600\n",
      "4/4 [==============================] - 0s 8ms/step - loss: 0.1762 - val_loss: 0.2676\n",
      "Epoch 41/600\n",
      "4/4 [==============================] - 0s 8ms/step - loss: 0.1720 - val_loss: 0.2655\n",
      "Epoch 42/600\n",
      "4/4 [==============================] - 0s 7ms/step - loss: 0.1675 - val_loss: 0.2646\n",
      "Epoch 43/600\n",
      "4/4 [==============================] - 0s 8ms/step - loss: 0.1643 - val_loss: 0.2635\n",
      "Epoch 44/600\n",
      "4/4 [==============================] - 0s 8ms/step - loss: 0.1619 - val_loss: 0.2641\n",
      "Epoch 45/600\n",
      "4/4 [==============================] - 0s 7ms/step - loss: 0.1572 - val_loss: 0.2595\n",
      "Epoch 46/600\n",
      "4/4 [==============================] - 0s 7ms/step - loss: 0.1564 - val_loss: 0.2603\n",
      "Epoch 47/600\n",
      "4/4 [==============================] - 0s 8ms/step - loss: 0.1551 - val_loss: 0.2589\n",
      "Epoch 48/600\n",
      "4/4 [==============================] - 0s 8ms/step - loss: 0.1514 - val_loss: 0.2590\n",
      "Epoch 49/600\n",
      "4/4 [==============================] - 0s 8ms/step - loss: 0.1481 - val_loss: 0.2552\n",
      "Epoch 50/600\n",
      "4/4 [==============================] - 0s 9ms/step - loss: 0.1465 - val_loss: 0.2528\n",
      "Epoch 51/600\n",
      "4/4 [==============================] - 0s 8ms/step - loss: 0.1444 - val_loss: 0.2516\n",
      "Epoch 52/600\n",
      "4/4 [==============================] - 0s 8ms/step - loss: 0.1445 - val_loss: 0.2506\n",
      "Epoch 53/600\n",
      "4/4 [==============================] - 0s 8ms/step - loss: 0.1438 - val_loss: 0.2466\n",
      "Epoch 54/600\n",
      "4/4 [==============================] - 0s 8ms/step - loss: 0.1430 - val_loss: 0.2430\n",
      "Epoch 55/600\n",
      "4/4 [==============================] - 0s 8ms/step - loss: 0.1384 - val_loss: 0.2418\n",
      "Epoch 56/600\n",
      "4/4 [==============================] - 0s 8ms/step - loss: 0.1382 - val_loss: 0.2431\n",
      "Epoch 57/600\n",
      "4/4 [==============================] - 0s 8ms/step - loss: 0.1369 - val_loss: 0.2422\n",
      "Epoch 58/600\n",
      "4/4 [==============================] - 0s 8ms/step - loss: 0.1347 - val_loss: 0.2420\n",
      "Epoch 59/600\n",
      "4/4 [==============================] - 0s 7ms/step - loss: 0.1298 - val_loss: 0.2428\n",
      "Epoch 60/600\n",
      "4/4 [==============================] - 0s 8ms/step - loss: 0.1278 - val_loss: 0.2407\n",
      "Epoch 61/600\n",
      "4/4 [==============================] - 0s 9ms/step - loss: 0.1253 - val_loss: 0.2371\n",
      "Epoch 62/600\n",
      "4/4 [==============================] - 0s 7ms/step - loss: 0.1231 - val_loss: 0.2334\n",
      "Epoch 63/600\n",
      "4/4 [==============================] - 0s 8ms/step - loss: 0.1207 - val_loss: 0.2305\n",
      "Epoch 64/600\n",
      "4/4 [==============================] - 0s 8ms/step - loss: 0.1212 - val_loss: 0.2287\n",
      "Epoch 65/600\n",
      "4/4 [==============================] - 0s 7ms/step - loss: 0.1190 - val_loss: 0.2244\n",
      "Epoch 66/600\n",
      "4/4 [==============================] - 0s 8ms/step - loss: 0.1197 - val_loss: 0.2194\n",
      "Epoch 67/600\n",
      "4/4 [==============================] - 0s 8ms/step - loss: 0.1219 - val_loss: 0.2160\n",
      "Epoch 68/600\n",
      "4/4 [==============================] - 0s 8ms/step - loss: 0.1188 - val_loss: 0.2059\n",
      "Epoch 69/600\n",
      "4/4 [==============================] - 0s 8ms/step - loss: 0.1131 - val_loss: 0.2069\n",
      "Epoch 70/600\n",
      "4/4 [==============================] - 0s 8ms/step - loss: 0.1104 - val_loss: 0.2126\n",
      "Epoch 71/600\n",
      "4/4 [==============================] - 0s 8ms/step - loss: 0.1147 - val_loss: 0.2290\n",
      "Epoch 72/600\n",
      "4/4 [==============================] - 0s 8ms/step - loss: 0.1157 - val_loss: 0.2136\n",
      "Epoch 73/600\n",
      "4/4 [==============================] - 0s 7ms/step - loss: 0.1086 - val_loss: 0.2240\n",
      "Epoch 74/600\n",
      "4/4 [==============================] - 0s 8ms/step - loss: 0.1177 - val_loss: 0.2348\n",
      "Epoch 75/600\n",
      "4/4 [==============================] - 0s 8ms/step - loss: 0.1143 - val_loss: 0.2390\n",
      "Epoch 76/600\n",
      "4/4 [==============================] - 0s 7ms/step - loss: 0.1116 - val_loss: 0.2395\n",
      "Epoch 77/600\n",
      "4/4 [==============================] - 0s 8ms/step - loss: 0.1114 - val_loss: 0.2349\n",
      "Epoch 78/600\n",
      "4/4 [==============================] - 0s 8ms/step - loss: 0.1086 - val_loss: 0.2317\n",
      "Epoch 79/600\n",
      "4/4 [==============================] - 0s 8ms/step - loss: 0.1073 - val_loss: 0.2208\n",
      "Epoch 80/600\n",
      "4/4 [==============================] - 0s 7ms/step - loss: 0.1052 - val_loss: 0.2060\n",
      "Epoch 81/600\n",
      "4/4 [==============================] - 0s 7ms/step - loss: 0.1074 - val_loss: 0.1971\n",
      "Epoch 82/600\n",
      "4/4 [==============================] - 0s 9ms/step - loss: 0.1060 - val_loss: 0.1944\n",
      "Epoch 83/600\n",
      "4/4 [==============================] - 0s 8ms/step - loss: 0.1077 - val_loss: 0.1947\n",
      "Epoch 84/600\n",
      "4/4 [==============================] - 0s 7ms/step - loss: 0.1073 - val_loss: 0.1993\n",
      "Epoch 85/600\n",
      "4/4 [==============================] - 0s 8ms/step - loss: 0.1092 - val_loss: 0.2051\n",
      "Epoch 86/600\n",
      "4/4 [==============================] - 0s 8ms/step - loss: 0.1095 - val_loss: 0.2130\n",
      "Epoch 87/600\n",
      "4/4 [==============================] - 0s 8ms/step - loss: 0.1078 - val_loss: 0.2181\n",
      "Epoch 88/600\n",
      "4/4 [==============================] - 0s 8ms/step - loss: 0.1016 - val_loss: 0.2247\n",
      "Epoch 89/600\n",
      "4/4 [==============================] - 0s 7ms/step - loss: 0.1020 - val_loss: 0.2288\n",
      "Epoch 90/600\n",
      "4/4 [==============================] - 0s 8ms/step - loss: 0.1033 - val_loss: 0.2245\n",
      "Epoch 91/600\n",
      "4/4 [==============================] - 0s 8ms/step - loss: 0.1012 - val_loss: 0.2221\n",
      "Epoch 92/600\n",
      "4/4 [==============================] - 0s 8ms/step - loss: 0.1007 - val_loss: 0.2197\n",
      "Epoch 93/600\n",
      "4/4 [==============================] - 0s 7ms/step - loss: 0.1006 - val_loss: 0.2187\n",
      "Epoch 94/600\n",
      "4/4 [==============================] - 0s 8ms/step - loss: 0.0998 - val_loss: 0.2230\n",
      "Epoch 95/600\n",
      "4/4 [==============================] - 0s 8ms/step - loss: 0.1014 - val_loss: 0.2239\n",
      "Epoch 96/600\n",
      "4/4 [==============================] - 0s 8ms/step - loss: 0.1047 - val_loss: 0.2328\n",
      "Epoch 97/600\n",
      "4/4 [==============================] - 0s 7ms/step - loss: 0.1142 - val_loss: 0.2237\n",
      "Epoch 98/600\n",
      "4/4 [==============================] - 0s 8ms/step - loss: 0.1020 - val_loss: 0.2342\n",
      "Epoch 99/600\n",
      "4/4 [==============================] - 0s 8ms/step - loss: 0.1037 - val_loss: 0.2343\n",
      "Epoch 100/600\n",
      "4/4 [==============================] - 0s 8ms/step - loss: 0.1026 - val_loss: 0.2385\n",
      "Epoch 101/600\n",
      "4/4 [==============================] - 0s 8ms/step - loss: 0.1137 - val_loss: 0.2408\n",
      "Epoch 102/600\n",
      "4/4 [==============================] - 0s 8ms/step - loss: 0.1129 - val_loss: 0.2232\n"
     ]
    },
    {
     "data": {
      "text/plain": [
       "<keras.callbacks.History at 0x15975e280>"
      ]
     },
     "execution_count": 37,
     "metadata": {},
     "output_type": "execute_result"
    }
   ],
   "source": [
    "model.fit(X_train,y_train,epochs=600,validation_data=(X_test,y_test),callbacks=[early_stop],batch_size=64)"
   ]
  },
  {
   "cell_type": "code",
   "execution_count": 38,
   "id": "0ecfe5dc-85e9-44b9-80ef-ce837d2dc907",
   "metadata": {},
   "outputs": [
    {
     "data": {
      "text/plain": [
       "<AxesSubplot:>"
      ]
     },
     "execution_count": 38,
     "metadata": {},
     "output_type": "execute_result"
    },
    {
     "data": {
      "image/png": "[encoded data removed]",
      "text/plain": [
       "<Figure size 432x288 with 1 Axes>"
      ]
     },
     "metadata": {
      "needs_background": "light"
     },
     "output_type": "display_data"
    }
   ],
   "source": [
    "loss = pd.DataFrame(model.history.history)\n",
    "loss.plot()"
   ]
  },
  {
   "cell_type": "code",
   "execution_count": 44,
   "id": "99a89b8d-1772-42b9-936e-c23ef1ac268d",
   "metadata": {},
   "outputs": [],
   "source": [
    "y_pred= pd.DataFrame(model.predict(X_test) > 0.5).astype(\"int32\")"
   ]
  },
  {
   "cell_type": "code",
   "execution_count": 45,
   "id": "549ef478-aca8-41db-b6e6-29d80dab72a2",
   "metadata": {},
   "outputs": [
    {
     "data": {
      "text/plain": [
       "0.926829268292683"
      ]
     },
     "execution_count": 45,
     "metadata": {},
     "output_type": "execute_result"
    }
   ],
   "source": [
    "precision_score(y_test,y_pred)"
   ]
  },
  {
   "cell_type": "code",
   "execution_count": 47,
   "id": "f05542b4-2518-4620-9422-a85778acca94",
   "metadata": {},
   "outputs": [
    {
     "name": "stdout",
     "output_type": "stream",
     "text": [
      "              precision    recall  f1-score   support\n",
      "\n",
      "         0.0       0.82      0.75      0.78        12\n",
      "         1.0       0.93      0.95      0.94        40\n",
      "\n",
      "    accuracy                           0.90        52\n",
      "   macro avg       0.87      0.85      0.86        52\n",
      "weighted avg       0.90      0.90      0.90        52\n",
      "\n"
     ]
    }
   ],
   "source": [
    "print(classification_report(y_test,y_pred))"
   ]
  },
  {
   "cell_type": "code",
   "execution_count": null,
   "id": "890f7c11-1180-490b-9319-85ffed6496e0",
   "metadata": {},
   "outputs": [],
   "source": []
  },
  {
   "cell_type": "code",
   "execution_count": null,
   "id": "7f8fa612-b03c-47c5-a150-acc2e1c1994c",
   "metadata": {},
   "outputs": [],
   "source": []
  },
  {
   "cell_type": "code",
   "execution_count": null,
   "id": "68195776-ee7a-487d-b8e3-3db914d784c1",
   "metadata": {},
   "outputs": [],
   "source": []
  },
  {
   "cell_type": "code",
   "execution_count": null,
   "id": "decc1acc-9c69-4c21-be00-3d149856773e",
   "metadata": {},
   "outputs": [],
   "source": []
  },
  {
   "cell_type": "code",
   "execution_count": null,
   "id": "e6d62cb8-1bb1-4fdd-92aa-ce0beb9c0c58",
   "metadata": {},
   "outputs": [],
   "source": []
  },
  {
   "cell_type": "code",
   "execution_count": null,
   "id": "981b6d61-b055-4342-b582-680fe1d72a91",
   "metadata": {},
   "outputs": [],
   "source": []
  }
 ],
 "metadata": {
  "kernelspec": {
   "display_name": "Python 3 (ipykernel)",
   "language": "python",
   "name": "python3"
  },
  "language_info": {
   "codemirror_mode": {
    "name": "ipython",
    "version": 3
   },
   "file_extension": ".py",
   "mimetype": "text/x-python",
   "name": "python",
   "nbconvert_exporter": "python",
   "pygments_lexer": "ipython3",
   "version": "3.9.6"
  }
 },
 "nbformat": 4,
 "nbformat_minor": 5
}
